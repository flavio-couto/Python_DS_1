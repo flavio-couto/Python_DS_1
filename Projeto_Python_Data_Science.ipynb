{
  "nbformat": 4,
  "nbformat_minor": 0,
  "metadata": {
    "colab": {
      "provenance": [],
      "collapsed_sections": [
        "7SiB6JIpYKmY",
        "iP8uWQmFYFRs",
        "sLNVmnTbag1Z",
        "UqhzuBhBHsps",
        "KFq_8Sxf-OG0",
        "NwRaiHHHhhyl",
        "qXZqg9aYEhAh",
        "04T5g-7h4zWx",
        "aL1vJPewvwvz",
        "THSg4KYLwxIb",
        "d-iYr10-y4qw",
        "6C0tTFgY4VPv",
        "Rc22Vc08YDZ2",
        "LJ3o_inroxg_"
      ],
      "include_colab_link": true
    },
    "kernelspec": {
      "name": "python3",
      "display_name": "Python 3"
    },
    "language_info": {
      "name": "python"
    }
  },
  "cells": [
    {
      "cell_type": "markdown",
      "metadata": {
        "id": "view-in-github",
        "colab_type": "text"
      },
      "source": [
        "<a href=\"https://colab.research.google.com/github/flavio-couto/Python_DS_1/blob/main/Projeto_Python_Data_Science.ipynb\" target=\"_parent\"><img src=\"https://colab.research.google.com/assets/colab-badge.svg\" alt=\"Open In Colab\"/></a>"
      ]
    },
    {
      "cell_type": "markdown",
      "source": [
        "# Python para Data Science\n",
        "\n",
        "Notebook para o curso de Python para Data Science publicado na plataforma da [Alura](https://www.alura.com.br/)"
      ],
      "metadata": {
        "id": "lQx6Mmv0OJyT"
      }
    },
    {
      "cell_type": "markdown",
      "source": [
        "# Introdução ao Python\n",
        "\n",
        "Vamos conhecer o Python, nosso ambiente de estudo e também faremos nosso primeiro código nessa linguagem!"
      ],
      "metadata": {
        "id": "7SiB6JIpYKmY"
      }
    },
    {
      "cell_type": "markdown",
      "source": [
        "## Google Colaboratory\n",
        "\n",
        "Já aprendemos o que é o [Python](https://www.python.org/) agora vamos aprender a utilzar o [Google Colaboratory](https://colab.research.google.com/) e programar em um notebook.\n",
        "\n",
        "Vamos testar algumas funções dessa ferramenta."
      ],
      "metadata": {
        "id": "Yugfb3fCOYY9"
      }
    },
    {
      "cell_type": "markdown",
      "source": [
        " **`>>> Use essa célula para mover <<<`**"
      ],
      "metadata": {
        "id": "2iUHQsJasJAk"
      }
    },
    {
      "cell_type": "code",
      "source": [],
      "metadata": {
        "id": "tWQp3j7S6MTX"
      },
      "execution_count": null,
      "outputs": []
    },
    {
      "cell_type": "markdown",
      "source": [
        "## Olá mundo!\n",
        "\n",
        "Vamso conhecer mais como funciona o ambiente interativo de um notebook. Para isso vamos executar nosso primeiro comando em Python: [`print()`](https://docs.python.org/3/library/functions.html#print)"
      ],
      "metadata": {
        "id": "aLSFP2V7XTfe"
      }
    },
    {
      "cell_type": "code",
      "source": [
        "print('Olá Mundo')"
      ],
      "metadata": {
        "id": "5s5z5TeP6LDU",
        "colab": {
          "base_uri": "https://localhost:8080/"
        },
        "outputId": "870b3ba8-5687-4853-bd4b-49017b22d94a"
      },
      "execution_count": null,
      "outputs": [
        {
          "output_type": "stream",
          "name": "stdout",
          "text": [
            "Olá Mundo\n"
          ]
        }
      ]
    },
    {
      "cell_type": "code",
      "source": [
        "print(10)"
      ],
      "metadata": {
        "id": "tNeEkSW06K8X",
        "colab": {
          "base_uri": "https://localhost:8080/"
        },
        "outputId": "ed7b359c-9234-4391-914f-b3c8bcc5af84"
      },
      "execution_count": null,
      "outputs": [
        {
          "output_type": "stream",
          "name": "stdout",
          "text": [
            "10\n"
          ]
        }
      ]
    },
    {
      "cell_type": "code",
      "source": [
        "print('Escola de dados Alura')\n",
        "print('Nome: Flávio \\nSobrenome: Couto de Matos')"
      ],
      "metadata": {
        "id": "2sKZJ-PO6K0w",
        "colab": {
          "base_uri": "https://localhost:8080/"
        },
        "outputId": "015ba001-c676-4b8b-9c59-bee913952bb9"
      },
      "execution_count": null,
      "outputs": [
        {
          "output_type": "stream",
          "name": "stdout",
          "text": [
            "Escola de dados Alura\n",
            "Nome: Flávio \n",
            "Sobrenome: Couto de Matos\n"
          ]
        }
      ]
    },
    {
      "cell_type": "code",
      "source": [
        "print('F\\nL\\nA\\nV\\nI\\nO')"
      ],
      "metadata": {
        "colab": {
          "base_uri": "https://localhost:8080/"
        },
        "id": "YaOlkunGh6mT",
        "outputId": "23acdbc1-60f5-4d03-c76b-2cf1cc8d89b8"
      },
      "execution_count": null,
      "outputs": [
        {
          "output_type": "stream",
          "name": "stdout",
          "text": [
            "F\n",
            "L\n",
            "A\n",
            "V\n",
            "I\n",
            "O\n"
          ]
        }
      ]
    },
    {
      "cell_type": "markdown",
      "source": [
        "# Manipulando dados\n",
        "\n",
        "Vamos aprender sobre as variáveis no python, como elas são declaradas e utilizadas além de conhecer outros comandos dentro do Python. :D"
      ],
      "metadata": {
        "id": "iP8uWQmFYFRs"
      }
    },
    {
      "cell_type": "markdown",
      "source": [
        "## Variáveis\n",
        "\n",
        "Em Data Science nós trabalhamos com vários dados e informações, então é essencial saber trabalhar com variáveis."
      ],
      "metadata": {
        "id": "sLNVmnTbag1Z"
      }
    },
    {
      "cell_type": "markdown",
      "source": [
        "Criamos uma variável no python através da atribuição de um valor a ela.\n",
        "\n",
        "Para fazer isso, colocamos o nome da variável um sinal de igual (`=`) e o valor que queremos atribuir"
      ],
      "metadata": {
        "id": "lsCY0wahAbf6"
      }
    },
    {
      "cell_type": "code",
      "source": [
        "idade = 5"
      ],
      "metadata": {
        "id": "8J3pJghf57ZI"
      },
      "execution_count": null,
      "outputs": []
    },
    {
      "cell_type": "code",
      "source": [
        "print(idade)"
      ],
      "metadata": {
        "id": "Byehj1QR57S1",
        "colab": {
          "base_uri": "https://localhost:8080/"
        },
        "outputId": "c6008ef9-f892-48ae-afea-4327f337ce8b"
      },
      "execution_count": null,
      "outputs": [
        {
          "output_type": "stream",
          "name": "stdout",
          "text": [
            "5\n"
          ]
        }
      ]
    },
    {
      "cell_type": "code",
      "source": [
        "idade = 10\n",
        "idade"
      ],
      "metadata": {
        "id": "cMjXA8DO58Uj",
        "colab": {
          "base_uri": "https://localhost:8080/"
        },
        "outputId": "32f259af-2d38-4fa5-9988-2e2b8bd52cc8"
      },
      "execution_count": null,
      "outputs": [
        {
          "output_type": "execute_result",
          "data": {
            "text/plain": [
              "10"
            ]
          },
          "metadata": {},
          "execution_count": 8
        }
      ]
    },
    {
      "cell_type": "code",
      "source": [
        "idade=15\n",
        "idade"
      ],
      "metadata": {
        "id": "82qmrXyz58SD",
        "colab": {
          "base_uri": "https://localhost:8080/"
        },
        "outputId": "c41e262d-3070-4027-a807-94588ab1464a"
      },
      "execution_count": null,
      "outputs": [
        {
          "output_type": "execute_result",
          "data": {
            "text/plain": [
              "15"
            ]
          },
          "metadata": {},
          "execution_count": 9
        }
      ]
    },
    {
      "cell_type": "code",
      "source": [],
      "metadata": {
        "id": "h0QjCDb15z7-"
      },
      "execution_count": null,
      "outputs": []
    },
    {
      "cell_type": "markdown",
      "source": [
        "Nomes que **não** podemos definir para variáveis:\n",
        "\n",
        "- **Nomes que começam com números**\n",
        "  - Exemplos: `10_notas`, `2_nomes_casa`, etc.\n",
        "- **Palavras separada por espaço**\n",
        "  - Exemplos: `Nome escola`, `notas estudantes`, etc.\n",
        "- **Nomes de funções do Python**\n",
        "  - Exemplos: `print`, `type`, etc."
      ],
      "metadata": {
        "id": "om2N0jHKAzwL"
      }
    },
    {
      "cell_type": "markdown",
      "source": [
        "> Letras maiúsculas e minúsculas vão gerar diferentes variáveis. A varíavel `idade` é diferente de `Idade` que por sua vez também é diferente de `IDADE`:\n",
        "``` Python\n",
        "idade = 1\n",
        "Idade = 2\n",
        "IDADE = 3\n",
        "_idade = 4\n",
        "_idade_ = 5\n",
        "print(idade, Idade, IDADE, _idade, _idade_)\n",
        "1 2 3 4 5\n",
        "```"
      ],
      "metadata": {
        "id": "A19vY2GVMujB"
      }
    },
    {
      "cell_type": "markdown",
      "source": [
        "## Tipos de variáveis\n",
        "\n",
        "Cada variável contém uma classe especifica quanto ao tipo de objeto que ela está se referenciando. Essas classes vão ser diferentes a partir do tipo de dado que nós atribuimos a uma variável.\n",
        "\n",
        "Para saber a classe de cada elemento usamos a função [`type()`](https://docs.python.org/3/library/functions.html#type)"
      ],
      "metadata": {
        "id": "UqhzuBhBHsps"
      }
    },
    {
      "cell_type": "code",
      "source": [
        "i = 5\n",
        "type(i)"
      ],
      "metadata": {
        "id": "-tb-XRcq5v9W",
        "colab": {
          "base_uri": "https://localhost:8080/"
        },
        "outputId": "f4d56b89-b715-4b13-bf74-964be2bc8dc1"
      },
      "execution_count": null,
      "outputs": [
        {
          "output_type": "execute_result",
          "data": {
            "text/plain": [
              "int"
            ]
          },
          "metadata": {},
          "execution_count": 10
        }
      ]
    },
    {
      "cell_type": "code",
      "source": [
        "f = 5.5\n",
        "type(f)"
      ],
      "metadata": {
        "id": "5ncn48tw5vw2",
        "colab": {
          "base_uri": "https://localhost:8080/"
        },
        "outputId": "e3f38417-8f31-427a-e8aa-9c12d30df1e3"
      },
      "execution_count": null,
      "outputs": [
        {
          "output_type": "execute_result",
          "data": {
            "text/plain": [
              "float"
            ]
          },
          "metadata": {},
          "execution_count": 11
        }
      ]
    },
    {
      "cell_type": "code",
      "source": [
        "s = 'flavio'\n",
        "type(s)"
      ],
      "metadata": {
        "id": "PURhkDrw5vpB",
        "colab": {
          "base_uri": "https://localhost:8080/"
        },
        "outputId": "491659d8-c25f-4df1-e5b8-48774de62f0a"
      },
      "execution_count": null,
      "outputs": [
        {
          "output_type": "execute_result",
          "data": {
            "text/plain": [
              "str"
            ]
          },
          "metadata": {},
          "execution_count": 12
        }
      ]
    },
    {
      "cell_type": "code",
      "source": [
        "b = False\n",
        "type(b)"
      ],
      "metadata": {
        "id": "w0XcF4MC5vhw",
        "colab": {
          "base_uri": "https://localhost:8080/"
        },
        "outputId": "d84d24c7-4464-49cd-86e2-172bf48c3022"
      },
      "execution_count": null,
      "outputs": [
        {
          "output_type": "execute_result",
          "data": {
            "text/plain": [
              "bool"
            ]
          },
          "metadata": {},
          "execution_count": 13
        }
      ]
    },
    {
      "cell_type": "markdown",
      "source": [
        "Em um conjunto de dados escolares podemos ter vários tipos de informações. Digamos que tenhamos acesso à ficha de dados do aluno *Frabicio Daniel* como transformamos ela em variáveis no Python?\n",
        "\n",
        "#### Ficha:\n",
        "\n",
        "- Nome: Fabricio Daniel\n",
        "- Idade: 15 anos\n",
        "- Media do semestre: 8,45\n",
        "- Situação de aprovação: Verdadeira (aprovado)"
      ],
      "metadata": {
        "id": "O-FxDumfWu0C"
      }
    },
    {
      "cell_type": "code",
      "source": [],
      "metadata": {
        "id": "xZ3Exi2L5ozi"
      },
      "execution_count": null,
      "outputs": []
    },
    {
      "cell_type": "markdown",
      "source": [
        "## Variáveis numéricas\n",
        "\n",
        "Entre os tipos de dados numéricos vamos nos focar no tipo `inteiro` e `float`."
      ],
      "metadata": {
        "id": "KFq_8Sxf-OG0"
      }
    },
    {
      "cell_type": "markdown",
      "source": [
        "Temos uma tabela de informação de empregos quanto ao cargo, quantidade de pessoas empregadas e o salário correspondente:\n",
        "\n",
        "|Cargo | Quantidade | Salário|\n",
        "|---|---|---|\n",
        "|Segurança | 5 | 3000 |\n",
        "|Docente | 16| 6000|\n",
        "|Diretoria| 1 |12500|\n",
        "\n",
        "Precisamos trabalhar com esses dados fornecendo:\n",
        "\n",
        "- A quantidade total de empregados;\n",
        "- A diferença entre o salário mais baixo e mais alto; e\n",
        "- A média ponderada da faixa salarial da escola."
      ],
      "metadata": {
        "id": "8_HYUbkVYdQY"
      }
    },
    {
      "cell_type": "code",
      "source": [
        "q_seguranca = 5\n",
        "s_seguranca = 3000\n",
        "\n",
        "q_docente = 16\n",
        "s_docente = 6000\n",
        "\n",
        "q_diretoria = 1\n",
        "s_diretoria = 12500"
      ],
      "metadata": {
        "id": "xJIq5MRRZAlj"
      },
      "execution_count": null,
      "outputs": []
    },
    {
      "cell_type": "code",
      "source": [
        "total_empregados = q_seguranca + q_docente + q_diretoria\n",
        "total_empregados"
      ],
      "metadata": {
        "id": "pIgt-k6T5WpB",
        "colab": {
          "base_uri": "https://localhost:8080/"
        },
        "outputId": "e998fd3b-2d67-4a3d-b641-6f0e8d18b967"
      },
      "execution_count": null,
      "outputs": [
        {
          "output_type": "execute_result",
          "data": {
            "text/plain": [
              "22"
            ]
          },
          "metadata": {},
          "execution_count": 15
        }
      ]
    },
    {
      "cell_type": "code",
      "source": [
        "dif_salario = s_diretoria - s_seguranca\n",
        "dif_salario"
      ],
      "metadata": {
        "id": "bL9uGHvp5We5",
        "colab": {
          "base_uri": "https://localhost:8080/"
        },
        "outputId": "20768a6c-cc2a-4b32-cbbc-9e38954752bf"
      },
      "execution_count": null,
      "outputs": [
        {
          "output_type": "execute_result",
          "data": {
            "text/plain": [
              "9500"
            ]
          },
          "metadata": {},
          "execution_count": 16
        }
      ]
    },
    {
      "cell_type": "code",
      "source": [
        "media = (q_seguranca*s_seguranca + q_docente*s_docente + q_diretoria*s_diretoria) / total_empregados\n",
        "media"
      ],
      "metadata": {
        "id": "GpTS_c8_5WX_",
        "colab": {
          "base_uri": "https://localhost:8080/"
        },
        "outputId": "366d31b8-b602-4dca-ea87-845cc32841eb"
      },
      "execution_count": null,
      "outputs": [
        {
          "output_type": "execute_result",
          "data": {
            "text/plain": [
              "5613.636363636364"
            ]
          },
          "metadata": {},
          "execution_count": 17
        }
      ]
    },
    {
      "cell_type": "markdown",
      "source": [
        "## Strings"
      ],
      "metadata": {
        "id": "yQy7b0ZWoD-P"
      }
    },
    {
      "cell_type": "markdown",
      "source": [
        "Strings são caracterizada por ter um conjunto de caracteres formando um texto.\n",
        "\n",
        "Strigs podem ser criadas ao atribuirmos a uma variável um dado que esteja entre aspas simples (`'`) ou aspas duplas (`\"`)"
      ],
      "metadata": {
        "id": "vlo2-DXusv3s"
      }
    },
    {
      "cell_type": "code",
      "source": [
        "s1 = 'Alura'\n",
        "s2 = \"Alura\"\n",
        "print(type(s1), type(s2))\n"
      ],
      "metadata": {
        "id": "SSinaAb15FWn",
        "colab": {
          "base_uri": "https://localhost:8080/"
        },
        "outputId": "45f6c58b-d4fb-4ac8-a065-f7dbef6864ad"
      },
      "execution_count": null,
      "outputs": [
        {
          "output_type": "stream",
          "name": "stdout",
          "text": [
            "<class 'str'> <class 'str'>\n"
          ]
        }
      ]
    },
    {
      "cell_type": "markdown",
      "source": [
        "As variáveis textuais contém vários métodos que nos ajudam a formatar strings. Métódos podem ser executados ao definirmos um objeto seguindo a seguinte estrutura:\n",
        "\n",
        "```\n",
        "objeto.metodo()\n",
        "```\n",
        "\n",
        "Existem métodos que não necessitam dos `()`, é preciso verificar a documentação de cada caso."
      ],
      "metadata": {
        "id": "2e9UD_CCxqz_"
      }
    },
    {
      "cell_type": "markdown",
      "source": [
        "---\n",
        "**Situação:**\n",
        "\n",
        "Recebemos uma variável com o nome de uma professora da escola para inserimos no cadastro. No entanto, precisamos tratar esse texto antes de inserirmos no sistema"
      ],
      "metadata": {
        "id": "p6aPmMGP4tf9"
      }
    },
    {
      "cell_type": "code",
      "source": [
        "texto = '  Geovana Alessandra dias Sanyos '\n",
        "texto"
      ],
      "metadata": {
        "id": "4tkS8Iit1Ccg",
        "colab": {
          "base_uri": "https://localhost:8080/",
          "height": 35
        },
        "outputId": "85a2a1e0-6f02-47ed-9479-124bb1e63833"
      },
      "execution_count": null,
      "outputs": [
        {
          "output_type": "execute_result",
          "data": {
            "text/plain": [
              "'  Geovana Alessandra dias Sanyos '"
            ],
            "application/vnd.google.colaboratory.intrinsic+json": {
              "type": "string"
            }
          },
          "metadata": {},
          "execution_count": 19
        }
      ]
    },
    {
      "cell_type": "markdown",
      "source": [
        "O objetivo final é que o nome esteja da seguinte forma:\n",
        "\n",
        "```\n",
        "'GEOVANA ALESSANDRA DIAS SANTOS'\n",
        "```"
      ],
      "metadata": {
        "id": "Dg2ZXSZOGzjC"
      }
    },
    {
      "cell_type": "markdown",
      "source": [
        "### [`str.upper()` ](https://docs.python.org/3/library/stdtypes.html#str.upper)\n",
        "Converte uma string para maiúsculas"
      ],
      "metadata": {
        "id": "iVTAD8q702eN"
      }
    },
    {
      "cell_type": "code",
      "source": [
        "texto.upper()"
      ],
      "metadata": {
        "id": "sWMt1iWW5LdN",
        "colab": {
          "base_uri": "https://localhost:8080/",
          "height": 35
        },
        "outputId": "b6a14492-39e1-49ac-f22e-6ec50d86f95e"
      },
      "execution_count": null,
      "outputs": [
        {
          "output_type": "execute_result",
          "data": {
            "text/plain": [
              "'  GEOVANA ALESSANDRA DIAS SANYOS '"
            ],
            "application/vnd.google.colaboratory.intrinsic+json": {
              "type": "string"
            }
          },
          "metadata": {},
          "execution_count": 20
        }
      ]
    },
    {
      "cell_type": "markdown",
      "source": [
        "### [`str.lower()`](https://docs.python.org/3/library/stdtypes.html#str.lower)\n",
        "Método converte uma string para minúsculas."
      ],
      "metadata": {
        "id": "hbDSBtMV1TpG"
      }
    },
    {
      "cell_type": "code",
      "source": [
        "texto.lower()"
      ],
      "metadata": {
        "id": "ypSOC5WR5MTi",
        "colab": {
          "base_uri": "https://localhost:8080/",
          "height": 35
        },
        "outputId": "6bbe2c3a-b1fa-40be-cb98-31b1bf0f0017"
      },
      "execution_count": null,
      "outputs": [
        {
          "output_type": "execute_result",
          "data": {
            "text/plain": [
              "'  geovana alessandra dias sanyos '"
            ],
            "application/vnd.google.colaboratory.intrinsic+json": {
              "type": "string"
            }
          },
          "metadata": {},
          "execution_count": 21
        }
      ]
    },
    {
      "cell_type": "markdown",
      "source": [
        "### [`str.strip()`](https://docs.python.org/3/library/stdtypes.html#str.strip)\n",
        "Método remove os espaços em branco do início e do fim de uma string."
      ],
      "metadata": {
        "id": "kz47eWM11gii"
      }
    },
    {
      "cell_type": "code",
      "source": [
        "texto.strip()"
      ],
      "metadata": {
        "id": "Xys25o1N5NKD",
        "colab": {
          "base_uri": "https://localhost:8080/",
          "height": 35
        },
        "outputId": "e65c73a2-0551-4db1-9dd3-294005091054"
      },
      "execution_count": null,
      "outputs": [
        {
          "output_type": "execute_result",
          "data": {
            "text/plain": [
              "'Geovana Alessandra dias Sanyos'"
            ],
            "application/vnd.google.colaboratory.intrinsic+json": {
              "type": "string"
            }
          },
          "metadata": {},
          "execution_count": 22
        }
      ]
    },
    {
      "cell_type": "markdown",
      "source": [
        "### [`str.replace(antigo, novo)`](https://docs.python.org/3/library/stdtypes.html#str.replace)\n",
        "\n",
        "Método substitui todas as ocorrências do texto \"antigo\" na string por \"novo\""
      ],
      "metadata": {
        "id": "m6notiyS1SCV"
      }
    },
    {
      "cell_type": "code",
      "source": [
        "texto.replace('y','t') #Trocar para Santos"
      ],
      "metadata": {
        "id": "oY2mU2Id5OcO",
        "colab": {
          "base_uri": "https://localhost:8080/",
          "height": 35
        },
        "outputId": "ab6efbf6-3db3-428e-e430-577320ddc0c6"
      },
      "execution_count": null,
      "outputs": [
        {
          "output_type": "execute_result",
          "data": {
            "text/plain": [
              "'  Geovana Alessandra dias Santos '"
            ],
            "application/vnd.google.colaboratory.intrinsic+json": {
              "type": "string"
            }
          },
          "metadata": {},
          "execution_count": 23
        }
      ]
    },
    {
      "cell_type": "markdown",
      "source": [
        "### Observações\n",
        "\n",
        "1. Os métodos retornam uma **tranformação**, não a executam no texto!\n",
        "\n",
        "2. Além disso, podemos acumular a execução de métodos."
      ],
      "metadata": {
        "id": "zukvEjhG2Rcn"
      }
    },
    {
      "cell_type": "code",
      "source": [
        "texto"
      ],
      "metadata": {
        "id": "Q6O5y20u5PQk",
        "colab": {
          "base_uri": "https://localhost:8080/",
          "height": 35
        },
        "outputId": "05d2a4ac-60df-4e76-ac7f-219b4a9d9ebb"
      },
      "execution_count": null,
      "outputs": [
        {
          "output_type": "execute_result",
          "data": {
            "text/plain": [
              "'  Geovana Alessandra dias Sanyos '"
            ],
            "application/vnd.google.colaboratory.intrinsic+json": {
              "type": "string"
            }
          },
          "metadata": {},
          "execution_count": 24
        }
      ]
    },
    {
      "cell_type": "markdown",
      "source": [
        "Para que seja executada a transformação nós podemos atribuir às saídas das transformações à variável"
      ],
      "metadata": {
        "id": "1KbwfVut2h6I"
      }
    },
    {
      "cell_type": "code",
      "source": [
        "texto = texto.upper().strip().replace('y','t')\n",
        "texto"
      ],
      "metadata": {
        "id": "W6DiHv2H5Tq-",
        "colab": {
          "base_uri": "https://localhost:8080/",
          "height": 35
        },
        "outputId": "f88f3a03-318c-4146-a5b4-83a436f9af36"
      },
      "execution_count": null,
      "outputs": [
        {
          "output_type": "execute_result",
          "data": {
            "text/plain": [
              "'GEOVANA ALESSANDRA DIAS SANYOS'"
            ],
            "application/vnd.google.colaboratory.intrinsic+json": {
              "type": "string"
            }
          },
          "metadata": {},
          "execution_count": 25
        }
      ]
    },
    {
      "cell_type": "markdown",
      "source": [
        "## Coletando dados\n",
        "\n",
        "Em algumas aplicações precisamos coletar valores da pessoa usuária do nosso projeto. Em python conseguimos coletar dados de usuário através do comando [`input()`](https://docs.python.org/3/library/functions.html#input).\n",
        "\n",
        "Para fazer essa coleta podemos atribuir essa função à uma variável."
      ],
      "metadata": {
        "id": "0h9Fh5G9kHCa"
      }
    },
    {
      "cell_type": "code",
      "source": [
        "nome = input('Escreva seu nome:')"
      ],
      "metadata": {
        "id": "iEJyxhIj41id",
        "colab": {
          "base_uri": "https://localhost:8080/"
        },
        "outputId": "93e4c41b-81e0-436f-9fc1-84f7d80ebc29"
      },
      "execution_count": null,
      "outputs": [
        {
          "name": "stdout",
          "output_type": "stream",
          "text": [
            "Escreva seu nome:flavio\n"
          ]
        }
      ]
    },
    {
      "cell_type": "code",
      "source": [
        "type(nome)"
      ],
      "metadata": {
        "id": "MoMXzZkC41Ze",
        "colab": {
          "base_uri": "https://localhost:8080/"
        },
        "outputId": "bfc152b3-ed76-48fc-c728-b5cf6d33ad06"
      },
      "execution_count": null,
      "outputs": [
        {
          "output_type": "execute_result",
          "data": {
            "text/plain": [
              "str"
            ]
          },
          "metadata": {},
          "execution_count": 27
        }
      ]
    },
    {
      "cell_type": "markdown",
      "source": [
        "O retorno desse comando sempre será uma *string*. Isso quer dizer que mesmo que façamos uma coleta de algo que deva ser numérico, ele será uma string.\n",
        "\n",
        "Então, será preciso **converter o resultado caso não seja desejável obter uma string**."
      ],
      "metadata": {
        "id": "7z7hcLCk_aCY"
      }
    },
    {
      "cell_type": "markdown",
      "source": [
        "Existem funções para conversão de valores:\n",
        "\n",
        "- Inteiros: [`int(dado_para_conversao)`](https://docs.python.org/3/library/functions.html#int)\n",
        "- Float: [`float(dado_para_conversao)`](https://docs.python.org/3/library/functions.html#float)\n",
        "- String: [`str(dado_para_conversao)`](https://docs.python.org/3/library/functions.html#func-str)\n",
        "- Booleano: [`bool(dado_para_conversao)`](https://docs.python.org/3/library/functions.html#bool)"
      ],
      "metadata": {
        "id": "TOlegATj1Jfp"
      }
    },
    {
      "cell_type": "code",
      "source": [
        "ano_entrada = input('Escreva o ano de ingresso do(a) estudante: ')"
      ],
      "metadata": {
        "id": "MQRu7y9646S9",
        "colab": {
          "base_uri": "https://localhost:8080/"
        },
        "outputId": "468d60ad-87c1-4aea-848b-bac0b8a72aaa"
      },
      "execution_count": null,
      "outputs": [
        {
          "name": "stdout",
          "output_type": "stream",
          "text": [
            "Escreva o ano de ingresso do(a) estudante: 1985\n"
          ]
        }
      ]
    },
    {
      "cell_type": "code",
      "source": [
        "type(ano_entrada)"
      ],
      "metadata": {
        "id": "FwezgXQA48VF",
        "colab": {
          "base_uri": "https://localhost:8080/"
        },
        "outputId": "68e11777-3e29-4eaa-dd03-7e1fdc506e7c"
      },
      "execution_count": null,
      "outputs": [
        {
          "output_type": "execute_result",
          "data": {
            "text/plain": [
              "str"
            ]
          },
          "metadata": {},
          "execution_count": 29
        }
      ]
    },
    {
      "cell_type": "code",
      "source": [
        "ano_entrada = int(input('Digite o ano de ingresso do estudante'))"
      ],
      "metadata": {
        "id": "bbRqzmOJ49Q1",
        "colab": {
          "base_uri": "https://localhost:8080/"
        },
        "outputId": "6d19dc44-0ccd-4184-f9ca-d732f1fd092a"
      },
      "execution_count": null,
      "outputs": [
        {
          "name": "stdout",
          "output_type": "stream",
          "text": [
            "Digite o ano de ingresso do estudante2024\n"
          ]
        }
      ]
    },
    {
      "cell_type": "code",
      "source": [
        "type(ano_entrada)"
      ],
      "metadata": {
        "id": "nu5xycbG4-X1",
        "colab": {
          "base_uri": "https://localhost:8080/"
        },
        "outputId": "433e2e83-f78f-4713-8ff7-2e32aa9df06c"
      },
      "execution_count": null,
      "outputs": [
        {
          "output_type": "execute_result",
          "data": {
            "text/plain": [
              "int"
            ]
          },
          "metadata": {},
          "execution_count": 31
        }
      ]
    },
    {
      "cell_type": "markdown",
      "source": [
        "Buscaremos apresentar melhor agora o resultado que obtivemos da transformação. Nós conseguimos formatar e apresentar o nosso resultado misturando strings com valores não textuais.\n",
        "\n",
        "Para fazer isso usamos a estrutura de formatação `f` com strings."
      ],
      "metadata": {
        "id": "yNI2-XTbB3aS"
      }
    },
    {
      "cell_type": "code",
      "source": [
        "nota_entrada = float(input('Digite a nota do teste de ingresso: '))"
      ],
      "metadata": {
        "id": "b1eYnEX-4wXz",
        "colab": {
          "base_uri": "https://localhost:8080/"
        },
        "outputId": "c2b9edff-c631-4d9b-8cbf-eda79b9b456d"
      },
      "execution_count": null,
      "outputs": [
        {
          "name": "stdout",
          "output_type": "stream",
          "text": [
            "Digite a nota do teste de ingresso: 8.5\n"
          ]
        }
      ]
    },
    {
      "cell_type": "code",
      "source": [
        "print(f'O ano de entrada é {ano_entrada} e a nota foi {nota_entrada}')"
      ],
      "metadata": {
        "colab": {
          "base_uri": "https://localhost:8080/"
        },
        "id": "HKH7zRuas0iv",
        "outputId": "e98cedf1-aed0-46a0-e817-43298b856d4d"
      },
      "execution_count": null,
      "outputs": [
        {
          "output_type": "stream",
          "name": "stdout",
          "text": [
            "O ano de entrada é 2024 e a nota foi 8.5\n"
          ]
        }
      ]
    },
    {
      "cell_type": "markdown",
      "source": [
        "### Desafio: Manipulando dados no Python"
      ],
      "metadata": {
        "id": "7ky01T7VX4hB"
      }
    },
    {
      "cell_type": "code",
      "source": [
        "\n",
        "#Crie um programa que solicite à pessoa usuária digitar seu nome, e imprima “Olá, [nome]!”.\n",
        "nome = input('Digite seu nome:')\n",
        "print(nome)\n"
      ],
      "metadata": {
        "colab": {
          "base_uri": "https://localhost:8080/"
        },
        "id": "dbcQunSJXZEn",
        "outputId": "a24bdc09-e28d-4ac2-984c-88e0a9429348"
      },
      "execution_count": null,
      "outputs": [
        {
          "output_type": "stream",
          "name": "stdout",
          "text": [
            "Digite seu nome:Flavio\n",
            "Flavio\n"
          ]
        }
      ]
    },
    {
      "cell_type": "code",
      "source": [
        "# Crie um programa que solicite à pessoa usuária digitar seu nome e idade, e imprima “Olá, [nome], você tem [idade] anos.”.\n",
        "nome = input('digite a sua idade:')\n",
        "idade = int(input('digite a sua idade:'))\n",
        "print(f'Olá {nome} , você tem {idade} anos')"
      ],
      "metadata": {
        "colab": {
          "base_uri": "https://localhost:8080/"
        },
        "id": "qU5x_38zYXHR",
        "outputId": "75959a6f-22f7-471f-fa7c-7523e4543db5"
      },
      "execution_count": null,
      "outputs": [
        {
          "output_type": "stream",
          "name": "stdout",
          "text": [
            "digite a sua idade:Flavio\n",
            "digite a sua idade:38\n",
            "Olá Flavio , você tem 38 anos\n"
          ]
        }
      ]
    },
    {
      "cell_type": "code",
      "source": [
        "# Crie um programa que solicite à pessoa usuária digitar seu nome, idade e altura em metros, e imprima “Olá, [nome], você tem [idade] anos e mede [altura] metros!”.\n",
        "nome = input('Digite seu nome: ')\n",
        "idade = int(input('Digite sua idade: '))\n",
        "altura = float(input('Digite sua altura: '))\n",
        "print(f'Olá {nome}, você tem {idade} anos e mede {altura}m')\n"
      ],
      "metadata": {
        "colab": {
          "base_uri": "https://localhost:8080/"
        },
        "id": "dGe6wqtuYdmA",
        "outputId": "8d3aa38e-bac2-49c4-a9dd-c3624dfa0d9c"
      },
      "execution_count": null,
      "outputs": [
        {
          "output_type": "stream",
          "name": "stdout",
          "text": [
            "Digite seu nome: Flavio\n",
            "Digite sua idade: 38\n",
            "Digite sua altura: 1.75\n",
            "Olá Flavio, você tem 38 anos e mede 1.75m\n"
          ]
        }
      ]
    },
    {
      "cell_type": "code",
      "source": [
        "# Calculadora com operadores"
      ],
      "metadata": {
        "id": "ObB6LZO_Yduv"
      },
      "execution_count": null,
      "outputs": []
    },
    {
      "cell_type": "code",
      "source": [
        "# Crie um programa que solicite dois valores numéricos à pessoa usuária e imprima a soma dos dois valores.\n",
        "a = int(input('Digite o primeiro número:'))\n",
        "b = int(input('Digite o segundo número:'))\n",
        "soma = a + b\n",
        "print(f'A soma dos dois números é {soma}')"
      ],
      "metadata": {
        "colab": {
          "base_uri": "https://localhost:8080/"
        },
        "id": "26czh_NuYdzX",
        "outputId": "551a47cb-8139-4bd5-a01e-d0935bfa2a31"
      },
      "execution_count": null,
      "outputs": [
        {
          "output_type": "stream",
          "name": "stdout",
          "text": [
            "Digite o primeiro número:5\n",
            "Digite o segundo número:9\n",
            "A soma dos dois números é 14\n"
          ]
        }
      ]
    },
    {
      "cell_type": "code",
      "source": [
        "#Crie um programa que solicite três valores numéricos à pessoa usuária e imprima a soma dos três valores.\n",
        "a = int(input('Digite o primeiro número:'))\n",
        "b = int(input('Digite o segundo número:'))\n",
        "c = int(input('Digite o segundo número:'))\n",
        "soma = a + b + c\n",
        "print(f'A soma dos três números é {soma}')"
      ],
      "metadata": {
        "colab": {
          "base_uri": "https://localhost:8080/"
        },
        "id": "0JTATbJzYd1p",
        "outputId": "b7699216-40d1-46f7-87d8-460ac5f75193"
      },
      "execution_count": null,
      "outputs": [
        {
          "output_type": "stream",
          "name": "stdout",
          "text": [
            "Digite o primeiro número:4\n",
            "Digite o segundo número:6\n",
            "Digite o segundo número:8\n",
            "A soma dos três números é 18\n"
          ]
        }
      ]
    },
    {
      "cell_type": "code",
      "source": [
        "# Crie um programa que solicite dois valores numéricos à pessoa usuária e imprima a subtração do primeiro pelo o segundo valor.\n",
        "a = int(input('Digite o 1º número:'))\n",
        "b = int(input('Digite o 2º número: '))\n",
        "subtracao = a - b\n",
        "print(f'A subtração do primeiro número pelo segundo é {subtracao}')"
      ],
      "metadata": {
        "colab": {
          "base_uri": "https://localhost:8080/"
        },
        "id": "sAG1hVmjYd3v",
        "outputId": "7b093b52-5c97-4895-8dd8-784172867c17"
      },
      "execution_count": null,
      "outputs": [
        {
          "output_type": "stream",
          "name": "stdout",
          "text": [
            "Digite o 1º número:5\n",
            "Digite o 2º número: 7\n",
            "A subtração do primeiro número pelo segundo é -2\n"
          ]
        }
      ]
    },
    {
      "cell_type": "code",
      "source": [
        "# Crie um programa que solicite dois valores numéricos à pessoa usuária e imprima a multiplicação dos dois valores.\n",
        "a = int(input('Digite o 1º número:'))\n",
        "b = int(input('Digite o 2º número: '))\n",
        "multiplicacao = a * b\n",
        "print(f'A subtração do primeiro número pelo segundo é {multiplicacao}')"
      ],
      "metadata": {
        "colab": {
          "base_uri": "https://localhost:8080/"
        },
        "id": "sXdxWnsOYd59",
        "outputId": "88d404dc-b641-4240-9b8d-8e2569754685"
      },
      "execution_count": null,
      "outputs": [
        {
          "output_type": "stream",
          "name": "stdout",
          "text": [
            "Digite o 1º número:5\n",
            "Digite o 2º número: 7\n",
            "A subtração do primeiro número pelo segundo é 35\n"
          ]
        }
      ]
    },
    {
      "cell_type": "code",
      "source": [
        "# Crie um programa que solicite dois valores numéricos, um numerador e um denominador, e realize a divisão entre os dois valores. Deixe claro que o valor do denominador não pode ser 0.\n",
        "a = int(input('Digite o 1º número:'))\n",
        "b = int(input('Digite o 2º número: '))\n",
        "if b == 0:\n",
        "  print('O divisor não pode ser igual a 0')\n",
        "else:\n",
        "  divisao = a / b\n",
        "  print(f'A divisão do primeiro número pelo segundo é {divisao}')\n"
      ],
      "metadata": {
        "colab": {
          "base_uri": "https://localhost:8080/"
        },
        "id": "MTIlPyBqYd8i",
        "outputId": "0d9c4c71-ba8c-4407-ec3e-88ae4b6f0697"
      },
      "execution_count": null,
      "outputs": [
        {
          "output_type": "stream",
          "name": "stdout",
          "text": [
            "Digite o 1º número:0\n",
            "Digite o 2º número: 2\n",
            "A divisão do primeiro número pelo segundo é 0.0\n"
          ]
        }
      ]
    },
    {
      "cell_type": "code",
      "source": [
        "# Crie um programa que solicite dois valores numéricos, um operador e uma potência, e realize a exponenciação entre esses dois valores.\n",
        "a = int(input('Digite o 1º número:'))\n",
        "b = int(input('Digite o 2º número: '))\n",
        "expon = a ** b\n",
        "print(f'A exponenciação dos valores é {expon}')\n"
      ],
      "metadata": {
        "colab": {
          "base_uri": "https://localhost:8080/"
        },
        "id": "bdqHcy_hYd-y",
        "outputId": "5403e4a4-b360-494b-a127-84c2595adaca"
      },
      "execution_count": null,
      "outputs": [
        {
          "output_type": "stream",
          "name": "stdout",
          "text": [
            "Digite o 1º número:3\n",
            "Digite o 2º número: 3\n",
            "A exponenciação dos valores é 27\n"
          ]
        }
      ]
    },
    {
      "cell_type": "code",
      "source": [
        "# Crie um programa que solicite dois valores numéricos, um numerador e um denominador e realize a divisão inteira entre os dois valores. Deixe claro que o valor do denominador não pode ser 0.\n",
        "a = int(input('Digite o 1º número:'))\n",
        "b = int(input('Digite o 2º número: '))\n",
        "if b == 0:\n",
        "  print('O divisor não pode ser igual a 0')\n",
        "else:\n",
        "  divisao_int = a // b\n",
        "  print(f'A divisão inteira do primeiro número pelo segundo é {divisao_int}')\n",
        "\n"
      ],
      "metadata": {
        "colab": {
          "base_uri": "https://localhost:8080/"
        },
        "id": "HofN4KcrYeBA",
        "outputId": "ad15ef3d-d34f-41a2-ffb1-1e91fec597ec"
      },
      "execution_count": null,
      "outputs": [
        {
          "output_type": "stream",
          "name": "stdout",
          "text": [
            "Digite o 1º número:3\n",
            "Digite o 2º número: 2\n",
            "A divisão inteira do primeiro número pelo segundo é 1\n"
          ]
        }
      ]
    },
    {
      "cell_type": "code",
      "source": [
        "# Crie um código que solicita 3 notas de um estudante e imprima a média das notas.\n",
        "n1 = float(input('Digite a primeira nota: '))\n",
        "n2 = float(input('Digite a segunda nota: '))\n",
        "n3 = float(input('Digite a terceira nota: '))\n",
        "total = n1+n2+n3\n",
        "media = total/3\n",
        "print(f'A média é {media}')\n"
      ],
      "metadata": {
        "colab": {
          "base_uri": "https://localhost:8080/"
        },
        "id": "CvXrF-QtbDz7",
        "outputId": "3a7d8776-cbfd-416c-9b1d-42e644df3cca"
      },
      "execution_count": null,
      "outputs": [
        {
          "output_type": "stream",
          "name": "stdout",
          "text": [
            "Digite a primeira nota: 8.5\n",
            "Digite a segunda nota: 7.5\n",
            "Digite a terceira nota: 9.5\n",
            "A média é 8.5\n"
          ]
        }
      ]
    },
    {
      "cell_type": "code",
      "source": [
        "# Crie um código que calcule e imprima a média ponderada dos números 5, 12, 20 e 15 com pesos respectivamente iguais a 1, 2, 3 e 4.\n",
        "media_ponderada = (5 + 12*2 + 20*3 + 15*4) / (1+2+3+4)\n",
        "print(f'A média ponderada é {media_ponderada}')"
      ],
      "metadata": {
        "colab": {
          "base_uri": "https://localhost:8080/"
        },
        "id": "ET9Xtdx1bD17",
        "outputId": "982281b2-12d9-40aa-b7c7-914df2b41efb"
      },
      "execution_count": null,
      "outputs": [
        {
          "output_type": "stream",
          "name": "stdout",
          "text": [
            "A média ponderada é 14.9\n"
          ]
        }
      ]
    },
    {
      "cell_type": "code",
      "source": [
        "# Editando textos"
      ],
      "metadata": {
        "id": "zn4JuGJ-bD4O"
      },
      "execution_count": null,
      "outputs": []
    },
    {
      "cell_type": "code",
      "source": [
        "# Crie uma variável chamada “frase” e atribua a ela uma string de sua escolha. Em seguida, imprima a frase na tela.\n",
        "frase = 'Vamos trabalhar com edição de textos'\n",
        "print(frase)"
      ],
      "metadata": {
        "colab": {
          "base_uri": "https://localhost:8080/"
        },
        "id": "BaDcH3AabD6h",
        "outputId": "07b63e7a-a651-4e8f-c51a-5b8d04fdc128"
      },
      "execution_count": null,
      "outputs": [
        {
          "output_type": "stream",
          "name": "stdout",
          "text": [
            "Vamos trabalhar com edição de textos\n"
          ]
        }
      ]
    },
    {
      "cell_type": "code",
      "source": [
        "# Crie um código que solicite uma frase e depois imprima a frase na tela.\n",
        "frase1 = input('Digite sua frase')\n",
        "print(frase1)\n"
      ],
      "metadata": {
        "colab": {
          "base_uri": "https://localhost:8080/"
        },
        "id": "XklLIXoEdQHn",
        "outputId": "00087f14-70df-4d4c-dfa8-a55753e89044"
      },
      "execution_count": null,
      "outputs": [
        {
          "output_type": "stream",
          "name": "stdout",
          "text": [
            "Digite sua fraseMais de 8 mil\n",
            "Mais de 8 mil\n"
          ]
        }
      ]
    },
    {
      "cell_type": "code",
      "source": [
        "# Crie um código que solicite uma frase à pessoa usuária e imprima a mesma frase digitada mas com todas as letras maiúsculas.\n",
        "frase1 = input('Digite sua frase')\n",
        "print(frase1.upper())\n"
      ],
      "metadata": {
        "colab": {
          "base_uri": "https://localhost:8080/"
        },
        "id": "l46B6ABSdQJ-",
        "outputId": "9fad7856-842a-49c0-9aad-1bec353dc841"
      },
      "execution_count": null,
      "outputs": [
        {
          "output_type": "stream",
          "name": "stdout",
          "text": [
            "Digite sua frasemasi de 8 mil\n",
            "MASI DE 8 MIL\n"
          ]
        }
      ]
    },
    {
      "cell_type": "code",
      "source": [
        "# Crie um código que solicite uma frase à pessoa usuária e imprima a mesma frase digitada mas com todas as letras minúsculas.\n",
        "frase1 = input('Digite sua frase')\n",
        "print(frase1.lower())\n"
      ],
      "metadata": {
        "colab": {
          "base_uri": "https://localhost:8080/"
        },
        "id": "HjplkaQidQMk",
        "outputId": "bae33103-55e7-4ec5-8822-e2a50291680b"
      },
      "execution_count": null,
      "outputs": [
        {
          "output_type": "stream",
          "name": "stdout",
          "text": [
            "Digite sua fraseEU NAO SOU CACHORRO\n",
            "eu nao sou cachorro\n"
          ]
        }
      ]
    },
    {
      "cell_type": "code",
      "source": [
        "# Crie uma variável chamada “frase” e atribua a ela uma string de sua escolha. Em seguida, imprima a frase sem espaços em branco no início e no fim.\n",
        "frase = '     Texto retirando os espços vazios     '\n",
        "print(frase.strip())\n"
      ],
      "metadata": {
        "colab": {
          "base_uri": "https://localhost:8080/"
        },
        "id": "GJNU62K6dQOv",
        "outputId": "1608c5ff-a8da-4ca4-f5f2-915bc0d0f73f"
      },
      "execution_count": null,
      "outputs": [
        {
          "output_type": "stream",
          "name": "stdout",
          "text": [
            "Texto retirando os espços vazios\n"
          ]
        }
      ]
    },
    {
      "cell_type": "code",
      "source": [
        "# Crie um código que solicite uma frase à pessoa usuária e imprima a mesma frase sem espaços em branco no início e no fim.\n",
        "frase_strip = input('Digite sua frase')\n",
        "print(frase_strip.strip())\n"
      ],
      "metadata": {
        "colab": {
          "base_uri": "https://localhost:8080/"
        },
        "id": "C-OHChJ-dQRH",
        "outputId": "e052e555-3fb2-4d1f-c544-f1127b919f15"
      },
      "execution_count": null,
      "outputs": [
        {
          "output_type": "stream",
          "name": "stdout",
          "text": [
            "Digite sua frase     A vida não é um morangoo      \n",
            "A vida não é um morangoo\n"
          ]
        }
      ]
    },
    {
      "cell_type": "code",
      "source": [
        "# Crie um código que solicite uma frase à pessoa usuária e imprima a mesma frase sem espaços em branco no início e no fim e em letras minúsculas.\n",
        "frase_s_l = input('Digite sua frase')\n",
        "print(frase_s_l.lower().strip())\n"
      ],
      "metadata": {
        "colab": {
          "base_uri": "https://localhost:8080/"
        },
        "id": "V6JdHDItdQTH",
        "outputId": "0ad956e0-f74a-4ded-adf6-e494ed7fb119"
      },
      "execution_count": null,
      "outputs": [
        {
          "output_type": "stream",
          "name": "stdout",
          "text": [
            "Digite sua frase    A cada hora E MAIS top     \n",
            "a cada hora e mais top\n"
          ]
        }
      ]
    },
    {
      "cell_type": "code",
      "source": [
        "# Crie um código que solicite uma frase à pessoa usuária e imprima a mesma frase com todas as vogais “e” trocadas pela letra “f”.\n",
        "frase_r = input('Digite sua frase')\n",
        "print(frase_r.replace('e','f'))\n",
        "# OU atribui o replce antes do print. EX: frase_r = frase_r.replace('e','f')"
      ],
      "metadata": {
        "colab": {
          "base_uri": "https://localhost:8080/"
        },
        "id": "vgOGtey_dQg_",
        "outputId": "93b4652d-06fa-477e-bc47-ea83891bec59"
      },
      "execution_count": null,
      "outputs": [
        {
          "output_type": "stream",
          "name": "stdout",
          "text": [
            "Digite sua frasesabe de nada\n",
            "sabf df nada\n"
          ]
        }
      ]
    },
    {
      "cell_type": "code",
      "source": [
        "# Crie um código que solicite uma frase à pessoa usuária e imprima a mesma frase com todas as vogais “a” trocadas pela caractere “@”.\n",
        "frase_r1 = input('Digite sua frase')\n",
        "print(frase_r1.replace('a','@'))\n"
      ],
      "metadata": {
        "colab": {
          "base_uri": "https://localhost:8080/"
        },
        "id": "vKpL0KlHbEPT",
        "outputId": "d085e668-597c-4ada-e72c-6cd23a57c4b7"
      },
      "execution_count": null,
      "outputs": [
        {
          "output_type": "stream",
          "name": "stdout",
          "text": [
            "Digite sua frasecala a sua boca macaco\n",
            "c@l@ @ su@ boc@ m@c@co\n"
          ]
        }
      ]
    },
    {
      "cell_type": "code",
      "source": [
        "# Crie um código que solicite uma frase à pessoa usuária e imprima a mesma frase com todas as consoantes “s” trocadas pelo caractere “$”.\n",
        "frase_r = input('Digite sua frase')\n",
        "print(frase_r.replace('s','$'))"
      ],
      "metadata": {
        "colab": {
          "base_uri": "https://localhost:8080/"
        },
        "id": "7tES_NMMdYtm",
        "outputId": "e1eddca8-e296-4e65-f83c-fa061508f3d3"
      },
      "execution_count": null,
      "outputs": [
        {
          "output_type": "stream",
          "name": "stdout",
          "text": [
            "Digite sua frasesaiam dai seus cornos\n",
            "$aiam dai $eu$ corno$\n"
          ]
        }
      ]
    },
    {
      "cell_type": "markdown",
      "source": [
        "# Estruturas condicionais"
      ],
      "metadata": {
        "id": "NwRaiHHHhhyl"
      }
    },
    {
      "cell_type": "markdown",
      "source": [
        "## `IF` e `ELSE`\n",
        "\n",
        "O `if` e `else` são duas estruturas condicionais. O `if` executará o bloco de comando caso a condição colocada for **verdadeira**. O `else` é um caso em que a condicional de `if` seja **falsa**."
      ],
      "metadata": {
        "id": "qXZqg9aYEhAh"
      }
    },
    {
      "cell_type": "markdown",
      "source": [
        "O `if` é uma palavra-chave em Python que significa \"se\". Ele é usado para formar uma estrutura condicional, que permite que você verifique se uma determinada condição é verdadeira ou falsa e, em seguida, execute um bloco de código específico dependendo do resultado da verificação. A sintaxe para usar o `if` é:\n",
        "\n",
        "\n",
        "\n",
        "```\n",
        "if condição:\n",
        "    # faça algo\n",
        "```\n",
        "\n"
      ],
      "metadata": {
        "id": "EIhlqHXd2Gil"
      }
    },
    {
      "cell_type": "code",
      "source": [],
      "metadata": {
        "id": "tKtzkTXW4j73"
      },
      "execution_count": null,
      "outputs": []
    },
    {
      "cell_type": "markdown",
      "source": [
        "Já o `else` em Python é usada em conjunto com a palavra-chave `if` para formar uma estrutura condicional. A sintaxe para usar o `else` é:\n",
        "\n",
        "```\n",
        "if condição:\n",
        "  # código caso seja verdade\n",
        "else:\n",
        "  # código caso seja falso\n",
        "```\n",
        "\n",
        "O `else` é executado quando a condição verificada pelo `if` é avaliada como `False`."
      ],
      "metadata": {
        "id": "27RW2v_sIKct"
      }
    },
    {
      "cell_type": "markdown",
      "source": [
        "---\n",
        "**Situação:**\n",
        "\n",
        "Receberemos a média de estudantes e precisamos de um algoritmo que execute a análise e decida se esse estudante está **Aprovado** ou Reprovado, mostrando uma mensagem do resultado. Para ser aprovado, a média precisa ser igual ou superior à 6.0."
      ],
      "metadata": {
        "id": "BqORg85XX-Nl"
      }
    },
    {
      "cell_type": "code",
      "source": [
        "media = float(input('Digite a média: '))\n",
        "if media >= 6.0:\n",
        "  print('Você está APROVADO')\n",
        "else:\n",
        "  print('Você está REPROVADO')"
      ],
      "metadata": {
        "id": "yaR8bt1P4iCv",
        "colab": {
          "base_uri": "https://localhost:8080/"
        },
        "outputId": "28621f7b-300d-4e9f-d9ec-8a347995d03a"
      },
      "execution_count": null,
      "outputs": [
        {
          "output_type": "stream",
          "name": "stdout",
          "text": [
            "Digite a média: 5.5\n",
            "Você está REPROVADO\n"
          ]
        }
      ]
    },
    {
      "cell_type": "markdown",
      "source": [
        "Agora a nossa instituição de ensino lançou uma nota oficial que pessoas que tenham média entre 4.0 e 6.0 podem fazer os cursos de **Recuperação** nas férias para poder recuperar a nota.\n",
        "\n",
        "Então podemos agora fazer um conjunto de `if`s para que possamos estruturar essa nova condição."
      ],
      "metadata": {
        "id": "bD9O17HB6LUo"
      }
    },
    {
      "cell_type": "code",
      "source": [
        "media = float(input('Digite a média: '))\n",
        "if media < 4:\n",
        "  print('Você está REPROVADO')\n",
        "elif 6.0 > media >= 4:\n",
        "  print('Você está de RECUPERAÇÃO')\n",
        "else:\n",
        "  print('Você está APROVADO')\n"
      ],
      "metadata": {
        "id": "Rkde8bai4gvq",
        "colab": {
          "base_uri": "https://localhost:8080/"
        },
        "outputId": "1c0680d9-ec67-43a8-e85a-d3103ca8e170"
      },
      "execution_count": null,
      "outputs": [
        {
          "output_type": "stream",
          "name": "stdout",
          "text": [
            "Digite a média: 7\n",
            "Você está APROVADO\n"
          ]
        }
      ]
    },
    {
      "cell_type": "markdown",
      "source": [
        "Notemos que em casos com 3 situações como esse precisamos definir bem nossas condições. Pois foi feita uma construção com `else` no final, ele irá considerar apenas a alguma condicional para ser o caso **falso** podendo resultar em duas (ou mais) execuções.\n",
        "\n",
        "Por exemplo:"
      ],
      "metadata": {
        "id": "D5e2mByjvycO"
      }
    },
    {
      "cell_type": "code",
      "source": [
        "media = float(input('Digite a média: '))"
      ],
      "metadata": {
        "id": "tKvjzq414fAN",
        "colab": {
          "base_uri": "https://localhost:8080/",
          "height": 287
        },
        "outputId": "24ec8fe3-5063-4eee-aa65-10eef8595eee"
      },
      "execution_count": null,
      "outputs": [
        {
          "output_type": "error",
          "ename": "KeyboardInterrupt",
          "evalue": "Interrupted by user",
          "traceback": [
            "\u001b[0;31m---------------------------------------------------------------------------\u001b[0m",
            "\u001b[0;31mKeyboardInterrupt\u001b[0m                         Traceback (most recent call last)",
            "\u001b[0;32m<ipython-input-37-bb61414f2675>\u001b[0m in \u001b[0;36m<cell line: 1>\u001b[0;34m()\u001b[0m\n\u001b[0;32m----> 1\u001b[0;31m \u001b[0mmedia\u001b[0m \u001b[0;34m=\u001b[0m \u001b[0mfloat\u001b[0m\u001b[0;34m(\u001b[0m\u001b[0minput\u001b[0m\u001b[0;34m(\u001b[0m\u001b[0;34m'Digite a média: '\u001b[0m\u001b[0;34m)\u001b[0m\u001b[0;34m)\u001b[0m\u001b[0;34m\u001b[0m\u001b[0;34m\u001b[0m\u001b[0m\n\u001b[0m",
            "\u001b[0;32m/usr/local/lib/python3.10/dist-packages/ipykernel/kernelbase.py\u001b[0m in \u001b[0;36mraw_input\u001b[0;34m(self, prompt)\u001b[0m\n\u001b[1;32m    849\u001b[0m                 \u001b[0;34m\"raw_input was called, but this frontend does not support input requests.\"\u001b[0m\u001b[0;34m\u001b[0m\u001b[0;34m\u001b[0m\u001b[0m\n\u001b[1;32m    850\u001b[0m             )\n\u001b[0;32m--> 851\u001b[0;31m         return self._input_request(str(prompt),\n\u001b[0m\u001b[1;32m    852\u001b[0m             \u001b[0mself\u001b[0m\u001b[0;34m.\u001b[0m\u001b[0m_parent_ident\u001b[0m\u001b[0;34m,\u001b[0m\u001b[0;34m\u001b[0m\u001b[0;34m\u001b[0m\u001b[0m\n\u001b[1;32m    853\u001b[0m             \u001b[0mself\u001b[0m\u001b[0;34m.\u001b[0m\u001b[0m_parent_header\u001b[0m\u001b[0;34m,\u001b[0m\u001b[0;34m\u001b[0m\u001b[0;34m\u001b[0m\u001b[0m\n",
            "\u001b[0;32m/usr/local/lib/python3.10/dist-packages/ipykernel/kernelbase.py\u001b[0m in \u001b[0;36m_input_request\u001b[0;34m(self, prompt, ident, parent, password)\u001b[0m\n\u001b[1;32m    893\u001b[0m             \u001b[0;32mexcept\u001b[0m \u001b[0mKeyboardInterrupt\u001b[0m\u001b[0;34m:\u001b[0m\u001b[0;34m\u001b[0m\u001b[0;34m\u001b[0m\u001b[0m\n\u001b[1;32m    894\u001b[0m                 \u001b[0;31m# re-raise KeyboardInterrupt, to truncate traceback\u001b[0m\u001b[0;34m\u001b[0m\u001b[0;34m\u001b[0m\u001b[0m\n\u001b[0;32m--> 895\u001b[0;31m                 \u001b[0;32mraise\u001b[0m \u001b[0mKeyboardInterrupt\u001b[0m\u001b[0;34m(\u001b[0m\u001b[0;34m\"Interrupted by user\"\u001b[0m\u001b[0;34m)\u001b[0m \u001b[0;32mfrom\u001b[0m \u001b[0;32mNone\u001b[0m\u001b[0;34m\u001b[0m\u001b[0;34m\u001b[0m\u001b[0m\n\u001b[0m\u001b[1;32m    896\u001b[0m             \u001b[0;32mexcept\u001b[0m \u001b[0mException\u001b[0m \u001b[0;32mas\u001b[0m \u001b[0me\u001b[0m\u001b[0;34m:\u001b[0m\u001b[0;34m\u001b[0m\u001b[0;34m\u001b[0m\u001b[0m\n\u001b[1;32m    897\u001b[0m                 \u001b[0mself\u001b[0m\u001b[0;34m.\u001b[0m\u001b[0mlog\u001b[0m\u001b[0;34m.\u001b[0m\u001b[0mwarning\u001b[0m\u001b[0;34m(\u001b[0m\u001b[0;34m\"Invalid Message:\"\u001b[0m\u001b[0;34m,\u001b[0m \u001b[0mexc_info\u001b[0m\u001b[0;34m=\u001b[0m\u001b[0;32mTrue\u001b[0m\u001b[0;34m)\u001b[0m\u001b[0;34m\u001b[0m\u001b[0;34m\u001b[0m\u001b[0m\n",
            "\u001b[0;31mKeyboardInterrupt\u001b[0m: Interrupted by user"
          ]
        }
      ]
    },
    {
      "cell_type": "markdown",
      "source": [
        "## `ELIF`\n",
        "\n",
        "O `elif` é uma palavra-chave em Python que significa \"senão, se\" e pode ser considerado uma união do `else` com um `if`. Ela é usada em conjunto com a palavra-chave `if` para formar uma estrutura condicional encadeada.\n",
        "\n"
      ],
      "metadata": {
        "id": "04T5g-7h4zWx"
      }
    },
    {
      "cell_type": "markdown",
      "source": [
        "A sintaxe para usar o `elif` é:\n",
        "\n",
        "```\n",
        "if condição1:\n",
        "    # faça algo\n",
        "elif condição2:\n",
        "    # faça outra coisa\n",
        "elif condição3:\n",
        "    # faça mais alguma coisa\n",
        "else:\n",
        "    # faça algo diferente\n",
        "```\n",
        "\n",
        "O `elif` permite que você verifique várias condições de forma encadeada, economizando espaço em seu código. Se a primeira condição for avaliada como `False`, o interpretador Python avaliará a próxima condição no `elif`. Isso continuará até que uma condição seja avaliada como `True` ou até que o `else` seja atingido. Se nenhuma das condições forem avaliadas como `True`, a execução do código do `else` será iniciada."
      ],
      "metadata": {
        "id": "rNBHr5mm1Lm6"
      }
    },
    {
      "cell_type": "markdown",
      "source": [
        "Vamos usar o mesmo caso anterior:"
      ],
      "metadata": {
        "id": "MVoykFbB4bd4"
      }
    },
    {
      "cell_type": "code",
      "source": [
        "media = float(input('Digite a média: '))"
      ],
      "metadata": {
        "id": "UJCHKoX54dc2"
      },
      "execution_count": null,
      "outputs": []
    },
    {
      "cell_type": "markdown",
      "source": [
        "## Operadores\n",
        "\n",
        "Durante a construção de comandos por vezes precisamos de uma elaboração maior de da expressão condicional, necessitando que alguns operadores lógicos estejam integrados."
      ],
      "metadata": {
        "id": "Tf1wSOem6iwZ"
      }
    },
    {
      "cell_type": "markdown",
      "source": [
        "### `AND`, `OR`, `NOT`\n",
        "\n",
        "Os operadores lógicos `and`, `or` e `not` são usados para combinar expressões lógicas em Python. Eles são usados frequentemente em conjunto com o `if` para criar estruturas condicionais mais complexas.\n"
      ],
      "metadata": {
        "id": "GFIZnRWXGPWO"
      }
    },
    {
      "cell_type": "markdown",
      "source": [
        "- `AND` é usado para verificar se duas condições são verdadeiras. A expressão lógica¹ `x and y` é avaliada como `True` apenas se **ambas as condições `x` e `y` forem verdadeiras**, e como `False` caso contrário.\n",
        "\n",
        "- `OR` é usado para verificar se pelo menos uma das condições é verdadeira. A expressão lógica `x or y` é avaliada como `True` **se pelo menos uma das condições `x` ou `y` for verdadeira**, e como `False` se ambas forem falsas.\n",
        "\n",
        "- `NOT` é usado para **negar uma condição**. A expressão lógica not x é avaliada como True se a condição x for falsa, e como False se a condição x for verdadeira.\n",
        "\n",
        "¹ Uma expressão lógica é uma declaração que pode ser avaliada como verdadeira ou falsa. Ela é composta por operandos lógicos² e operadores lógicos³, que são usados ​​para combinar várias expressões lógicas em uma única expressão.\n",
        "\n",
        "² Os operandos lógicos são os elementos que são comparados ou avaliados em uma expressão lógica. Eles são geralmente valores verdadeiros ou falsos, mas também podem ser expressões lógicas mais complexas. Em Python, os operandos lógicos são os valores `True` e `False`.\n",
        "\n",
        "³ Os operadores lógicos são os símbolos ou palavras-chave que são usados ​​para combinar várias expressões lógicas em uma única expressão. Em Python, os operadores lógicos são `and`, `or` e `not`, bem como as palavras-chave `if`, `elif` e `else`."
      ],
      "metadata": {
        "id": "Z_dgAoHXJbzB"
      }
    },
    {
      "cell_type": "code",
      "source": [
        "t1 = t2 = True\n",
        "f1 = f2 = False"
      ],
      "metadata": {
        "id": "Fs_qb0dLOXsj"
      },
      "execution_count": null,
      "outputs": []
    },
    {
      "cell_type": "code",
      "source": [
        "if t1 and t2:\n",
        "  print('expressão verdadeira')\n",
        "else:\n",
        "  print('expressão falsa')"
      ],
      "metadata": {
        "id": "kL4QVdlZ4O43",
        "colab": {
          "base_uri": "https://localhost:8080/"
        },
        "outputId": "9859753c-8232-4b83-f6f8-1f776a601259"
      },
      "execution_count": null,
      "outputs": [
        {
          "output_type": "stream",
          "name": "stdout",
          "text": [
            "expressão verdadeira\n"
          ]
        }
      ]
    },
    {
      "cell_type": "code",
      "source": [
        "if f1 or f2:\n",
        "  print('expressão verdadeira')\n",
        "else:\n",
        "  print('expressão falsa')"
      ],
      "metadata": {
        "id": "JmQYjvsz4Pw5",
        "colab": {
          "base_uri": "https://localhost:8080/"
        },
        "outputId": "76b0c1e9-bc68-428d-bfda-21027ca222a6"
      },
      "execution_count": null,
      "outputs": [
        {
          "output_type": "stream",
          "name": "stdout",
          "text": [
            "expressão verdadeira\n"
          ]
        }
      ]
    },
    {
      "cell_type": "code",
      "source": [
        "if not t1 and t2:\n",
        "  print('expressão verdadeira')\n",
        "else:\n",
        "  print('expressão falsa')"
      ],
      "metadata": {
        "id": "WHfJ-ZLM4Q3k",
        "colab": {
          "base_uri": "https://localhost:8080/"
        },
        "outputId": "af40c8f8-ec95-40ba-c1a0-16476740aa66"
      },
      "execution_count": null,
      "outputs": [
        {
          "output_type": "stream",
          "name": "stdout",
          "text": [
            "expressão falsa\n"
          ]
        }
      ]
    },
    {
      "cell_type": "markdown",
      "source": [
        "### `IN`\n",
        "\n",
        "É usado para verificar se um elemento está presente em uma lista, tupla ou outra variável de conjunto. A expressão `x in y` é avaliada como `True` se o elemento `x` estiver presente na variável de conjunto `y`, e como `False` caso contrário."
      ],
      "metadata": {
        "id": "w7EXG1dhWtja"
      }
    },
    {
      "cell_type": "markdown",
      "source": [
        "Podemos verificar isso com variáveis de texto.\n",
        "\n",
        "---\n",
        "\n",
        "**Situação:**\n",
        "\n",
        "Na escola foi passada uma lista com nomes de estudantes que foram aprovados por média no semestre, mas é preciso verificar se alguns nomes estão nessa lista para verificar se os dados estão corretos.\n",
        "\n",
        "A lista distribuida pode ser observada abaixo:\n",
        "\n",
        "```\n",
        "lista = 'José da Silva, Maria Oliveira, Pedro Martins, Ana Souza, Carlos Rodrigues, Juliana Santos, Bruno Gomes, Beatriz Costa, Felipe Almeida, Mariana Fernandes, João Pinto, Luísa Nascimento, Gabriel Souza, Manuela Santos, Thiago Oliveira, Sofia Ferreira, Rafael Albuquerque, Isabella Gomes, Bruno Costa, Maria Martins, Rafaela Souza, Matheus Fernandes, Luísa Almeida, Beatriz Pinto, Mariana Rodrigues, Gabriel Nascimento, João Ferreira, Maria Albuquerque, Felipe Oliveira\n",
        "'\n",
        "```\n",
        "\n",
        "Os nomes que precisam ser verificados são os seguintes:\n",
        "\n",
        "```\n",
        "nome_1 = 'Mariana Rodrigues'\n",
        "nome_2 = 'Marcelo Nogueira'\n",
        "```"
      ],
      "metadata": {
        "id": "enJNp6JenQbq"
      }
    },
    {
      "cell_type": "code",
      "source": [
        "lista = 'José da Silva, Maria Oliveira, Pedro Martins, Ana Souza, Carlos Rodrigues, Juliana Santos, Bruno Gomes, Beatriz Costa, Felipe Almeida, Mariana Fernandes, João Pinto, Luísa Nascimento, Gabriel Souza, Manuela Santos, Thiago Oliveira, Sofia Ferreira, Rafael Albuquerque, Isabella Gomes, Bruno Costa, Maria Martins, Rafaela Souza, Matheus Fernandes, Luísa Almeida, Beatriz Pinto, Mariana Rodrigues, Gabriel Nascimento, João Ferreira, Maria Albuquerque, Felipe Oliveira'\n",
        "lista"
      ],
      "metadata": {
        "id": "kU25ABUQ5NBe",
        "colab": {
          "base_uri": "https://localhost:8080/",
          "height": 70
        },
        "outputId": "fb45f755-85e7-42b4-e874-94ca42bedc93"
      },
      "execution_count": null,
      "outputs": [
        {
          "output_type": "execute_result",
          "data": {
            "text/plain": [
              "'José da Silva, Maria Oliveira, Pedro Martins, Ana Souza, Carlos Rodrigues, Juliana Santos, Bruno Gomes, Beatriz Costa, Felipe Almeida, Mariana Fernandes, João Pinto, Luísa Nascimento, Gabriel Souza, Manuela Santos, Thiago Oliveira, Sofia Ferreira, Rafael Albuquerque, Isabella Gomes, Bruno Costa, Maria Martins, Rafaela Souza, Matheus Fernandes, Luísa Almeida, Beatriz Pinto, Mariana Rodrigues, Gabriel Nascimento, João Ferreira, Maria Albuquerque, Felipe Oliveira'"
            ],
            "application/vnd.google.colaboratory.intrinsic+json": {
              "type": "string"
            }
          },
          "metadata": {},
          "execution_count": 114
        }
      ]
    },
    {
      "cell_type": "code",
      "source": [
        "nome_1 = 'Mariana Rodrigues'\n",
        "nome_2 = 'Marcelo Nogueira'"
      ],
      "metadata": {
        "id": "GY82qLpivC6Y"
      },
      "execution_count": null,
      "outputs": []
    },
    {
      "cell_type": "code",
      "source": [
        "if nome_1 in lista:\n",
        "  print(f'{nome_1} está na lista')\n",
        "else:\n",
        "  print(f'{nome_1} NÃO está na lista')"
      ],
      "metadata": {
        "id": "ipyXfbpb37b0",
        "colab": {
          "base_uri": "https://localhost:8080/"
        },
        "outputId": "581f87a5-3487-4704-e0a6-a9128bd22276"
      },
      "execution_count": null,
      "outputs": [
        {
          "output_type": "stream",
          "name": "stdout",
          "text": [
            "Mariana Rodrigues está na lista\n"
          ]
        }
      ]
    },
    {
      "cell_type": "code",
      "source": [
        "if nome_2 in lista:\n",
        "  print(f'{nome_2} está na lista')\n",
        "else:\n",
        "  print(f'{nome_2} NÃO está na lista')"
      ],
      "metadata": {
        "id": "KfXxC9A537RP",
        "colab": {
          "base_uri": "https://localhost:8080/"
        },
        "outputId": "6b5173e9-a865-4845-b785-04ac370e1563"
      },
      "execution_count": null,
      "outputs": [
        {
          "output_type": "stream",
          "name": "stdout",
          "text": [
            "Marcelo Nogueira NÃO está na lista\n"
          ]
        }
      ]
    },
    {
      "cell_type": "markdown",
      "source": [
        "# Estruturas de repetição"
      ],
      "metadata": {
        "id": "aL1vJPewvwvz"
      }
    },
    {
      "cell_type": "markdown",
      "source": [
        "Quando temos que executar um mesmo bloco de comandos por várias vezes não é muito interessante fazer isso à mão.\n",
        "\n",
        "Imaginemos a situação de termos que coletar e imprimir a média de duas notas de **3 estudantes**:"
      ],
      "metadata": {
        "id": "VcPfCa8d-84t"
      }
    },
    {
      "cell_type": "code",
      "source": [
        "nota_1 = float(input('Digite a 1° nota: '))\n",
        "nota_2 = float(input('Digite a 2° nota: '))\n",
        "\n",
        "print(f'Média: {(nota_1+nota_2)/2}')"
      ],
      "metadata": {
        "id": "LzPyN4Ad3qwy"
      },
      "execution_count": null,
      "outputs": []
    },
    {
      "cell_type": "markdown",
      "source": [
        "###Desafio: Estruturas condicionais"
      ],
      "metadata": {
        "id": "o5rT87_FxqdE"
      }
    },
    {
      "cell_type": "code",
      "source": [
        "# 1) Escreva um programa que peça à pessoa usuária para fornecer dois números e exibir o número maior.\n",
        "num1 = int(input('Primeiro Número:'))\n",
        "num2 = int(input('Segundo Número:'))\n",
        "if num1 > num2:\n",
        "  print(f'O maior número é o {num1}')\n",
        "else:\n",
        "  print(f'O maior número é o {num2}')\n"
      ],
      "metadata": {
        "id": "qHiOWoAXxm4r",
        "colab": {
          "base_uri": "https://localhost:8080/"
        },
        "outputId": "06d33cda-b1d6-4646-e49d-2b2724248c72"
      },
      "execution_count": null,
      "outputs": [
        {
          "output_type": "stream",
          "name": "stdout",
          "text": [
            "Primeiro Número:5\n",
            "Segundo Número:5\n",
            "O maior número é o 5\n"
          ]
        }
      ]
    },
    {
      "cell_type": "code",
      "source": [
        "# 2) Escreva um programa que solicite o percentual de crescimento de produção de uma empresa e informe se houve um crescimento (porcentagem positiva) ou decrescimento (porcentagem negativa).\n",
        "pct = int(input('Digite a porcentagem'))\n",
        "if pct == 0:\n",
        "  print('Porcentagem nula')\n",
        "elif pct > 0:\n",
        "  print('Porcentagem positiva')\n",
        "else:\n",
        "  print('Porcentagem negativa')\n"
      ],
      "metadata": {
        "id": "DFJVQ0UExphL",
        "colab": {
          "base_uri": "https://localhost:8080/"
        },
        "outputId": "a0e44a13-d643-4203-dec5-9cdbc03874e1"
      },
      "execution_count": null,
      "outputs": [
        {
          "output_type": "stream",
          "name": "stdout",
          "text": [
            "Digite a porcentagem-50\n",
            "Porcentagem negativa\n"
          ]
        }
      ]
    },
    {
      "cell_type": "code",
      "source": [
        "# 3) Escreva um programa que determine se uma letra fornecida pela pessoa usuária é uma vogal ou consoante.\n",
        "#vogais = 'aeiou'\n",
        "vogais = ['a', 'e', 'i', 'o', 'u']\n",
        "letra = input('Digite uma letra:').lower()\n",
        "if letra in vogais:\n",
        "  print('a letra é uma vogal')\n",
        "else:\n",
        "  print('a letra é uma consoante')\n"
      ],
      "metadata": {
        "id": "N8yrwFw7xpjj",
        "colab": {
          "base_uri": "https://localhost:8080/"
        },
        "outputId": "5c75bc82-f4a9-4940-f708-348c96d87422"
      },
      "execution_count": null,
      "outputs": [
        {
          "output_type": "stream",
          "name": "stdout",
          "text": [
            "Digite uma letra:O\n",
            "a letra é uma vogal\n"
          ]
        }
      ]
    },
    {
      "cell_type": "code",
      "source": [
        "# 4) Escreva um programa que leia valores médios de preços de um modelo de carro por 3 anos consecutivos e exiba o valor mais alto e mais baixo entre esses três anos.\n",
        "preco_ano1 = float(input('Primeiro Valor:'))\n",
        "preco_ano2 = float(input('Segundo Valor:'))\n",
        "preco_ano3 = float(input('Terceiro Valor:'))\n",
        "\n",
        "\n",
        "maior_valor = preco_ano1\n",
        "if preco_ano2 > maior_valor:\n",
        " maior_valor = preco_ano2\n",
        "if preco_ano3 > maior_valor:\n",
        " maior_valor = preco_ano3;\n",
        "\n",
        "\n",
        "menor_valor = preco_ano1\n",
        "if preco_ano2 < menor_valor:\n",
        "  menor_valor = preco_ano2\n",
        "if preco_ano3 < menor_valor:\n",
        "  menor_valor = preco_ano3\n",
        "\n",
        "print(f'O maior valor é {maior_valor}')\n",
        "print(f'O menor valor é {menor_valor}')"
      ],
      "metadata": {
        "id": "VQkZurjbxpl0",
        "colab": {
          "base_uri": "https://localhost:8080/",
          "height": 140
        },
        "outputId": "9ef6537b-3a82-4e47-f7b4-38dab583db6a"
      },
      "execution_count": null,
      "outputs": [
        {
          "output_type": "stream",
          "name": "stdout",
          "text": [
            "Primeiro Valor:5\n",
            "Segundo Valor:3\n",
            "Terceiro Valor:7\n",
            "O maior valor é 7.0\n",
            "O menor valor é 3.0\n"
          ]
        },
        {
          "output_type": "execute_result",
          "data": {
            "text/plain": [
              "\"\\nmaior = preco_ano1\\nif preco_ano2 > maior:\\n  maior = preco_ano2\\nif preco_ano3 > maior:\\n  maior = preco_ano3\\n\\n# Determinamos o menor valor através de comparações\\nmenor = preco_ano1\\nif preco_ano2 < menor:\\n  menor = preco_ano2\\nif preco_ano3 < menor:\\n  menor = preco_ano3\\n\\n# Mostramos o resultado\\nprint(f'O preço mais alto foi de R$ {maior}.')\\nprint(f'O preço mais baixo foi de R$ {menor}.')\\n\""
            ],
            "application/vnd.google.colaboratory.intrinsic+json": {
              "type": "string"
            }
          },
          "metadata": {},
          "execution_count": 19
        }
      ]
    },
    {
      "cell_type": "code",
      "source": [
        "# 5) Escreva um programa que pergunte sobre o preço de três produtos e indique qual é o produto mais barato para comprar.\n",
        "p1 = float(input('Preço 1:'))\n",
        "p2 = float(input('Preço 2:'))\n",
        "p3 = float(input('Preço 3:'))\n",
        "\n",
        "if p1 < p2 and p1 < p3:\n",
        "  print(f'O menor número é {p1}')\n",
        "if p2 < p1 and p2 < p3:\n",
        "  print(f'O menor número é {p2}')\n",
        "if p3 < p2 and p3 < p1:\n",
        "  print(f'O menor número é {p3}')\n",
        "'''\n",
        "if p1 < p2 and p1 < p3:\n",
        "    print('O primeiro produto é o mais barato.')\n",
        "elif p2 < p1 and p2 < p3:\n",
        "    print('O segundo produto é o mais barato.')\n",
        "elif p3 < p1 and p3 < p2:\n",
        "    print('O terceiro produto é o mais barato.')\n",
        "elif p1 == p2 == p3:\n",
        "    print('Os produtos possuem o mesmo preço.')\n",
        "else:\n",
        "    # Identificamos quais produtos possuem o mesmo preço, se for o caso\n",
        "    if p1 == p2:\n",
        "        print('O primeiro e o segundo produtos são os mais baratos.')\n",
        "    elif p2 == p3:\n",
        "        print('O segundo e terceiro produtos são os mais baratos.')\n",
        "    elif p1 == p3:\n",
        "        print('O primeiro e o terceiro produtos são os mais baratos.')\n",
        "        '''"
      ],
      "metadata": {
        "id": "zcKQpjTXxnGS",
        "colab": {
          "base_uri": "https://localhost:8080/",
          "height": 140
        },
        "outputId": "d1a809e5-e4ed-4b90-84e2-7adb91d13a57"
      },
      "execution_count": null,
      "outputs": [
        {
          "output_type": "stream",
          "name": "stdout",
          "text": [
            "Preço 1:5\n",
            "Preço 2:7\n",
            "Preço 3:3\n",
            "O menor número é 3.0\n"
          ]
        },
        {
          "output_type": "execute_result",
          "data": {
            "text/plain": [
              "\"\\nif p1 < p2 and p1 < p3:\\n    print('O primeiro produto é o mais barato.')\\nelif p2 < p1 and p2 < p3:\\n    print('O segundo produto é o mais barato.')\\nelif p3 < p1 and p3 < p2:\\n    print('O terceiro produto é o mais barato.')\\nelif p1 == p2 == p3:\\n    print('Os produtos possuem o mesmo preço.')\\nelse:\\n    # Identificamos quais produtos possuem o mesmo preço, se for o caso\\n    if p1 == p2:\\n        print('O primeiro e o segundo produtos são os mais baratos.')\\n    elif p2 == p3:\\n        print('O segundo e terceiro produtos são os mais baratos.')\\n    elif p1 == p3:\\n        print('O primeiro e o terceiro produtos são os mais baratos.')\\n        \""
            ],
            "application/vnd.google.colaboratory.intrinsic+json": {
              "type": "string"
            }
          },
          "metadata": {},
          "execution_count": 23
        }
      ]
    },
    {
      "cell_type": "code",
      "source": [
        "# 6) Escreva um programa que leia três números e os exiba em ordem decrescente.\n",
        "num1 = int(input('Informe o primeiro número: '))\n",
        "num2 = int(input('Informe o segundo número: '))\n",
        "num3 = int(input('Informe o terceiro número: '))\n",
        "\n",
        "if (num1 >= num2) and (num1 >= num3):\n",
        "    print(num1)\n",
        "    if num2 >= num3:\n",
        "        print(num2)\n",
        "        print(num3)\n",
        "    else:\n",
        "        print(num3)\n",
        "        print(num2)\n",
        "elif (num2 >= num1) and (num2 >= num3):\n",
        "    print(num2)\n",
        "    if num1 >= num3:\n",
        "        print(num1)\n",
        "        print(num3)\n",
        "    else:\n",
        "        print(num3)\n",
        "        print(num1)\n",
        "else:\n",
        "    print(num3)\n",
        "    if num1 >= num2:\n",
        "        print(num1)\n",
        "        print(num2)\n",
        "    else:\n",
        "        print(num2)\n",
        "        print(num1)\n"
      ],
      "metadata": {
        "id": "0HgYrKvVxnJE",
        "colab": {
          "base_uri": "https://localhost:8080/"
        },
        "outputId": "2387e3dd-94cc-44a9-dcfd-b24cdc34989c"
      },
      "execution_count": null,
      "outputs": [
        {
          "output_type": "stream",
          "name": "stdout",
          "text": [
            "Informe o primeiro número: 5\n",
            "Informe o segundo número: 7\n",
            "Informe o terceiro número: 9\n",
            "9\n",
            "7\n",
            "5\n"
          ]
        }
      ]
    },
    {
      "cell_type": "code",
      "source": [
        "#7) Escreva um programa que pergunte em qual turno a pessoa usuária estuda (\"manhã\", \"tarde\" ou \"noite\") e exiba a mensagem \"Bom Dia!\", \"Boa Tarde!\", \"Boa Noite!\", ou \"Valor Inválido!\", conforme o caso.\n",
        "\n",
        "turno = input('digite o turno: manhã, tarde ou noite').lower()\n",
        "\n",
        "if turno == 'manhã':\n",
        "  print('Bom dia!')\n",
        "elif turno == 'tarde':\n",
        "  print('Boa tarde!')\n",
        "elif turno == 'noite':\n",
        "  print('Boa noite')\n",
        "else:\n",
        "  print('turno inválido. Digite: manhã, tarde ou noite')"
      ],
      "metadata": {
        "id": "SlGFmYPixnLC",
        "colab": {
          "base_uri": "https://localhost:8080/"
        },
        "outputId": "b9858522-ae2a-409d-b349-1174309e8cc8"
      },
      "execution_count": null,
      "outputs": [
        {
          "output_type": "stream",
          "name": "stdout",
          "text": [
            "digite o turno: manhã, tarde ou noiteTARDE\n",
            "Boa tarde!\n"
          ]
        }
      ]
    },
    {
      "cell_type": "code",
      "source": [
        "# 8) Escreva um programa que peça um número inteiro à pessoa usuária e determine se ele é par ou ímpar. Dica: Você pode utilizar o operador módulo %.\n",
        "\n",
        "parimpar = int(input('Digite um número:'))\n",
        "\n",
        "if parimpar % 2 == 0:\n",
        "  print('Número par')\n",
        "else:\n",
        "  print('Número impar')\n",
        "\n"
      ],
      "metadata": {
        "id": "ygxT2LuKxnNS",
        "colab": {
          "base_uri": "https://localhost:8080/"
        },
        "outputId": "0748804a-fb06-4ae1-e6c6-6bbae3c6ac35"
      },
      "execution_count": null,
      "outputs": [
        {
          "output_type": "stream",
          "name": "stdout",
          "text": [
            "Digite um número:7\n",
            "Número impar\n"
          ]
        }
      ]
    },
    {
      "cell_type": "code",
      "source": [
        "# 9) Escreva um programa que peça um número à pessoa usuária e informe se ele é inteiro ou decimal.\n",
        "\n",
        "tipo_num = float(input('Digite um número:'))\n",
        "\n",
        "if tipo_num % 1 == 0:\n",
        "  print('Número inteiro')\n",
        "else:\n",
        "  print ('Número decimal')\n"
      ],
      "metadata": {
        "id": "WH3LjV_-xnPy",
        "colab": {
          "base_uri": "https://localhost:8080/"
        },
        "outputId": "cf960541-0dd0-4bf6-f6d5-cb7b10577ce4"
      },
      "execution_count": null,
      "outputs": [
        {
          "output_type": "stream",
          "name": "stdout",
          "text": [
            "Digite um número:5\n",
            "Número inteiro\n"
          ]
        }
      ]
    },
    {
      "cell_type": "code",
      "source": [
        "#Momento dos projetos\n"
      ],
      "metadata": {
        "id": "XuHKzZSxx1Aj"
      },
      "execution_count": null,
      "outputs": []
    },
    {
      "cell_type": "code",
      "source": [
        "# 10) Um programa deve ser escrito para ler dois números e, em seguida, perguntar à pessoa usuária qual operação ele deseja realizar.\n",
        "#     O resultado da operação deve incluir informações sobre o número - se é par ou ímpar, positivo ou negativo e inteiro ou decimal.\n",
        "\n",
        "num1 = float(input('Digite o 1º número:'))\n",
        "num2 = float(input('Digite o 1º número:'))\n",
        "opr = input('Digite a operação desejada entre (+, -, *, , /):')\n",
        "\n",
        "# Recebendo os dados\n",
        "if opr == '+':\n",
        "  resultado = num1 + num2\n",
        "elif opr == '-':\n",
        "  resultado = num1 - num2\n",
        "elif opr == '*':\n",
        "  resultado = num1 * num2\n",
        "elif opr == '/':\n",
        "  resultado = num1 / num2\n",
        "print (resultado)\n",
        "\n",
        "#Fazendo as verificações\n",
        "if resultado % 2 == 0:\n",
        "  print(f'O número {resultado} é PAR')\n",
        "else:\n",
        "  print(f'O número {resultado} é ÍMPAR')\n",
        "\n",
        "if resultado > 0:\n",
        "  print(f'O número {resultado} é POSITIVO')\n",
        "elif resultado < 0:\n",
        "  print(f'O número {resultado} é NEGATIVO')\n",
        "else:\n",
        "  print(f'O número {resultado} é NULO')\n",
        "\n",
        "if resultado % 1 == 0:\n",
        "  print(f'O número {resultado} é INTEIRO')\n",
        "else:\n",
        "  print(f'O número {resultado} é DECIMAL')"
      ],
      "metadata": {
        "id": "f7RMdFNGx1G3",
        "colab": {
          "base_uri": "https://localhost:8080/"
        },
        "outputId": "b4527e6d-b89c-4335-db50-15cfa95ed17e"
      },
      "execution_count": null,
      "outputs": [
        {
          "output_type": "stream",
          "name": "stdout",
          "text": [
            "Digite o 1º número:5\n",
            "Digite o 1º número:7\n",
            "Digite a operação desejada entre (+, -, *, , /):-\n",
            "-2.0\n",
            "O número -2.0 é PAR\n",
            "O número -2.0 é NEGATIVO\n",
            "O número -2.0 é INTEIRO\n"
          ]
        }
      ]
    },
    {
      "cell_type": "code",
      "source": [
        "# 11) Escreva um programa que peça à pessoa usuária três números que representam os lados de um triângulo. O programa deve informar se os valores podem ser utilizados para formar um triângulo e, caso afirmativo,\n",
        "#     se ele é equilátero, isósceles ou escaleno. Tenha em mente algumas dicas:\n",
        "\n",
        "#Três lados formam um triângulo quando a soma de quaisquer dois lados for maior que o terceiro;\n",
        "#Triângulo Equilátero: três lados iguais;\n",
        "#Triângulo Isósceles: quaisquer dois lados iguais;\n",
        "#Triângulo Escaleno: três lados diferentes.\n",
        "\n",
        "lado1 = float(input('Digite o número do primeiro lado do triângulo:'))\n",
        "lado2 = float(input('Digite o número do segundo lado do triângulo:'))\n",
        "lado3 = float(input('Digite o número do terceiro lado do triângulo:'))\n",
        "\n",
        "if (lado1 + lado2 > lado3) and (lado1 + lado3 > lado2) and (lado2 + lado3 > lado1):\n",
        "  print('Pode ser um triângulo')\n",
        "  if lado1 == lado2 == lado3:\n",
        "    print('Triangulo equilátero')\n",
        "  elif (lado1 == lado2) or (lado1 == lado3) or (lado2 == lado3 ):\n",
        "    print('triangulo Isóceles')\n",
        "  else:\n",
        "    print('Triangulo escaleno')\n",
        "else:\n",
        "  print('Não pode ser um triângulo')"
      ],
      "metadata": {
        "id": "H3942Ufax1JL",
        "colab": {
          "base_uri": "https://localhost:8080/"
        },
        "outputId": "03611d3b-6914-4c71-be48-991fe49aaa22"
      },
      "execution_count": null,
      "outputs": [
        {
          "output_type": "stream",
          "name": "stdout",
          "text": [
            "Digite o número do primeiro lado do triângulo:10\n",
            "Digite o número do segundo lado do triângulo:15\n",
            "Digite o número do terceiro lado do triângulo:95\n",
            "Não pode ser um triângulo\n"
          ]
        }
      ]
    },
    {
      "cell_type": "code",
      "source": [
        "# 12) Um estabelecimento está vendendo combustíveis com descontos variados. Para o ETANOL, se a quantidade comprada for até 15 litros, o desconto será de 2% por litro. Caso contrário, será de 4% por litro.\n",
        "#     Para o diesel, se a quantidade comprada for até 15 litros, o desconto será de 3% por litro. Caso contrário, será de 5% por litro. O preço do litro de diesel é R$ 2,00 e o preço do litro de etanol é R$ 1,70.\n",
        "### Escreva um programa que leia a quantidade de litros vendidos e o tipo de combustível (E para etanol e D para diesel) e calcule o valor a ser pago pelo cliente. Tenha em mente algumas dicas:\n",
        "#     O do valor do desconto será a multiplicação entre preço do litro, quantidade de litros e o valor do desconto.\n",
        "#     O valor a ser pago por um cliente será o resultado da multiplicação do preço do litro pela quantidade de litros menos o valor de desconto resultante do cálculo.\n",
        "\n",
        "litros = int(input('Digite a quantidade de litros:'))\n",
        "tipo = input('Digite o tipo de combustível (\"E\" para Etanol // \"D\" para Diesel )').upper()\n",
        "\n",
        "# ate 15 litros ETANOL 2%, mais 4%. R$ 1.70\n",
        "if (litros <= 15) and (tipo == 'E'):\n",
        "  valor = litros * 1.70\n",
        "  valor_final = valor - (valor * 0.02)\n",
        "  print(f'O valor com desconto de 2% é {valor_final}')\n",
        "elif (litros > 15) and (tipo =='E'):\n",
        "  valor = litros * 1.70\n",
        "  valor_final = valor - (valor * 0.04)\n",
        "  print(f'O valor com desconto de 4% é {valor_final}')\n",
        "\n",
        "# ate 15 litros DIESEL 3%, mais 5%; R$ 2.00\n",
        "elif (litros <=15) and (tipo == 'D'):\n",
        "  valor = litros * 2\n",
        "  valor_final = valor - (valor * 0.03)\n",
        "  print(f'O valor com desconto de 3% é {valor_final}')\n",
        "else:\n",
        "  valor = litros * 2\n",
        "  valor_final = valor - (valor * 0.05)\n",
        "  print(f'O valor com desconto de 5% é {valor_final}')"
      ],
      "metadata": {
        "id": "23B9JoZXx1Nz",
        "colab": {
          "base_uri": "https://localhost:8080/"
        },
        "outputId": "bd8fd410-6a1f-473d-d30a-64dd248bbd48"
      },
      "execution_count": null,
      "outputs": [
        {
          "output_type": "stream",
          "name": "stdout",
          "text": [
            "Digite a quantidade de litros:20\n",
            "Digite o tipo de combustível (\"E\" para Etanol // \"D\" para Diesel )d\n",
            "O valor com desconto de 5% é 38.0\n"
          ]
        }
      ]
    },
    {
      "cell_type": "code",
      "source": [
        "# 13) Em uma empresa de venda de imóveis você precisa criar um código que analise os dados de vendas anuais para ajudar a diretoria na tomada de decisão. O código precisa coletar os dados de quantidade de venda durante\n",
        "#     os anos de 2022 e 2023 e fazer um cálculo de variação percentual. A partir do valor da variação, deve ser enviada às seguintes sugestões:\n",
        "\n",
        "ano2022 = int(input('Digite o valor das vendas no ano de 2022:'))\n",
        "ano2023 = int(input('Digite o valor das vendas no ano de 2023:'))\n",
        "\n",
        "variacao = (ano2023 - ano2022) / ano2022 * 100\n",
        "print(variacao)\n",
        "\n",
        "if variacao > 20:\n",
        "  print('Bonificação para o time de vendas')\n",
        "elif 2 <= variacao <= 20:\n",
        "  print('pequena bonificação para time de vendas')\n",
        "elif -10 <= variacao < 2:\n",
        "  print('planejamento de políticas de incentivo às vendas.')\n",
        "else:\n",
        "  print('Corte de gastos')\n",
        "\n",
        "#Para variação acima de 20%: bonificação para o time de vendas.\n",
        "#Para variação entre 2% e 20%: pequena bonificação para time de vendas.\n",
        "#Para variação entre 2% e -10%: planejamento de políticas de incentivo às vendas.\n",
        "#Para bonificações abaixo de -10%: corte de gastos.\n",
        "#Caso precise de ajuda, opções de solução das atividades estarão disponíveis na seção “Opinião da pessoa instrutora”."
      ],
      "metadata": {
        "id": "sVZLPdpVx1QV",
        "colab": {
          "base_uri": "https://localhost:8080/"
        },
        "outputId": "19d9676c-310d-412b-d920-57aee8302b2f"
      },
      "execution_count": null,
      "outputs": [
        {
          "output_type": "stream",
          "name": "stdout",
          "text": [
            "Digite o valor das vendas no ano de 2022:10\n",
            "Digite o valor das vendas no ano de 2023:8\n",
            "-20.0\n",
            "Corte de gastos\n"
          ]
        }
      ]
    },
    {
      "cell_type": "code",
      "source": [
        "venda_2022 = float(input('Informe a quantidade de vendas em 2022: '))\n",
        "venda_2023 = float(input('Informe a quantidade de vendas em 2023: '))\n",
        "\n",
        "# Calculamos a variação percentual entre as vendas dos anos de 2022 e 2023\n",
        "var_percentual = 100 * (venda_2023 - venda_2022) / (venda_2022)\n",
        "print(var_percentual)"
      ],
      "metadata": {
        "id": "5VBEVjTZx1Sj",
        "colab": {
          "base_uri": "https://localhost:8080/"
        },
        "outputId": "7908855e-3e5a-4878-a904-751c1c4c592f"
      },
      "execution_count": null,
      "outputs": [
        {
          "output_type": "stream",
          "name": "stdout",
          "text": [
            "Informe a quantidade de vendas em 2022: 20\n",
            "Informe a quantidade de vendas em 2023: 10\n",
            "-50.0\n"
          ]
        }
      ]
    },
    {
      "cell_type": "code",
      "source": [],
      "metadata": {
        "id": "NTZUT89Xx1Xj"
      },
      "execution_count": null,
      "outputs": []
    },
    {
      "cell_type": "markdown",
      "source": [
        "Agora imaginemos uma situação em que não são apenas 3 estudantes, mas sim 100 estudantes. Não seria interessante repetir o mesmo código por 100 vezes, mas sim **executar o mesmo código 100 vezes**.\n",
        "\n",
        "Essa repetição conseguimos construir com laços de repetição!"
      ],
      "metadata": {
        "id": "9puIuvUbFSFX"
      }
    },
    {
      "cell_type": "markdown",
      "source": [
        "## `WHILE`"
      ],
      "metadata": {
        "id": "uLO9-aE4-wx8"
      }
    },
    {
      "cell_type": "markdown",
      "source": [
        "O laço `while` é uma estrutura de controle de repetição em Python que permite executar um bloco de código repetidamente enquanto uma determinada condição é verdadeira. Sua estrutura é:\n",
        "\n",
        "\n",
        "\n",
        "```\n",
        "while condição:\n",
        "    # bloco de código\n",
        "```\n",
        "\n",
        "Vamos construir um exemplo com um contador de 1 até 10.\n"
      ],
      "metadata": {
        "id": "rXZxDMiqHxm9"
      }
    },
    {
      "cell_type": "code",
      "source": [
        "contador = 1\n",
        "while contador <=10:\n",
        "  print(contador)\n",
        "  contador += 1"
      ],
      "metadata": {
        "id": "6b_izu633j0O",
        "colab": {
          "base_uri": "https://localhost:8080/"
        },
        "outputId": "da0f4ed0-af28-4309-9471-c7d69f22029e"
      },
      "execution_count": null,
      "outputs": [
        {
          "output_type": "stream",
          "name": "stdout",
          "text": [
            "1\n",
            "2\n",
            "3\n",
            "4\n",
            "5\n",
            "6\n",
            "7\n",
            "8\n",
            "9\n",
            "10\n"
          ]
        }
      ]
    },
    {
      "cell_type": "markdown",
      "source": [
        "Agora vamos coletar as notas e médias de cada aluno dentro do while. Faremos um exemplo com 3 médias."
      ],
      "metadata": {
        "id": "W4KZPBJuIrut"
      }
    },
    {
      "cell_type": "code",
      "source": [
        "contador = 1\n",
        "while contador <=3:\n",
        "  num1 = float(input('Digite o primeiro número:'))\n",
        "  num2 = float(input('Digite o segundo número:'))\n",
        "\n",
        "  media = (num1 + num2) / 2\n",
        "\n",
        "  print(f'A média é {media}')\n",
        "\n",
        "  contador += 1\n",
        "  #contador = contador + 1\n"
      ],
      "metadata": {
        "id": "aIeQ_CzW3jiP"
      },
      "execution_count": null,
      "outputs": []
    },
    {
      "cell_type": "markdown",
      "source": [
        "## `FOR`"
      ],
      "metadata": {
        "id": "WgAIaENMMfCP"
      }
    },
    {
      "cell_type": "markdown",
      "source": [
        "O laço `for` é um tipo de estrutura de controle de fluxo em Python que permite iterar sobre um conjunto de elementos. A sua estrutura é:\n",
        "\n",
        "\n",
        "\n",
        "```\n",
        "for elemento in conjunto:\n",
        "    # código a ser executado para cada elemento\n",
        "```\n",
        "\n",
        "O laço for itera sobre cada elemento do conjunto especificado e executa o bloco de código dentro do laço para cada elemento. Quando o laço chega ao final do conjunto, ele é interrompido e o programa continua a execução após o laço.\n",
        "\n"
      ],
      "metadata": {
        "id": "HxrSZoRAMh-x"
      }
    },
    {
      "cell_type": "markdown",
      "source": [
        "O conjunto pode ser gerado com a função [`range()`](https://docs.python.org/3/library/functions.html#func-range). Que é uma função capaz de gerar uma sequência de números inteiros. A estrutura dessa função é:\n",
        "\n",
        "```\n",
        "range(inicio, fim, passo)\n",
        "```\n",
        "\n",
        "Segundo a documentação, o `range()` gera uma sequência de números inteiros a partir do valor do parâmetro `inicio` até o valor do parâmetro `fim`, de acordo com o valor do parâmetro `passo`. Se `inicio` não for especificado, o valor padrão é 0. Se `passo` não for especificado, o valor padrão é 1.\n",
        "\n",
        "\n"
      ],
      "metadata": {
        "id": "6VgjyoQtPHBM"
      }
    },
    {
      "cell_type": "markdown",
      "source": [
        "Vamos fazer o mesmo contador `while` agora com `for`."
      ],
      "metadata": {
        "id": "ryn0hfdlUwC8"
      }
    },
    {
      "cell_type": "code",
      "source": [
        "#ele vai iterar em cada elemento do range por vez, primeiro o 1, depois o 2 e assim por diante\n",
        "for contador in range(1,11):\n",
        "  print(contador)"
      ],
      "metadata": {
        "id": "t6qcdPyP3YgZ",
        "colab": {
          "base_uri": "https://localhost:8080/"
        },
        "outputId": "c38586ce-c681-4c3b-fd5e-e83aa4ec4b40"
      },
      "execution_count": null,
      "outputs": [
        {
          "output_type": "stream",
          "name": "stdout",
          "text": [
            "1\n",
            "2\n",
            "3\n",
            "4\n",
            "5\n",
            "6\n",
            "7\n",
            "8\n",
            "9\n",
            "10\n"
          ]
        }
      ]
    },
    {
      "cell_type": "code",
      "source": [
        "for contador in range(1,4):\n",
        "  num1 = float(input('Digite o primeiro número:'))\n",
        "  num2 = float(input('Digite o segundo número:'))\n",
        "\n",
        "  media = (num1 + num2) / 2\n",
        "\n",
        "  print(f'A média é {media}')\n",
        "  #print(f'A média é: {(num1 + num2) / 2}')\n",
        "\n",
        "  contador += 1\n",
        "  #contador = contador + 1"
      ],
      "metadata": {
        "id": "KBeY8z573YWz",
        "colab": {
          "base_uri": "https://localhost:8080/"
        },
        "outputId": "89dd7c35-de79-43c9-8cd8-702c8a7dfd12"
      },
      "execution_count": null,
      "outputs": [
        {
          "output_type": "stream",
          "name": "stdout",
          "text": [
            "Digite o primeiro número:6\n",
            "Digite o segundo número:10\n",
            "A média é: 8.0\n",
            "Digite o primeiro número:5\n",
            "Digite o segundo número:7\n",
            "A média é: 6.0\n",
            "Digite o primeiro número:10\n",
            "Digite o segundo número:9\n",
            "A média é: 9.5\n"
          ]
        }
      ]
    },
    {
      "cell_type": "code",
      "source": [
        "# O comando 'continue' vai pular pra próxima iteração sem o print(i), ou seja ele vai pular o número 4\n",
        "for i in range(1,6):\n",
        "    if i == 4:\n",
        "        continue\n",
        "    print(i)"
      ],
      "metadata": {
        "colab": {
          "base_uri": "https://localhost:8080/"
        },
        "id": "SFwNNzrxsATx",
        "outputId": "5768760c-dbad-4ae7-9cd5-54b0403e3cb9"
      },
      "execution_count": null,
      "outputs": [
        {
          "output_type": "stream",
          "name": "stdout",
          "text": [
            "1\n",
            "2\n",
            "3\n",
            "5\n"
          ]
        }
      ]
    },
    {
      "cell_type": "code",
      "source": [
        "# Já o comando break vai interroper o FOR. Ou seja, vai contar até o 3\n",
        "for i in range(1,6):\n",
        "  if i == 4:\n",
        "    break;\n",
        "  print(i)"
      ],
      "metadata": {
        "colab": {
          "base_uri": "https://localhost:8080/"
        },
        "id": "9FC1DN0QsKp6",
        "outputId": "4286d58c-3f23-4337-80b8-4136d41b2ad8"
      },
      "execution_count": null,
      "outputs": [
        {
          "output_type": "stream",
          "name": "stdout",
          "text": [
            "1\n",
            "2\n",
            "3\n"
          ]
        }
      ]
    },
    {
      "cell_type": "markdown",
      "source": [
        "# Estruturas de dados"
      ],
      "metadata": {
        "id": "8noP8OJ0Vhux"
      }
    },
    {
      "cell_type": "markdown",
      "source": [
        "Um conjunto de elementos é uma coleção de itens, que são armazenados juntos de maneira organizada. Alguns exemplos de conjuntos de elementos em Python são listas, strings e dicionários."
      ],
      "metadata": {
        "id": "xpEUkefTu8fY"
      }
    },
    {
      "cell_type": "markdown",
      "source": [
        "## Listas"
      ],
      "metadata": {
        "id": "THSg4KYLwxIb"
      }
    },
    {
      "cell_type": "markdown",
      "source": [
        "As listas podem armazenar uma coleção de itens em ordem. Eles são delimitados por colchetes `[]` e os itens são separados por vírgulas.\n",
        "\n",
        "Elas também podem armazenar qualquer tipo de item, incluindo números, strings, objetos e outras listas. Elas também podem armazenar itens de tipos de dados diferentes juntos em uma única lista."
      ],
      "metadata": {
        "id": "dzpsiqrOyJcK"
      }
    },
    {
      "cell_type": "code",
      "source": [
        "lista = ['Flavio', 8.0, 9.0, 5.0, True]\n",
        "lista"
      ],
      "metadata": {
        "id": "1NSzXfct3Lkw",
        "colab": {
          "base_uri": "https://localhost:8080/"
        },
        "outputId": "0c48cc44-a3a1-4d46-9731-76ffada5daee"
      },
      "execution_count": null,
      "outputs": [
        {
          "output_type": "execute_result",
          "data": {
            "text/plain": [
              "['Flavio', 8.0, 9.0, 5.0, True]"
            ]
          },
          "metadata": {},
          "execution_count": 1
        }
      ]
    },
    {
      "cell_type": "markdown",
      "source": [
        "As listas são organizadas em Python porque **cada elemento da lista tem um índice que indica sua posição na lista**. Os índices começam em 0 e vão até o tamanho da lista menos 1."
      ],
      "metadata": {
        "id": "qUz3sJNl6LgK"
      }
    },
    {
      "cell_type": "markdown",
      "source": [
        "Temos então 5 elementos com índices variando de 0 a 4, ordenadamente:\n",
        "\n",
        "```\n",
        "#             [0]           [1]   [2]   [3]    [4]\n",
        "lista = ['Fabricio Daniel', 9.5 , 9.0 , 8.0 , True]\n",
        "```\n",
        "\n",
        "Em Python temos também os índices **negativos** que se iniciam no último elemento com o valor de `-1` e depois avancam no universo dos negativos até chegar no 1° elemeno:\n",
        "\n",
        "```\n",
        "#             [-5]         [-4]  [-3]  [-2]   [-1]\n",
        "lista = ['Fabricio Daniel', 9.5 , 9.0 , 8.0 , True]\n",
        "```\n",
        "\n",
        "Conseguimos selecionar separadamente cada elemento através de seus respectivos índices. Colocando o nome da lista e em seguida o índice a ser selecionado."
      ],
      "metadata": {
        "id": "rLf-Qg526hFD"
      }
    },
    {
      "cell_type": "code",
      "source": [
        "lista[1]"
      ],
      "metadata": {
        "id": "S1lf1DWg3J7A",
        "colab": {
          "base_uri": "https://localhost:8080/"
        },
        "outputId": "6bed8bf1-bade-4124-be79-97e0005af465"
      },
      "execution_count": null,
      "outputs": [
        {
          "output_type": "execute_result",
          "data": {
            "text/plain": [
              "8.0"
            ]
          },
          "metadata": {},
          "execution_count": 5
        }
      ]
    },
    {
      "cell_type": "code",
      "source": [
        "lista[3]"
      ],
      "metadata": {
        "id": "5MZu9F6S3JxS",
        "colab": {
          "base_uri": "https://localhost:8080/"
        },
        "outputId": "d7381f28-b05a-4903-a229-55bb45cbc53e"
      },
      "execution_count": null,
      "outputs": [
        {
          "output_type": "execute_result",
          "data": {
            "text/plain": [
              "5.0"
            ]
          },
          "metadata": {},
          "execution_count": 3
        }
      ]
    },
    {
      "cell_type": "code",
      "source": [
        "lista[4]"
      ],
      "metadata": {
        "id": "9uLwwKom3Jmg",
        "colab": {
          "base_uri": "https://localhost:8080/"
        },
        "outputId": "493f47c1-6b7a-475f-cca2-93a50e443462"
      },
      "execution_count": null,
      "outputs": [
        {
          "output_type": "execute_result",
          "data": {
            "text/plain": [
              "True"
            ]
          },
          "metadata": {},
          "execution_count": 7
        }
      ]
    },
    {
      "cell_type": "markdown",
      "source": [
        "Uma forma mais dinâmica de trabalhar item por item de uma lista é utilizando um laço for para leitura elemento a elemento."
      ],
      "metadata": {
        "id": "6TaE1ijmBTCd"
      }
    },
    {
      "cell_type": "code",
      "source": [
        "for elemento in lista:\n",
        "  print(elemento)"
      ],
      "metadata": {
        "id": "2GWvY7F-3IVP",
        "colab": {
          "base_uri": "https://localhost:8080/"
        },
        "outputId": "4e314f09-ba93-4e17-8935-ce078ce61c37"
      },
      "execution_count": null,
      "outputs": [
        {
          "output_type": "stream",
          "name": "stdout",
          "text": [
            "Flavio\n",
            "8.0\n",
            "9.0\n",
            "5.0\n",
            "True\n"
          ]
        }
      ]
    },
    {
      "cell_type": "markdown",
      "source": [
        "A nota `8.0` de Fabricio Daniel precisa ser ajustada pois ganhou 2 pontos em sua ultima nota por fazer um trabalho de turma. Então é necessária fazer uma troca no valor do índice `3` de `8.0` para `10.0`."
      ],
      "metadata": {
        "id": "Dh1_HnIVvucY"
      }
    },
    {
      "cell_type": "code",
      "source": [
        "lista[1] = 10.0\n",
        "lista"
      ],
      "metadata": {
        "id": "ffFiIlji3G7H",
        "colab": {
          "base_uri": "https://localhost:8080/"
        },
        "outputId": "5fafdea3-e2dd-4a5f-e304-2aff999a1b76"
      },
      "execution_count": null,
      "outputs": [
        {
          "output_type": "execute_result",
          "data": {
            "text/plain": [
              "['Flavio', 10.0, 9.0, 5.0, True]"
            ]
          },
          "metadata": {},
          "execution_count": 11
        }
      ]
    },
    {
      "cell_type": "markdown",
      "source": [
        "conseguimos calcular a média do aluno a partir dos dados que temos"
      ],
      "metadata": {
        "id": "53XduzXkycAf"
      }
    },
    {
      "cell_type": "code",
      "source": [
        "media = (lista[1] + lista[2] + lista[3])/3\n",
        "media"
      ],
      "metadata": {
        "id": "fRy9twzI3GFI",
        "colab": {
          "base_uri": "https://localhost:8080/"
        },
        "outputId": "a5c81077-a9db-4eb0-f9b2-4b606f375114"
      },
      "execution_count": null,
      "outputs": [
        {
          "output_type": "execute_result",
          "data": {
            "text/plain": [
              "8.0"
            ]
          },
          "metadata": {},
          "execution_count": 12
        }
      ]
    },
    {
      "cell_type": "markdown",
      "source": [
        "## Manipulação de listas\n",
        "\n",
        "As listas são muito úteis em Python porque permitem armazenar e acessar uma coleção de itens de maneira organizada e rápida. Elas também oferecem muitos métodos úteis para manipular os itens armazenados, como adicionar, remover, classificar e pesquisar elementos."
      ],
      "metadata": {
        "id": "d-iYr10-y4qw"
      }
    },
    {
      "cell_type": "markdown",
      "source": [
        "#### Quantidade de elementos\n",
        "\n",
        "Usamos a função [`len()`](https://docs.python.org/3/library/functions.html#len) para descobrimos a quantidade de elementos de um conjunto."
      ],
      "metadata": {
        "id": "ZLqx9A97XVB_"
      }
    },
    {
      "cell_type": "code",
      "source": [
        "len(lista)"
      ],
      "metadata": {
        "id": "TOVGVubX3BI_",
        "colab": {
          "base_uri": "https://localhost:8080/"
        },
        "outputId": "1b0d1715-7d2e-4b0f-c6c7-b96eff45a69a"
      },
      "execution_count": null,
      "outputs": [
        {
          "output_type": "execute_result",
          "data": {
            "text/plain": [
              "5"
            ]
          },
          "metadata": {},
          "execution_count": 14
        }
      ]
    },
    {
      "cell_type": "markdown",
      "source": [
        "#### Partição\n",
        "\n",
        "A partição de listas por indexação em Python é uma técnica muito útil para selecionar um subconjunto de elementos de uma lista. Ela é feita usando a sintaxe `lista[inicio:fim]`, onde `inicio` é o índice do primeiro elemento a ser incluído na partição e `fim` é o índice do primeiro elemento a ser excluído da partição."
      ],
      "metadata": {
        "id": "Z5tpstlHJss3"
      }
    },
    {
      "cell_type": "code",
      "source": [
        "#sempre termina um antes do último\n",
        "lista[1:4]"
      ],
      "metadata": {
        "id": "Gm9RaTnG28uC",
        "colab": {
          "base_uri": "https://localhost:8080/"
        },
        "outputId": "f2dd1ce7-c278-41cb-a3a3-183253b8590e"
      },
      "execution_count": null,
      "outputs": [
        {
          "output_type": "execute_result",
          "data": {
            "text/plain": [
              "[10.0, 9.0, 5.0]"
            ]
          },
          "metadata": {},
          "execution_count": 16
        }
      ]
    },
    {
      "cell_type": "code",
      "source": [
        "lista[1:3]"
      ],
      "metadata": {
        "id": "LfitkLcQ26MO",
        "colab": {
          "base_uri": "https://localhost:8080/"
        },
        "outputId": "05ab0f65-2ede-4403-c49e-100188393e72"
      },
      "execution_count": null,
      "outputs": [
        {
          "output_type": "execute_result",
          "data": {
            "text/plain": [
              "[10.0, 9.0]"
            ]
          },
          "metadata": {},
          "execution_count": 17
        }
      ]
    },
    {
      "cell_type": "code",
      "source": [],
      "metadata": {
        "id": "1-99Q09W28Bu"
      },
      "execution_count": null,
      "outputs": []
    },
    {
      "cell_type": "code",
      "source": [
        "lista[3:]"
      ],
      "metadata": {
        "id": "j23Uwma5226l",
        "colab": {
          "base_uri": "https://localhost:8080/"
        },
        "outputId": "3f030d1e-b48f-4602-8ea0-c73d87b18a73"
      },
      "execution_count": null,
      "outputs": [
        {
          "output_type": "execute_result",
          "data": {
            "text/plain": [
              "[5.0, True]"
            ]
          },
          "metadata": {},
          "execution_count": 18
        }
      ]
    },
    {
      "cell_type": "code",
      "source": [],
      "metadata": {
        "id": "zfMrd28_21_q"
      },
      "execution_count": null,
      "outputs": []
    },
    {
      "cell_type": "markdown",
      "source": [
        "## Métodos Listas"
      ],
      "metadata": {
        "id": "6C0tTFgY4VPv"
      }
    },
    {
      "cell_type": "markdown",
      "source": [
        "#### [`append()`](https://docs.python.org/3/tutorial/datastructures.html#:~:text=of%20list%20objects%3A-,list.append(x),-Add%20an%20item)\n",
        "\n",
        "Adiciona um elemento ao final da lista."
      ],
      "metadata": {
        "id": "O0RRyabkRzZC"
      }
    },
    {
      "cell_type": "code",
      "source": [
        "lista.append(media)\n",
        "lista"
      ],
      "metadata": {
        "id": "Sr2BasZE20qF",
        "colab": {
          "base_uri": "https://localhost:8080/",
          "height": 159
        },
        "outputId": "fef0d313-498d-4105-f031-99ded9ebe892"
      },
      "execution_count": null,
      "outputs": [
        {
          "output_type": "error",
          "ename": "NameError",
          "evalue": "name 'lista' is not defined",
          "traceback": [
            "\u001b[0;31m---------------------------------------------------------------------------\u001b[0m",
            "\u001b[0;31mNameError\u001b[0m                                 Traceback (most recent call last)",
            "\u001b[0;32m<ipython-input-1-0d299e84d0fb>\u001b[0m in \u001b[0;36m<cell line: 1>\u001b[0;34m()\u001b[0m\n\u001b[0;32m----> 1\u001b[0;31m \u001b[0mlista\u001b[0m\u001b[0;34m.\u001b[0m\u001b[0mappend\u001b[0m\u001b[0;34m(\u001b[0m\u001b[0mmedia\u001b[0m\u001b[0;34m)\u001b[0m\u001b[0;34m\u001b[0m\u001b[0;34m\u001b[0m\u001b[0m\n\u001b[0m\u001b[1;32m      2\u001b[0m \u001b[0mlista\u001b[0m\u001b[0;34m\u001b[0m\u001b[0;34m\u001b[0m\u001b[0m\n",
            "\u001b[0;31mNameError\u001b[0m: name 'lista' is not defined"
          ]
        }
      ]
    },
    {
      "cell_type": "markdown",
      "source": [
        "#### [`extend()`](https://docs.python.org/3/tutorial/datastructures.html#:~:text=list.extend(iterable))\n",
        "\n",
        "Adiciona vários elementos ao final da lista.\n",
        "\n",
        "Adicionaremos as notas `[10.0,8.0,9.0]` na lista do Fabricio Daniel"
      ],
      "metadata": {
        "id": "uQV91XMsUOJD"
      }
    },
    {
      "cell_type": "code",
      "source": [
        "lista.extend([8.0, 9.0, 10.0])\n",
        "lista"
      ],
      "metadata": {
        "id": "b8a6wX2w2zrs",
        "colab": {
          "base_uri": "https://localhost:8080/",
          "height": 159
        },
        "outputId": "51bb7ff1-575d-4d63-e0a3-6aa85859fc87"
      },
      "execution_count": null,
      "outputs": [
        {
          "output_type": "error",
          "ename": "NameError",
          "evalue": "name 'lista' is not defined",
          "traceback": [
            "\u001b[0;31m---------------------------------------------------------------------------\u001b[0m",
            "\u001b[0;31mNameError\u001b[0m                                 Traceback (most recent call last)",
            "\u001b[0;32m<ipython-input-2-ddf537ef7b64>\u001b[0m in \u001b[0;36m<cell line: 1>\u001b[0;34m()\u001b[0m\n\u001b[0;32m----> 1\u001b[0;31m \u001b[0mlista\u001b[0m\u001b[0;34m.\u001b[0m\u001b[0mextend\u001b[0m\u001b[0;34m(\u001b[0m\u001b[0;34m[\u001b[0m\u001b[0;36m8.0\u001b[0m\u001b[0;34m,\u001b[0m \u001b[0;36m9.0\u001b[0m\u001b[0;34m,\u001b[0m \u001b[0;36m10.0\u001b[0m\u001b[0;34m]\u001b[0m\u001b[0;34m)\u001b[0m\u001b[0;34m\u001b[0m\u001b[0;34m\u001b[0m\u001b[0m\n\u001b[0m\u001b[1;32m      2\u001b[0m \u001b[0mlista\u001b[0m\u001b[0;34m\u001b[0m\u001b[0;34m\u001b[0m\u001b[0m\n",
            "\u001b[0;31mNameError\u001b[0m: name 'lista' is not defined"
          ]
        }
      ]
    },
    {
      "cell_type": "markdown",
      "source": [
        "*Isso não é possivel ser feito com o* `append`."
      ],
      "metadata": {
        "id": "IVJvkTwNUk6M"
      }
    },
    {
      "cell_type": "code",
      "source": [
        "lista.append([10, 8, 9])\n",
        "lista"
      ],
      "metadata": {
        "id": "DyT9kWkB2yeB"
      },
      "execution_count": null,
      "outputs": []
    },
    {
      "cell_type": "markdown",
      "source": [
        "#### [`remove()`](https://docs.python.org/3/tutorial/datastructures.html#:~:text=append(x).-,list.remove(x),-Remove%20the%20first)\n",
        "\n",
        "Remove um elemento específico da lista."
      ],
      "metadata": {
        "id": "dPGM5gpyUX1z"
      }
    },
    {
      "cell_type": "code",
      "source": [
        "#lista.remove([10, 8, 9])\n",
        "lista"
      ],
      "metadata": {
        "id": "QgXraxZL2xZN"
      },
      "execution_count": null,
      "outputs": []
    },
    {
      "cell_type": "markdown",
      "source": [
        "## Dicionário"
      ],
      "metadata": {
        "id": "Rc22Vc08YDZ2"
      }
    },
    {
      "cell_type": "markdown",
      "source": [
        "Os dicionários são um tipo de estrutura de dados que armazenam pares de *chave-valor*. Eles são delimitados por chaves `{}` e os pares *chave-valor* são separados por vírgulas.\n",
        "\n",
        "```\n",
        "dicionário = {chave: valor}\n",
        "```\n",
        "\n",
        "A **chave** é um elemento único que identifica um valor no dicionário, enquanto o **valor** é o item que é armazenado para a chave. As chaves e os valores podem ser de **qualquer tipo de dado**.\n",
        "\n",
        "Os dicionários são úteis para armazenar e acessar dados de maneira organizada e rápida. Eles são um tipo de conjunto de elementos em Python, pois armazenam uma coleção de itens."
      ],
      "metadata": {
        "id": "PJ-cCKPjeWxL"
      }
    },
    {
      "cell_type": "code",
      "source": [
        "dicionario = {'chave1':1,\n",
        "              'chave2':2}\n",
        "\n",
        "dicionario"
      ],
      "metadata": {
        "id": "fO6BSSP02lPY",
        "colab": {
          "base_uri": "https://localhost:8080/"
        },
        "outputId": "e785bfe0-1d34-4dba-e797-9a8d8f394ef9"
      },
      "execution_count": null,
      "outputs": [
        {
          "output_type": "execute_result",
          "data": {
            "text/plain": [
              "{'chave1': 1, 'chave2': 2}"
            ]
          },
          "metadata": {},
          "execution_count": 1
        }
      ]
    },
    {
      "cell_type": "markdown",
      "source": [
        "---\n",
        "**Situação:**\n",
        "\n",
        "Vamos criar um conjunto de dados com informações de matricula de um estudante. Os dados são os seguintes:\n",
        "\n",
        "- matricula: 2000168933\n",
        "- dia de cadastro: 25\n",
        "- mês de cadastro: 10\n",
        "- turma: 2E"
      ],
      "metadata": {
        "id": "_JbQ3KMKfkXU"
      }
    },
    {
      "cell_type": "code",
      "source": [
        "cadastro = {'matricula': 2000168933,\n",
        "            'dia_cadastro': 25,\n",
        "            'mes_cadastro': 10,\n",
        "            'turma': '2E'}\n",
        "cadastro"
      ],
      "metadata": {
        "id": "Q1SKuEXQ2jkL",
        "colab": {
          "base_uri": "https://localhost:8080/"
        },
        "outputId": "c743bf7f-86a8-434d-89eb-01006985e83f"
      },
      "execution_count": null,
      "outputs": [
        {
          "output_type": "execute_result",
          "data": {
            "text/plain": [
              "{'matricula': 2000168933,\n",
              " 'dia_cadastro': 25,\n",
              " 'mes_cadastro': 10,\n",
              " 'turma': '2E'}"
            ]
          },
          "metadata": {},
          "execution_count": 2
        }
      ]
    },
    {
      "cell_type": "code",
      "source": [
        "cadastro['matricula']"
      ],
      "metadata": {
        "id": "H7oT2M_a2jY5",
        "colab": {
          "base_uri": "https://localhost:8080/"
        },
        "outputId": "73f8fc88-4d3e-4775-f0da-24e4cd96dd99"
      },
      "execution_count": null,
      "outputs": [
        {
          "output_type": "execute_result",
          "data": {
            "text/plain": [
              "2000168933"
            ]
          },
          "metadata": {},
          "execution_count": 4
        }
      ]
    },
    {
      "cell_type": "code",
      "source": [
        "cadastro['turma']"
      ],
      "metadata": {
        "id": "Mv8we96a2jPR",
        "colab": {
          "base_uri": "https://localhost:8080/",
          "height": 35
        },
        "outputId": "db993362-6922-48a7-9c54-37db4b472681"
      },
      "execution_count": null,
      "outputs": [
        {
          "output_type": "execute_result",
          "data": {
            "text/plain": [
              "'2E'"
            ],
            "application/vnd.google.colaboratory.intrinsic+json": {
              "type": "string"
            }
          },
          "metadata": {},
          "execution_count": 5
        }
      ]
    },
    {
      "cell_type": "markdown",
      "source": [
        "É possível substituir os valores dentro de uma chave. Por exemplo, recebemos a informação que a turma do estudante que cadastramos foi trocada para `'2G'` e agora precisamos trocar o valor da chave `'turma'`."
      ],
      "metadata": {
        "id": "8ex5pt2ykDd2"
      }
    },
    {
      "cell_type": "code",
      "source": [
        "cadastro['turma'] = '2G'\n",
        "cadastro"
      ],
      "metadata": {
        "id": "WqZPkVop2hq-",
        "colab": {
          "base_uri": "https://localhost:8080/"
        },
        "outputId": "ce888284-d183-4f83-d0a7-cfe517b5c1d8"
      },
      "execution_count": null,
      "outputs": [
        {
          "output_type": "execute_result",
          "data": {
            "text/plain": [
              "{'matricula': 2000168933,\n",
              " 'dia_cadastro': 25,\n",
              " 'mes_cadastro': 10,\n",
              " 'turma': '2G'}"
            ]
          },
          "metadata": {},
          "execution_count": 6
        }
      ]
    },
    {
      "cell_type": "markdown",
      "source": [
        "Podemos também adicionar outros dados ao dicionário. Vamos adicionar a informação de modalidade de ensino, nosso estudante atuará inicialmente em modalidade EAD.\n",
        "\n",
        "Então iremos definir uma chave chamada `'modalidade'` e o valor `'EAD'`."
      ],
      "metadata": {
        "id": "wB0qRb56mQvv"
      }
    },
    {
      "cell_type": "code",
      "source": [
        "cadastro['modalidade'] = 'EAD'\n",
        "cadastro"
      ],
      "metadata": {
        "id": "YDbsuNbw2gb2",
        "colab": {
          "base_uri": "https://localhost:8080/"
        },
        "outputId": "f1a18220-176e-465c-a9e9-3285ebeb61fb"
      },
      "execution_count": null,
      "outputs": [
        {
          "output_type": "execute_result",
          "data": {
            "text/plain": [
              "{'matricula': 2000168933,\n",
              " 'dia_cadastro': 25,\n",
              " 'mes_cadastro': 10,\n",
              " 'turma': '2G',\n",
              " 'modalidade': 'EAD'}"
            ]
          },
          "metadata": {},
          "execution_count": 7
        }
      ]
    },
    {
      "cell_type": "markdown",
      "source": [
        "## Aprofundando em dicionários"
      ],
      "metadata": {
        "id": "LJ3o_inroxg_"
      }
    },
    {
      "cell_type": "markdown",
      "source": [
        "#### [`pop()`](https://python-reference.readthedocs.io/en/latest/docs/dict/pop.html)\n",
        "Remove um item de um dicionário e o retorna."
      ],
      "metadata": {
        "id": "2N3GLlkSpBiu"
      }
    },
    {
      "cell_type": "code",
      "source": [
        "cadastro.pop('turma')"
      ],
      "metadata": {
        "id": "NJKPaN0N2d2G",
        "colab": {
          "base_uri": "https://localhost:8080/",
          "height": 35
        },
        "outputId": "457f40d5-d13a-4313-8c1e-508ed90015fe"
      },
      "execution_count": null,
      "outputs": [
        {
          "output_type": "execute_result",
          "data": {
            "text/plain": [
              "'2E'"
            ],
            "application/vnd.google.colaboratory.intrinsic+json": {
              "type": "string"
            }
          },
          "metadata": {},
          "execution_count": 5
        }
      ]
    },
    {
      "cell_type": "code",
      "source": [
        "cadastro"
      ],
      "metadata": {
        "id": "7XZ7Rl4R2cSF"
      },
      "execution_count": null,
      "outputs": []
    },
    {
      "cell_type": "markdown",
      "source": [
        "#### [`items()`](https://python-reference.readthedocs.io/en/latest/docs/dict/items.html)\n",
        "Retorna uma lista de pares chave-valor do dicionário."
      ],
      "metadata": {
        "id": "sYZGvJJYrW_y"
      }
    },
    {
      "cell_type": "code",
      "source": [
        "cadastro.items()"
      ],
      "metadata": {
        "id": "rWJG9aZ72a0D",
        "colab": {
          "base_uri": "https://localhost:8080/"
        },
        "outputId": "35a81753-6a44-40fa-ea2a-4b22b43ae4c0"
      },
      "execution_count": null,
      "outputs": [
        {
          "output_type": "execute_result",
          "data": {
            "text/plain": [
              "dict_items([('matricula', 2000168933), ('dia_cadastro', 25), ('mes_cadastro', 10)])"
            ]
          },
          "metadata": {},
          "execution_count": 7
        }
      ]
    },
    {
      "cell_type": "markdown",
      "source": [
        "#### [`keys()`](https://python-reference.readthedocs.io/en/latest/docs/dict/keys.html)\n",
        "Retorna uma lista das chaves do dicionário."
      ],
      "metadata": {
        "id": "Lb0utNFGrZBY"
      }
    },
    {
      "cell_type": "code",
      "source": [
        "cadastro.keys()"
      ],
      "metadata": {
        "id": "H1WmQRaR2Z-l",
        "colab": {
          "base_uri": "https://localhost:8080/"
        },
        "outputId": "a085420c-07a8-45dc-8d03-eed561aa8397"
      },
      "execution_count": null,
      "outputs": [
        {
          "output_type": "execute_result",
          "data": {
            "text/plain": [
              "dict_keys(['matricula', 'dia_cadastro', 'mes_cadastro'])"
            ]
          },
          "metadata": {},
          "execution_count": 8
        }
      ]
    },
    {
      "cell_type": "markdown",
      "source": [
        "#### [`values()`](https://python-reference.readthedocs.io/en/latest/docs/dict/values.html)\n",
        "Retorna uma lista dos valores do dicionário."
      ],
      "metadata": {
        "id": "qKyu3bf9rbtX"
      }
    },
    {
      "cell_type": "code",
      "source": [
        "cadastro.values()"
      ],
      "metadata": {
        "id": "E5pgDcfQ2ZHH",
        "colab": {
          "base_uri": "https://localhost:8080/"
        },
        "outputId": "eb04ebd5-6c75-48b6-fbc0-b1ff87c5b701"
      },
      "execution_count": null,
      "outputs": [
        {
          "output_type": "execute_result",
          "data": {
            "text/plain": [
              "dict_values([2000168933, 25, 10])"
            ]
          },
          "metadata": {},
          "execution_count": 9
        }
      ]
    },
    {
      "cell_type": "markdown",
      "source": [
        "### Leitura de valores com `for`"
      ],
      "metadata": {
        "id": "e3XVjR8Frp75"
      }
    },
    {
      "cell_type": "code",
      "source": [
        "for chaves in cadastro.keys():\n",
        "  print(cadastro[chaves])"
      ],
      "metadata": {
        "id": "iwIY3hwV2XL5",
        "colab": {
          "base_uri": "https://localhost:8080/"
        },
        "outputId": "d5826a5f-5084-4469-ccd7-96c28f5d3e8d"
      },
      "execution_count": null,
      "outputs": [
        {
          "output_type": "stream",
          "name": "stdout",
          "text": [
            "2000168933\n",
            "25\n",
            "10\n"
          ]
        }
      ]
    },
    {
      "cell_type": "code",
      "source": [
        "for valores in cadastro.values():\n",
        "  print(valores)"
      ],
      "metadata": {
        "id": "KlEbYjKN2XCy",
        "colab": {
          "base_uri": "https://localhost:8080/"
        },
        "outputId": "3c2ce6e8-b850-46ef-fdae-93bf0b666c6c"
      },
      "execution_count": null,
      "outputs": [
        {
          "output_type": "stream",
          "name": "stdout",
          "text": [
            "2000168933\n",
            "25\n",
            "10\n"
          ]
        }
      ]
    },
    {
      "cell_type": "code",
      "source": [
        "for chave, valores in cadastro.items():\n",
        "  print(chaves, valores)"
      ],
      "metadata": {
        "id": "aiCgk-o42W6u",
        "colab": {
          "base_uri": "https://localhost:8080/"
        },
        "outputId": "13f9f816-7037-429e-8f04-b7e49700837f"
      },
      "execution_count": null,
      "outputs": [
        {
          "output_type": "stream",
          "name": "stdout",
          "text": [
            "mes_cadastro 2000168933\n",
            "mes_cadastro 25\n",
            "mes_cadastro 10\n"
          ]
        }
      ]
    },
    {
      "cell_type": "code",
      "source": [
        "loja = {'nomes': ['televisão', 'celular', 'notebook', 'geladeira', 'fogão'],\n",
        "        'precos': [2000, 1500, 3500, 4000, 1500]}"
      ],
      "metadata": {
        "id": "iUTHhtl4030a"
      },
      "execution_count": null,
      "outputs": []
    },
    {
      "cell_type": "code",
      "source": [
        "for chave, elementos in loja.items():\n",
        "  print(f'Chave: {chave}\\nElementos:')\n",
        "  for dado in elementos:\n",
        "    print(dado)"
      ],
      "metadata": {
        "colab": {
          "base_uri": "https://localhost:8080/"
        },
        "id": "26rqDy4e035N",
        "outputId": "f115996e-131b-4be2-9f08-cf3ddd8f3261"
      },
      "execution_count": null,
      "outputs": [
        {
          "output_type": "stream",
          "name": "stdout",
          "text": [
            "Chave: nomes\n",
            "Elementos:\n",
            "televisão\n",
            "celular\n",
            "notebook\n",
            "geladeira\n",
            "fogão\n",
            "Chave: precos\n",
            "Elementos:\n",
            "2000\n",
            "1500\n",
            "3500\n",
            "4000\n",
            "1500\n"
          ]
        }
      ]
    }
  ]
}
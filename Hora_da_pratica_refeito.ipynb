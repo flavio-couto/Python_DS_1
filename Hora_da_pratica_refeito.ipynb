{
  "nbformat": 4,
  "nbformat_minor": 0,
  "metadata": {
    "colab": {
      "provenance": [],
      "toc_visible": true,
      "collapsed_sections": [
        "XGePe4GD2I59",
        "6MSqU0sIJRdD",
        "oGNKuQjsJRdT"
      ],
      "include_colab_link": true
    },
    "kernelspec": {
      "name": "python3",
      "display_name": "Python 3"
    },
    "language_info": {
      "name": "python"
    }
  },
  "cells": [
    {
      "cell_type": "markdown",
      "metadata": {
        "id": "view-in-github",
        "colab_type": "text"
      },
      "source": [
        "<a href=\"https://colab.research.google.com/github/flavio-couto/Python_DS_1/blob/main/Hora_da_pratica_refeito.ipynb\" target=\"_parent\"><img src=\"https://colab.research.google.com/assets/colab-badge.svg\" alt=\"Open In Colab\"/></a>"
      ]
    },
    {
      "cell_type": "markdown",
      "source": [
        "# Sobre o notebook\n",
        "\n",
        "A \"hora da prática\" é uma atividade do curso de Python para Data Science da Alura que contém diversos desafios envolvendo os aprendizados de cada aula.\n",
        "\n",
        "O notebook \"hora da pratica\" é um notebook construído com espaço para as células dos desafios propostos no curso, com ele você tem espaço para construir e executar suas soluções"
      ],
      "metadata": {
        "id": "_kwAaQ36gLQ1"
      }
    },
    {
      "cell_type": "markdown",
      "source": [
        "## Aula 1 - Introdução ao Python"
      ],
      "metadata": {
        "id": "Mc-KN0dA0Z83"
      }
    },
    {
      "cell_type": "markdown",
      "source": [
        "### Questão 1\n",
        "\n",
        "Imprima a frase `Escola de Dados da Alura!`"
      ],
      "metadata": {
        "id": "l5eLWf0W0ikn"
      }
    },
    {
      "cell_type": "code",
      "source": [
        "print('Escola de Dados da Alura')"
      ],
      "metadata": {
        "id": "5pllxJ0h0-yA",
        "colab": {
          "base_uri": "https://localhost:8080/"
        },
        "outputId": "d719f696-a3db-4072-f90b-264569799121"
      },
      "execution_count": null,
      "outputs": [
        {
          "output_type": "stream",
          "name": "stdout",
          "text": [
            "Escola de Dados da Alura\n"
          ]
        }
      ]
    },
    {
      "cell_type": "markdown",
      "source": [
        "### Questão 2\n",
        "Imprima na tela seu nome e seu sobrenome seguindo a estrutura abaixo:\n",
        "```\n",
        "Nome: [seu nome]\n",
        "Sobrenome: [seu sobrenome]\n",
        "```\n"
      ],
      "metadata": {
        "id": "tQdX90Ue03c7"
      }
    },
    {
      "cell_type": "code",
      "source": [
        "print('Flávio')\n",
        "print('Couto de Matos')"
      ],
      "metadata": {
        "id": "RVw5iKn20_Ps",
        "colab": {
          "base_uri": "https://localhost:8080/"
        },
        "outputId": "813c5397-a8c4-4183-af21-5ff733ae9c37"
      },
      "execution_count": null,
      "outputs": [
        {
          "output_type": "stream",
          "name": "stdout",
          "text": [
            "Flávio\n",
            "Couto de Matos\n"
          ]
        }
      ]
    },
    {
      "cell_type": "markdown",
      "source": [
        "### Questão 3\n",
        "Imprima o seu primeiro nome letra a letra. Por exemplo, nome é Mirla, então eu obtenho a seguinte saída:\n",
        "```\n",
        "M\n",
        "I\n",
        "R\n",
        "L\n",
        "A\n",
        "```\n"
      ],
      "metadata": {
        "id": "gfg-aiip03vC"
      }
    },
    {
      "cell_type": "code",
      "source": [
        "print('F\\nL\\nA\\nV\\nI\\nO')"
      ],
      "metadata": {
        "id": "v5bkrgf60_qx",
        "colab": {
          "base_uri": "https://localhost:8080/"
        },
        "outputId": "61ff383d-5113-4d73-d752-82ba1c1f3e7b"
      },
      "execution_count": null,
      "outputs": [
        {
          "output_type": "stream",
          "name": "stdout",
          "text": [
            "F\n",
            "L\n",
            "A\n",
            "V\n",
            "I\n",
            "O\n"
          ]
        }
      ]
    },
    {
      "cell_type": "markdown",
      "source": [
        "### Questão 4\n",
        "Imprima o dia do seu nascimento em formato `dia mês ano`. Os valores de dia e ano não podem estar entre aspas. O formato deve estar como no exemplo, supondo uma data de aniversário dia 28 de fevereiro de 2003:\n",
        "```\n",
        "28 fevereiro 2003\n",
        "```"
      ],
      "metadata": {
        "id": "oadrJbl704MM"
      }
    },
    {
      "cell_type": "code",
      "source": [
        "print(12, 'Novembro', 1985)"
      ],
      "metadata": {
        "id": "cx0KSsrq1ALD",
        "colab": {
          "base_uri": "https://localhost:8080/"
        },
        "outputId": "f201ac35-a465-4fd7-8fcb-98ffecbc2073"
      },
      "execution_count": null,
      "outputs": [
        {
          "output_type": "stream",
          "name": "stdout",
          "text": [
            "12 Novembro 1985\n"
          ]
        }
      ]
    },
    {
      "cell_type": "markdown",
      "source": [
        "### Questão 5\n",
        "Imprima em um único print o atual ano que você está fazendo esse curso, o valor do ano deve ser um dado numérico. A saída do print deve ser a seguinte:\n",
        "```\n",
        "Ano atual: [ano]\n",
        "```\n"
      ],
      "metadata": {
        "id": "3RgyMaan04TD"
      }
    },
    {
      "cell_type": "code",
      "execution_count": null,
      "metadata": {
        "id": "UN77EfQ2d36Y",
        "colab": {
          "base_uri": "https://localhost:8080/"
        },
        "outputId": "71250a84-7847-4672-a4bf-45f6c7d21615"
      },
      "outputs": [
        {
          "output_type": "stream",
          "name": "stdout",
          "text": [
            "Ano atual:  2024\n"
          ]
        }
      ],
      "source": [
        "print('Ano atual: ', 2024)"
      ]
    },
    {
      "cell_type": "markdown",
      "source": [
        "## Aula 2 - Manipulando dados no Python"
      ],
      "metadata": {
        "id": "D9e3FqhO1S3X"
      }
    },
    {
      "cell_type": "markdown",
      "source": [
        "### Coleta e amostragem de dados"
      ],
      "metadata": {
        "id": "n6o7C1Ze2cRe"
      }
    },
    {
      "cell_type": "markdown",
      "source": [
        "#### Questão 1\n",
        "Crie um programa que solicite à pessoa usuária digitar seu nome, e imprima “Olá, [nome]!”."
      ],
      "metadata": {
        "id": "sRneWag9PV5Q"
      }
    },
    {
      "cell_type": "code",
      "source": [
        "nome = input('Digite o seu nome:')\n",
        "print(f'Olá, {nome}')"
      ],
      "metadata": {
        "id": "dbX1fKqy2HnE",
        "colab": {
          "base_uri": "https://localhost:8080/"
        },
        "outputId": "0c7030fb-8c78-4581-c8d4-1f59a6531dc3"
      },
      "execution_count": null,
      "outputs": [
        {
          "output_type": "stream",
          "name": "stdout",
          "text": [
            "Digite o seu nome:Flavio\n",
            "Olá, Flavio\n"
          ]
        }
      ]
    },
    {
      "cell_type": "markdown",
      "source": [
        "#### Questão 2\n",
        "Crie um programa que solicite à pessoa usuária digitar seu nome e idade, e imprima “Olá, [nome], você tem [idade] anos.”."
      ],
      "metadata": {
        "id": "BJ1SznEp70d5"
      }
    },
    {
      "cell_type": "code",
      "source": [
        "nome = input('Digite o seu nome:')\n",
        "idade = int(input('Digite a sua idade:'))\n",
        "print(f'Olá, {nome}, você tem {idade} anos')"
      ],
      "metadata": {
        "id": "jKz-0Sq8PFkp",
        "colab": {
          "base_uri": "https://localhost:8080/"
        },
        "outputId": "e2586391-4230-49d6-87d4-d8b923340422"
      },
      "execution_count": null,
      "outputs": [
        {
          "output_type": "stream",
          "name": "stdout",
          "text": [
            "Digite o seu nome:flavio\n",
            "Digite a sua idade:38\n",
            "Olá, flavio, você tem 38 anos\n"
          ]
        }
      ]
    },
    {
      "cell_type": "markdown",
      "source": [
        "#### Questão 3\n",
        "Crie um programa que solicite à pessoa usuária digitar seu nome, idade e altura em metros, e imprima “Olá, [nome], você tem [idade] anos e mede [altura] metros!”."
      ],
      "metadata": {
        "id": "2T0jNYZt70aa"
      }
    },
    {
      "cell_type": "code",
      "source": [
        "nome = input('Digite o seu nome:')\n",
        "idade = int(input('Digite a sua idade:'))\n",
        "altura = float(input('Digite a sua altura:'))\n",
        "print(f'Olá, {nome}, você tem {idade} anos e mede {altura}m')"
      ],
      "metadata": {
        "id": "pI4kHNzTPIXh",
        "colab": {
          "base_uri": "https://localhost:8080/"
        },
        "outputId": "ce74fa5e-78b0-4118-c3b2-117071beb61a"
      },
      "execution_count": null,
      "outputs": [
        {
          "output_type": "stream",
          "name": "stdout",
          "text": [
            "Digite o seu nome:f\n",
            "Digite a sua idade:30\n",
            "Digite a sua altura:1.74\n",
            "Olá, f, você tem 30 anos e mede 1.74m\n"
          ]
        }
      ]
    },
    {
      "cell_type": "markdown",
      "source": [
        "### Calculadora com operadores"
      ],
      "metadata": {
        "id": "mEBFwKkC70KP"
      }
    },
    {
      "cell_type": "markdown",
      "source": [
        "#### Questão 1\n",
        "\n",
        "Crie um programa que solicite dois valores numéricos à pessoa usuária e imprima a soma dos dois valores."
      ],
      "metadata": {
        "id": "H-IV1oAPPSqK"
      }
    },
    {
      "cell_type": "code",
      "source": [
        "n1 = int(input('Digite o 1º número:'))\n",
        "n2 = int(input('Digite o 2º número:'))\n",
        "\n",
        "soma = n1 + n2\n",
        "\n",
        "print(soma)"
      ],
      "metadata": {
        "id": "Zb0W84sy8rnp",
        "colab": {
          "base_uri": "https://localhost:8080/"
        },
        "outputId": "e3c109f2-1d68-4693-9b2c-f37afa6b3ffe"
      },
      "execution_count": null,
      "outputs": [
        {
          "output_type": "stream",
          "name": "stdout",
          "text": [
            "Digite o 1º número:5\n",
            "Digite o 2º número:7\n",
            "12\n"
          ]
        }
      ]
    },
    {
      "cell_type": "markdown",
      "source": [
        "#### Questão 2\n",
        "Crie um programa que solicite três valores numéricos à pessoa usuária e imprima a soma dos três valores."
      ],
      "metadata": {
        "id": "LUoi2MOu70Em"
      }
    },
    {
      "cell_type": "code",
      "source": [
        "'''\n",
        "Resolução feita no início do curso\n",
        "n1 = int(input('Digite o 1º número:'))\n",
        "n2 = int(input('Digite o 2º número:'))\n",
        "n3 = int(input('Digite o 3º número:'))\n",
        "soma = n1 + n2\n",
        "\n",
        "print(soma)\n",
        "'''\n",
        "\n",
        "# Resolvendo depois de entender as sintaxes da repetição, melhor seria o FOR\n",
        "cont = 0\n",
        "\n",
        "while cont < 3:\n",
        "  soma = 0\n",
        "  num = int(input('Digite um número:'))\n",
        "  soma += num\n",
        "  print(soma)\n",
        "  cont += 1\n",
        "\n"
      ],
      "metadata": {
        "id": "4FYjWyBS8rDm",
        "colab": {
          "base_uri": "https://localhost:8080/"
        },
        "outputId": "90b72f21-b69b-4de3-ca70-3c24dad7114e"
      },
      "execution_count": null,
      "outputs": [
        {
          "output_type": "stream",
          "name": "stdout",
          "text": [
            "Digite um número:5\n",
            "5\n",
            "Digite um número:5\n",
            "5\n",
            "Digite um número:5\n",
            "5\n"
          ]
        }
      ]
    },
    {
      "cell_type": "markdown",
      "source": [
        "#### Questão 3\n",
        "Crie um programa que solicite dois valores numéricos à pessoa usuária e imprima a subtração do primeiro pelo o segundo valor."
      ],
      "metadata": {
        "id": "lezGctF07z8i"
      }
    },
    {
      "cell_type": "code",
      "source": [
        "n1 = int(input('Digite o 1º número:'))\n",
        "n2 = int(input('Digite o 2º número:'))\n",
        "\n",
        "subt = n1 - n2\n",
        "\n",
        "print(subt)"
      ],
      "metadata": {
        "id": "k0GE1z4w8p3J",
        "colab": {
          "base_uri": "https://localhost:8080/"
        },
        "outputId": "e8f52830-456e-4ff0-c703-4c2ad330f5dd"
      },
      "execution_count": null,
      "outputs": [
        {
          "output_type": "stream",
          "name": "stdout",
          "text": [
            "Digite o 1º número:5\n",
            "Digite o 2º número:3\n",
            "2\n"
          ]
        }
      ]
    },
    {
      "cell_type": "markdown",
      "source": [
        "#### Questão 4\n",
        "\n",
        "Crie um programa que solicite dois valores numéricos à pessoa usuária e imprima a multiplicação dos dois valores.\n"
      ],
      "metadata": {
        "id": "wwMP-dPU7zxW"
      }
    },
    {
      "cell_type": "code",
      "source": [
        "n1 = int(input('Digite o 1º número:'))\n",
        "n2 = int(input('Digite o 2º número:'))\n",
        "\n",
        "mult = n1 * n2\n",
        "\n",
        "print(mult)"
      ],
      "metadata": {
        "id": "GzFCVHfp8peZ",
        "colab": {
          "base_uri": "https://localhost:8080/"
        },
        "outputId": "6f66a747-6c4c-4e49-dca7-41788cc0ee37"
      },
      "execution_count": null,
      "outputs": [
        {
          "output_type": "stream",
          "name": "stdout",
          "text": [
            "Digite o 1º número:5\n",
            "Digite o 2º número:5\n",
            "25\n"
          ]
        }
      ]
    },
    {
      "cell_type": "markdown",
      "source": [
        "#### Questão 5\n",
        "\n",
        "Crie um programa que solicite dois valores numéricos, um numerador e um denominador, e realize a divisão entre os dois valores. Deixe claro que o valor do denominador não pode ser `0`.\n"
      ],
      "metadata": {
        "id": "9kxyHxUo7zRD"
      }
    },
    {
      "cell_type": "code",
      "source": [
        "n1 = int(input('Digite o Numerador:'))\n",
        "n2 = int(input('Digite o 2º Denominador:'))\n",
        "\n",
        "div = n1 / n2\n",
        "\n",
        "print(div)"
      ],
      "metadata": {
        "id": "ytJ8l5KH8ozc",
        "colab": {
          "base_uri": "https://localhost:8080/"
        },
        "outputId": "da4d475a-39b5-45a9-cc26-fb020b59c5e6"
      },
      "execution_count": null,
      "outputs": [
        {
          "output_type": "stream",
          "name": "stdout",
          "text": [
            "Digite o Numerador:10\n",
            "Digite o 2º Denominador:2\n",
            "5.0\n"
          ]
        }
      ]
    },
    {
      "cell_type": "markdown",
      "source": [
        "#### Questão 6\n",
        "\n",
        "Crie um programa que solicite dois valores numéricos, um operador e uma potência, e realize a exponenciação entre esses dois valores.\n"
      ],
      "metadata": {
        "id": "zkUSBTQq8Hxt"
      }
    },
    {
      "cell_type": "code",
      "source": [
        "n1 = int(input('Digite o Numerador:'))\n",
        "n2 = int(input('Digite o 2º Denominador:'))\n",
        "\n",
        "expo = n1 ** n2\n",
        "\n",
        "print(expo)"
      ],
      "metadata": {
        "id": "RPj36jq08oZp",
        "colab": {
          "base_uri": "https://localhost:8080/"
        },
        "outputId": "ba183dff-1fd3-4a33-df48-7a6a359a9364"
      },
      "execution_count": null,
      "outputs": [
        {
          "output_type": "stream",
          "name": "stdout",
          "text": [
            "Digite o Numerador:3\n",
            "Digite o 2º Denominador:3\n",
            "27\n"
          ]
        }
      ]
    },
    {
      "cell_type": "markdown",
      "source": [
        "#### Questão 7\n",
        "Crie um programa que solicite dois valores numéricos, um numerador e um denominador e realize a divisão inteira entre os dois valores. Deixe claro que o valor do denominador não pode ser `0`."
      ],
      "metadata": {
        "id": "yiunIusZ8Huj"
      }
    },
    {
      "cell_type": "code",
      "source": [
        "n1 = int(input('Digite o Numerador:'))\n",
        "n2 = int(input('Digite o 2º Denominador:'))\n",
        "\n",
        "div_int = n1 // n2\n",
        "\n",
        "print(div_int)"
      ],
      "metadata": {
        "id": "UHK8xITf8oCg",
        "colab": {
          "base_uri": "https://localhost:8080/"
        },
        "outputId": "d337f026-bb56-47b1-93e7-f44307cac738"
      },
      "execution_count": null,
      "outputs": [
        {
          "output_type": "stream",
          "name": "stdout",
          "text": [
            "Digite o Numerador:7\n",
            "Digite o 2º Denominador:2\n",
            "3\n"
          ]
        }
      ]
    },
    {
      "cell_type": "markdown",
      "source": [
        "#### Questão 8\n",
        "\n",
        "Crie um programa que solicite dois valores numéricos, um numerador e um denominador, e retorne o resto da divisão entre os dois valores. Deixe claro que o valor do denominador não pode ser `0`."
      ],
      "metadata": {
        "id": "z_D_JiLX8Hra"
      }
    },
    {
      "cell_type": "code",
      "source": [
        "n1 = int(input('Digite o Numerador:'))\n",
        "n2 = int(input('Digite o 2º Denominador:'))\n",
        "\n",
        "resto = n1 % n2\n",
        "\n",
        "print(resto)"
      ],
      "metadata": {
        "id": "EWGJeukO8nqx",
        "colab": {
          "base_uri": "https://localhost:8080/"
        },
        "outputId": "62ab962f-3d45-4eb5-9b29-6a4bebaf50cb"
      },
      "execution_count": null,
      "outputs": [
        {
          "output_type": "stream",
          "name": "stdout",
          "text": [
            "Digite o Numerador:10\n",
            "Digite o 2º Denominador:6\n",
            "4\n"
          ]
        }
      ]
    },
    {
      "cell_type": "markdown",
      "source": [
        "#### Questão 9\n",
        "\n",
        "Crie um código que solicita 3 notas de um estudante e imprima a média das notas.\n"
      ],
      "metadata": {
        "id": "RDRajNkU8N8N"
      }
    },
    {
      "cell_type": "code",
      "source": [
        "soma = 0\n",
        "for i in range(1,4):\n",
        "  nota = float(input(f'Digite a nota {i}: '))\n",
        "  soma += nota\n",
        "print(f'A soma total é: {soma}\\n')\n",
        "media = soma/3\n",
        "print(f'A média é {media}')"
      ],
      "metadata": {
        "id": "H6F4Ojzt8nSR",
        "colab": {
          "base_uri": "https://localhost:8080/"
        },
        "outputId": "3494d117-8c56-4d79-87af-d26b36ecd11f"
      },
      "execution_count": null,
      "outputs": [
        {
          "output_type": "stream",
          "name": "stdout",
          "text": [
            "Digite a nota 1: 5\n",
            "Digite a nota 2: 5\n",
            "Digite a nota 3: 5\n",
            "A soma total é: 15.0\n",
            "\n",
            "A média é 5.0\n"
          ]
        }
      ]
    },
    {
      "cell_type": "markdown",
      "source": [
        "#### Questão 10\n",
        "\n",
        "Crie um código que calcule e imprima a média ponderada dos números 5, 12, 20 e 15 com pesos respectivamente iguais a 1, 2, 3 e 4."
      ],
      "metadata": {
        "id": "d7fjkne58N21"
      }
    },
    {
      "cell_type": "code",
      "source": [
        "num1 = 5\n",
        "num2 = 12\n",
        "num3 = 20\n",
        "num4 = 15\n",
        "\n",
        "media = (num1 + num2*2 + num3*3 + num4*4) / (1+2+3+4)\n",
        "print(media)"
      ],
      "metadata": {
        "id": "fwjoHlV48mkv",
        "colab": {
          "base_uri": "https://localhost:8080/"
        },
        "outputId": "8642c088-8a8a-42d3-ce14-8205f3df6605"
      },
      "execution_count": null,
      "outputs": [
        {
          "output_type": "stream",
          "name": "stdout",
          "text": [
            "14.9\n"
          ]
        }
      ]
    },
    {
      "cell_type": "markdown",
      "source": [
        "### Editando textos"
      ],
      "metadata": {
        "id": "GNmbX1OU8N0V"
      }
    },
    {
      "cell_type": "markdown",
      "source": [
        "#### Questão 1\n",
        "\n",
        "Crie uma variável chamada “`frase`” e atribua a ela uma string de sua escolha. Em seguida, imprima a frase na tela."
      ],
      "metadata": {
        "id": "6wZ85mCsRCV0"
      }
    },
    {
      "cell_type": "code",
      "source": [
        "frase = 'Bom dia modas'\n",
        "frase"
      ],
      "metadata": {
        "id": "eRqr_gh-8mFy",
        "colab": {
          "base_uri": "https://localhost:8080/",
          "height": 35
        },
        "outputId": "076e1b5b-3304-4727-f0c7-3c90dde6fde1"
      },
      "execution_count": null,
      "outputs": [
        {
          "output_type": "execute_result",
          "data": {
            "text/plain": [
              "'Bom dia modas'"
            ],
            "application/vnd.google.colaboratory.intrinsic+json": {
              "type": "string"
            }
          },
          "metadata": {},
          "execution_count": 55
        }
      ]
    },
    {
      "cell_type": "markdown",
      "source": [
        "#### Questão 2\n",
        "Crie um código que solicite uma frase e depois imprima a frase na tela."
      ],
      "metadata": {
        "id": "Aac17z-18Nwv"
      }
    },
    {
      "cell_type": "code",
      "source": [
        "frase = input('Digite uma frase: ')\n",
        "frase"
      ],
      "metadata": {
        "id": "8zfE2hh98lb0",
        "colab": {
          "base_uri": "https://localhost:8080/",
          "height": 53
        },
        "outputId": "5e19b631-649b-4ce0-ecd3-7b1cb22fd82e"
      },
      "execution_count": null,
      "outputs": [
        {
          "name": "stdout",
          "output_type": "stream",
          "text": [
            "Digite uma frase: hello moda\n"
          ]
        },
        {
          "output_type": "execute_result",
          "data": {
            "text/plain": [
              "'hello moda'"
            ],
            "application/vnd.google.colaboratory.intrinsic+json": {
              "type": "string"
            }
          },
          "metadata": {},
          "execution_count": 56
        }
      ]
    },
    {
      "cell_type": "markdown",
      "source": [
        "#### Questão 3\n",
        "\n",
        "Crie um código que solicite uma frase à pessoa usuária e imprima a mesma frase digitada mas com todas as letras maiúsculas."
      ],
      "metadata": {
        "id": "DXVzqpN58Ntr"
      }
    },
    {
      "cell_type": "code",
      "source": [
        "frase = input('Digite uma frase: ').upper()\n",
        "frase"
      ],
      "metadata": {
        "id": "d0VzoYP68k-I",
        "colab": {
          "base_uri": "https://localhost:8080/",
          "height": 53
        },
        "outputId": "e07d32b7-fc45-4358-fc0f-31e0bdd4944d"
      },
      "execution_count": null,
      "outputs": [
        {
          "name": "stdout",
          "output_type": "stream",
          "text": [
            "Digite uma frase: asde\n"
          ]
        },
        {
          "output_type": "execute_result",
          "data": {
            "text/plain": [
              "'ASDE'"
            ],
            "application/vnd.google.colaboratory.intrinsic+json": {
              "type": "string"
            }
          },
          "metadata": {},
          "execution_count": 58
        }
      ]
    },
    {
      "cell_type": "markdown",
      "source": [
        "#### Questão 4\n",
        "\n",
        "Crie um código que solicite uma frase à pessoa usuária e imprima a mesma frase digitada mas com todas as letras minúsculas."
      ],
      "metadata": {
        "id": "I12VeNPK8Nqb"
      }
    },
    {
      "cell_type": "code",
      "source": [
        "frase = input('Digite uma frase: ')\n",
        "frase.lower"
      ],
      "metadata": {
        "id": "KD8rNy2K8kox"
      },
      "execution_count": null,
      "outputs": []
    },
    {
      "cell_type": "markdown",
      "source": [
        "#### Questão 5\n",
        "\n",
        "Crie uma variável chamada “`frase`” e atribua a ela uma string de sua escolha. Em seguida, imprima a frase sem espaços em branco no início e no fim."
      ],
      "metadata": {
        "id": "cRqngSE48Nog"
      }
    },
    {
      "cell_type": "code",
      "source": [
        "frase = '    Tempo de recomeçar    '\n",
        "frase.strip()"
      ],
      "metadata": {
        "id": "aSCpdF-o8kBs",
        "colab": {
          "base_uri": "https://localhost:8080/",
          "height": 35
        },
        "outputId": "ff35b72d-f9a5-4370-bd50-0fc653d20264"
      },
      "execution_count": null,
      "outputs": [
        {
          "output_type": "execute_result",
          "data": {
            "text/plain": [
              "'Tempo de recomeçar'"
            ],
            "application/vnd.google.colaboratory.intrinsic+json": {
              "type": "string"
            }
          },
          "metadata": {},
          "execution_count": 61
        }
      ]
    },
    {
      "cell_type": "markdown",
      "source": [
        "#### Questão 6\n",
        "\n",
        "Crie um código que solicite uma frase à pessoa usuária e imprima a mesma frase sem espaços em branco no início e no fim."
      ],
      "metadata": {
        "id": "murIazpQ8Nkv"
      }
    },
    {
      "cell_type": "code",
      "source": [
        "frase = input('Digite uma frase: ').strip()\n",
        "frase"
      ],
      "metadata": {
        "id": "tHunjwuG8jNq"
      },
      "execution_count": null,
      "outputs": []
    },
    {
      "cell_type": "markdown",
      "source": [
        "#### Questão 7\n",
        "\n",
        "\n",
        "Crie um código que solicite uma frase à pessoa usuária e imprima a mesma frase sem espaços em branco no início e no fim e em letras minúsculas."
      ],
      "metadata": {
        "id": "eRxc2OeX8Nh2"
      }
    },
    {
      "cell_type": "code",
      "source": [
        "frase = input('Digite uma frase: ').strip().lower()\n",
        "frase"
      ],
      "metadata": {
        "id": "DYm0_UwS8ih6",
        "colab": {
          "base_uri": "https://localhost:8080/",
          "height": 53
        },
        "outputId": "863becbb-6668-40e2-9608-29aba3d1597f"
      },
      "execution_count": null,
      "outputs": [
        {
          "name": "stdout",
          "output_type": "stream",
          "text": [
            "Digite uma frase:   Flavio Coto ddd      \n"
          ]
        },
        {
          "output_type": "execute_result",
          "data": {
            "text/plain": [
              "'flavio coto ddd'"
            ],
            "application/vnd.google.colaboratory.intrinsic+json": {
              "type": "string"
            }
          },
          "metadata": {},
          "execution_count": 62
        }
      ]
    },
    {
      "cell_type": "markdown",
      "source": [
        "#### Questão 8\n",
        "\n",
        "Crie um código que solicite uma frase à pessoa usuária e imprima a mesma frase com todas as vogais “`e`” trocadas pela letra “`f`”."
      ],
      "metadata": {
        "id": "UKATLavs8NfI"
      }
    },
    {
      "cell_type": "code",
      "source": [
        "frase = input('Digite uma frase: ')\n",
        "frase.replace('e', 'f')"
      ],
      "metadata": {
        "id": "k64C5G5S8iLO",
        "colab": {
          "base_uri": "https://localhost:8080/",
          "height": 53
        },
        "outputId": "e910a807-e02c-4018-87fe-aa25d113610d"
      },
      "execution_count": null,
      "outputs": [
        {
          "name": "stdout",
          "output_type": "stream",
          "text": [
            "Digite uma frase: fleeeeeevis\n"
          ]
        },
        {
          "output_type": "execute_result",
          "data": {
            "text/plain": [
              "'flffffffvis'"
            ],
            "application/vnd.google.colaboratory.intrinsic+json": {
              "type": "string"
            }
          },
          "metadata": {},
          "execution_count": 64
        }
      ]
    },
    {
      "cell_type": "markdown",
      "source": [
        "#### Questão 9\n",
        "\n",
        "\n",
        "Crie um código que solicite uma frase à pessoa usuária e imprima a mesma frase com todas as vogais “`a`” trocadas pela caractere  “`@`”."
      ],
      "metadata": {
        "id": "n_1SPchw8NdG"
      }
    },
    {
      "cell_type": "code",
      "source": [
        "frase = input('Digite uma frase: ')\n",
        "frase.replace('a', '@')"
      ],
      "metadata": {
        "id": "msaDNm_p8h0D",
        "colab": {
          "base_uri": "https://localhost:8080/",
          "height": 53
        },
        "outputId": "5a9bfbec-9e3b-437e-ebaf-e9f3cb171488"
      },
      "execution_count": null,
      "outputs": [
        {
          "name": "stdout",
          "output_type": "stream",
          "text": [
            "Digite uma frase: flaviaaa\n"
          ]
        },
        {
          "output_type": "execute_result",
          "data": {
            "text/plain": [
              "'fl@vi@@@'"
            ],
            "application/vnd.google.colaboratory.intrinsic+json": {
              "type": "string"
            }
          },
          "metadata": {},
          "execution_count": 65
        }
      ]
    },
    {
      "cell_type": "markdown",
      "source": [
        "#### Questão 10\n",
        "\n",
        "\n",
        "Crie um código que solicite uma frase à pessoa usuária e imprima a mesma frase com todas as consoantes “`s`” trocadas pelo caractere  “`$`”."
      ],
      "metadata": {
        "id": "H3sTTjqI8Naa"
      }
    },
    {
      "cell_type": "code",
      "source": [
        "frase = input('Digite uma frase: ')\n",
        "frase.replace('s', '$')"
      ],
      "metadata": {
        "id": "RPBIsWT68e-1",
        "colab": {
          "base_uri": "https://localhost:8080/",
          "height": 53
        },
        "outputId": "cd7a1650-11f0-4f60-cad3-dfc0d2343c7a"
      },
      "execution_count": null,
      "outputs": [
        {
          "name": "stdout",
          "output_type": "stream",
          "text": [
            "Digite uma frase: sssssssss\n"
          ]
        },
        {
          "output_type": "execute_result",
          "data": {
            "text/plain": [
              "'$$$$$$$$$'"
            ],
            "application/vnd.google.colaboratory.intrinsic+json": {
              "type": "string"
            }
          },
          "metadata": {},
          "execution_count": 66
        }
      ]
    },
    {
      "cell_type": "markdown",
      "source": [
        "## Aula 3 - Estruturas condicionais"
      ],
      "metadata": {
        "id": "XGePe4GD2I59"
      }
    },
    {
      "cell_type": "markdown",
      "source": [
        "### Aquecendo na programação"
      ],
      "metadata": {
        "id": "Pr9HTW0UHCdD"
      }
    },
    {
      "cell_type": "markdown",
      "source": [
        "#### Questão 1\n",
        "Escreva um programa que peça à pessoa usuária para fornecer dois números e exibir o número maior."
      ],
      "metadata": {
        "id": "xBZHqhVg80Fy"
      }
    },
    {
      "cell_type": "code",
      "source": [
        "n1 = int(input('Digite o 1º número:'))\n",
        "n2 = int(input('Digite o 2º número:'))\n",
        "\n",
        "if n1 > n2:\n",
        "  print(f'O maior número é o {n1}')\n",
        "else:\n",
        "  print(f'O maior número é o {n2}')"
      ],
      "metadata": {
        "id": "GJlGnzjc-xyF",
        "colab": {
          "base_uri": "https://localhost:8080/"
        },
        "outputId": "a93b88e6-4c46-4fd4-dafc-c69a77b5d9e1"
      },
      "execution_count": null,
      "outputs": [
        {
          "output_type": "stream",
          "name": "stdout",
          "text": [
            "Digite o 1º número:7\n",
            "Digite o 2º número:5\n",
            "O maior número é o 7\n"
          ]
        }
      ]
    },
    {
      "cell_type": "markdown",
      "source": [
        "#### Questão 2\n",
        "Escreva um programa que solicite o percentual de crescimento de produção de uma empresa e informe se houve um crescimento (porcentagem positiva) ou decrescimento (porcentagem negativa)."
      ],
      "metadata": {
        "id": "H4sgN7dyHNJF"
      }
    },
    {
      "cell_type": "code",
      "source": [
        "pct = float(input('Digite o percentual de crescimento: '))\n",
        "if pct > 0:\n",
        "  print('porcentagem positiva')\n",
        "elif pct < 0:\n",
        "  print('porcentagem negativa')\n",
        "else:\n",
        "  print('Não houve crescimento')"
      ],
      "metadata": {
        "id": "-2_Ry5XJ-yZW",
        "colab": {
          "base_uri": "https://localhost:8080/"
        },
        "outputId": "576a13ba-58e7-41b8-8dee-eff1075f42d1"
      },
      "execution_count": null,
      "outputs": [
        {
          "output_type": "stream",
          "name": "stdout",
          "text": [
            "Digite o percentual de crescimento: -4\n",
            "porcentagem negativa\n"
          ]
        }
      ]
    },
    {
      "cell_type": "markdown",
      "source": [
        "#### Questão 3\n",
        "Escreva um programa que determine se uma letra fornecida pela pessoa usuária é uma vogal ou consoante."
      ],
      "metadata": {
        "id": "a_mzNOBDHNny"
      }
    },
    {
      "cell_type": "code",
      "source": [
        "vogais = 'aeiou'\n",
        "letra = input('Digite uma letra')\n",
        "if letra in vogais:\n",
        "  print('A letra digitada é uma vogal')\n",
        "else:\n",
        "  print('A letra digitada é uma consoante')"
      ],
      "metadata": {
        "id": "NbgndVyg-zFJ",
        "colab": {
          "base_uri": "https://localhost:8080/"
        },
        "outputId": "1648ec8e-3b83-44d0-faa0-3ef48ace49b1"
      },
      "execution_count": null,
      "outputs": [
        {
          "output_type": "stream",
          "name": "stdout",
          "text": [
            "Digite uma letrae\n",
            "A letra digitada é uma vogal\n"
          ]
        }
      ]
    },
    {
      "cell_type": "markdown",
      "source": [
        "#### Questão 4\n",
        "Escreva um programa que leia valores médios de preços de um modelo de carro por 3 anos consecutivos e exiba o valor mais alto e mais baixo entre esses três anos."
      ],
      "metadata": {
        "id": "mofMRjSZHP99"
      }
    },
    {
      "cell_type": "code",
      "source": [
        "preco1 = float(input('Digite o valor do carro em 2022:'))\n",
        "preco2 = float(input('Digite o valor do carro em 2023:'))\n",
        "preco3 = float(input('Digite o valor do carro em 2024:'))\n",
        "\n",
        "maior_preco = preco1\n",
        "if preco2 > maior_preco and preco2 > preco3:\n",
        "  maior_preco = preco2\n",
        "elif preco3 > maior_preco:\n",
        "  maior_preco = preco3\n",
        "\n",
        "print(f'O maior preço é {maior_preco}')\n",
        "\n",
        "menor_preco = preco1\n",
        "if preco2 < menor_preco and preco2 < preco3:\n",
        "  menor_preco = preco2\n",
        "elif preco3 < menor_preco:\n",
        "  menor_preco = preco3\n",
        "\n",
        "print(f'O menor preco é o {menor_preco}')"
      ],
      "metadata": {
        "id": "TX--d3k9-02c",
        "colab": {
          "base_uri": "https://localhost:8080/"
        },
        "outputId": "c6f990df-018d-4a3d-f767-1c26e0a6fff8"
      },
      "execution_count": null,
      "outputs": [
        {
          "output_type": "stream",
          "name": "stdout",
          "text": [
            "Digite o valor do carro em 2022:10\n",
            "Digite o valor do carro em 2023:15\n",
            "Digite o valor do carro em 2024:5\n",
            "O maior preço é 15.0\n",
            "O menor preco é o 5.0\n"
          ]
        }
      ]
    },
    {
      "cell_type": "markdown",
      "source": [
        "#### Questão 5\n",
        "Escreva um programa que pergunte sobre o preço de três produtos e indique qual é o produto mais barato para comprar."
      ],
      "metadata": {
        "id": "jY5tIwd-HQzc"
      }
    },
    {
      "cell_type": "code",
      "source": [
        "menor = float(input(f'Digite o preço 1: '))\n",
        "\n",
        "for i in range(2,4):\n",
        "  preco = float(input(f'Digite o preço {i}: '))\n",
        "  if preco < menor:\n",
        "    menor = preco\n",
        "print(f'O menor preço é {menor}')\n"
      ],
      "metadata": {
        "id": "sYqNh9df-0gk",
        "colab": {
          "base_uri": "https://localhost:8080/"
        },
        "outputId": "3c2be60d-d6d5-4c18-8cbb-05dba52ca75f"
      },
      "execution_count": null,
      "outputs": [
        {
          "output_type": "stream",
          "name": "stdout",
          "text": [
            "Digite o preço 1: 15\n",
            "Digite o preço 2: 5\n",
            "Digite o preço 3: 10\n",
            "O menor preço é 5.0\n"
          ]
        }
      ]
    },
    {
      "cell_type": "markdown",
      "source": [
        "#### Questão 6\n",
        "Escreva um programa que leia três números e os exiba em ordem decrescente."
      ],
      "metadata": {
        "id": "1r6aVxtTHR4E"
      }
    },
    {
      "cell_type": "code",
      "source": [
        "n1 = int(input('Digite o primeiro número: '))\n",
        "n2 = int(input('Digite o segundo número: '))\n",
        "n3 = int(input('Digite o terceiro número: '))\n",
        "\n",
        "if n2 < n1 > n3:\n",
        "  print(n1)\n",
        "  if n2 > n3:\n",
        "    print(n2)\n",
        "    print(n3)\n",
        "  else:\n",
        "    print(n3)\n",
        "    print(n2)\n",
        "elif n1 < n2 > n3:\n",
        "  print(n2)\n",
        "  if n1 > n3:\n",
        "    print(n1)\n",
        "    print(n3)\n",
        "  else:\n",
        "    print(n3)\n",
        "    print(n1)\n",
        "elif n1 < n3 > n2:\n",
        "  print(n3)\n",
        "  if n2 > n1:\n",
        "    print(n2)\n",
        "    print(n1)\n",
        "  else:\n",
        "    print(n1)\n",
        "    print(n2)"
      ],
      "metadata": {
        "id": "ydOCYUMO-0Hk",
        "colab": {
          "base_uri": "https://localhost:8080/"
        },
        "outputId": "1cd66d7f-20be-4d05-f168-60455a6ae2db"
      },
      "execution_count": null,
      "outputs": [
        {
          "output_type": "stream",
          "name": "stdout",
          "text": [
            "Digite o primeiro número: 8\n",
            "Digite o segundo número: 3\n",
            "Digite o terceiro número: 5\n",
            "8\n",
            "5\n",
            "3\n"
          ]
        }
      ]
    },
    {
      "cell_type": "markdown",
      "source": [
        "#### Questão 7\n",
        "Escreva um programa que pergunte em qual turno a pessoa usuária estuda (\"manhã\", \"tarde\" ou \"noite\") e exiba a mensagem \"Bom Dia!\", \"Boa Tarde!\", \"Boa Noite!\", ou \"Valor Inválido!\", conforme o caso."
      ],
      "metadata": {
        "id": "inW3F-hAHS_X"
      }
    },
    {
      "cell_type": "code",
      "source": [
        "turno = input('Digite um turno (manhã, tarde ou noite):').lower()\n",
        "if turno == 'manhã':\n",
        "  print('Olá, bom dia')\n",
        "elif turno == 'tarde':\n",
        "  print('Olá, boa tarde')\n",
        "elif turno == 'noite':\n",
        "  print('Olá, boa noite')\n",
        "else:\n",
        "  print('Turno inexistente. Verifique a forma que foi digitado. Caso queira copie e cole o turno da pergunta')"
      ],
      "metadata": {
        "id": "-_q-Pcr_-zth",
        "colab": {
          "base_uri": "https://localhost:8080/"
        },
        "outputId": "b1c54d7c-5fea-4138-c8fd-167bc84819f6"
      },
      "execution_count": null,
      "outputs": [
        {
          "output_type": "stream",
          "name": "stdout",
          "text": [
            "Digite um turno (manhã, tarde ou noite):noite\n",
            "Olá, boa noite\n"
          ]
        }
      ]
    },
    {
      "cell_type": "markdown",
      "source": [
        "#### Questão 8\n",
        "Escreva um programa que peça um número inteiro à pessoa usuária e determine se ele é par ou ímpar. Dica: Você pode utilizar o operador módulo `%`."
      ],
      "metadata": {
        "id": "NCCPF3QqHTw-"
      }
    },
    {
      "cell_type": "code",
      "source": [
        "num = int(input('Digite um número para saber se é par ou ímpar:'))\n",
        "\n",
        "if num % 2 == 0:\n",
        "  print(f'O número {num} é PAR')\n",
        "else:\n",
        "  print(f'O número {num} é ÍMPAR')\n",
        "\n"
      ],
      "metadata": {
        "id": "OmZJt1nQ-3e6",
        "colab": {
          "base_uri": "https://localhost:8080/"
        },
        "outputId": "d3d4604d-60c5-4905-a1d8-fa4d5d72da5e"
      },
      "execution_count": null,
      "outputs": [
        {
          "output_type": "stream",
          "name": "stdout",
          "text": [
            "Digite um número para saber se é par ou ímpar:763\n",
            "O número 763 é ÍMPAR\n"
          ]
        }
      ]
    },
    {
      "cell_type": "markdown",
      "source": [
        "#### Questão 9\n",
        "Escreva um programa que peça um número à pessoa usuária e informe se ele é inteiro ou decimal."
      ],
      "metadata": {
        "id": "h93Ck1tQHUwE"
      }
    },
    {
      "cell_type": "code",
      "source": [
        "num = float(input('Digite um número para saber se é par ou ímpar:'))\n",
        "\n",
        "if num % 1 == 0:\n",
        "  print(f'O número {num} é INTEIRO')\n",
        "else:\n",
        "  print(f'O número {num} é DECIMAL')"
      ],
      "metadata": {
        "id": "sLMlZcx8-20N",
        "colab": {
          "base_uri": "https://localhost:8080/"
        },
        "outputId": "3fe74b9b-d704-423d-cc5a-88b6228c6a5b"
      },
      "execution_count": null,
      "outputs": [
        {
          "output_type": "stream",
          "name": "stdout",
          "text": [
            "Digite um número para saber se é par ou ímpar:7.5\n",
            "O número 7.5 é DECIMAL\n"
          ]
        }
      ]
    },
    {
      "cell_type": "markdown",
      "source": [
        "### Momento dos projetos"
      ],
      "metadata": {
        "id": "bKdXSK1SH_pF"
      }
    },
    {
      "cell_type": "markdown",
      "source": [
        "#### Questão 10\n",
        "Um programa deve ser escrito para ler dois números e, em seguida, perguntar à pessoa usuária qual operação ele deseja realizar. O resultado da operação deve incluir informações sobre o número - se é par ou ímpar, positivo ou negativo e inteiro ou decimal."
      ],
      "metadata": {
        "id": "WBlEyyzsHV86"
      }
    },
    {
      "cell_type": "code",
      "source": [
        "n1 = float(input('Digite o primeiro número:'))\n",
        "n2 = float(input('Digite o segundo número:'))\n",
        "\n",
        "operacao = input('Digite uma das 4 operações (+, -, *, /):')\n",
        "\n",
        "match operacao:\n",
        "  case '+':\n",
        "    resultado = n1 + n2\n",
        "  case '-':\n",
        "    resultado = n1 - n2\n",
        "  case '*':\n",
        "    resultado = n1 * n2\n",
        "  case '/':\n",
        "    resultado = n1 / n2\n",
        "\n",
        "print(f'O resultado é {resultado}')\n",
        "\n",
        "if resultado % 2 == 0:\n",
        "  print(f'O número {resultado} é PAR')\n",
        "else:\n",
        "  print(f'O número {resultado} é ÍMPAR')\n",
        "\n",
        "if resultado > 0:\n",
        "  print(f'O número {resultado} é POSITIVO')\n",
        "elif resultado < 0:\n",
        "  print(f'O número {resultado} é NEGATIVO')\n",
        "else:\n",
        "  print(f'O número {resultado} é NEUTRO')\n",
        "\n",
        "if resultado % 1 == 0:\n",
        "  print(f'O número {resultado} é INTEIRO')\n",
        "else:\n",
        "  print(f'O número {resultado} é DECIMAL')"
      ],
      "metadata": {
        "id": "3jmahZ0f-2gq",
        "colab": {
          "base_uri": "https://localhost:8080/"
        },
        "outputId": "6969eae2-bbb0-4daf-d6a5-c7090f2ddf0c"
      },
      "execution_count": null,
      "outputs": [
        {
          "output_type": "stream",
          "name": "stdout",
          "text": [
            "Digite o primeiro número:10\n",
            "Digite o segundo número:2\n",
            "Digite uma das 4 operações (+, -, *, /):*\n",
            "O resultado é 20.0\n",
            "O número 20.0 é PAR\n",
            "O número 20.0 é POSITIVO\n",
            "O número 20.0 é INTEIRO\n"
          ]
        }
      ]
    },
    {
      "cell_type": "markdown",
      "source": [
        "#### Questão 11\n",
        "Escreva um programa que peça à pessoa usuária três números que representam os lados de um triângulo. O programa deve informar se os valores podem ser utilizados para formar um triângulo e, caso afirmativo, se ele é equilátero, isósceles ou escaleno. Tenha em mente algumas dicas:\n",
        "- Três lados formam um triângulo quando a soma de quaisquer dois lados for maior que o terceiro;\n",
        "- Triângulo Equilátero: três lados iguais;\n",
        "- Triângulo Isósceles: quaisquer dois lados iguais;\n",
        "- Triângulo Escaleno: três lados diferentes;\n"
      ],
      "metadata": {
        "id": "VdnlULxHHW19"
      }
    },
    {
      "cell_type": "code",
      "source": [
        "l1 = int(input('Digite o tamanho do primeiro lado: '))\n",
        "l2 = int(input('Digite o tamanho do segundo lado: '))\n",
        "l3 = int(input('Digite o tamanho do terceiro lado: '))\n",
        "\n",
        "if (l1 < l2+l3) and (l2 < l1+l3) and (l3 < l1+l2):\n",
        "  print('É um triângulo')\n",
        "else:\n",
        "  print('NÃO é um triângulo')\n",
        "\n",
        "if l1 == l2 == l3:\n",
        "  print('triângulo Equilátero')\n",
        "elif l1 == l2 or l2 == l3 or l1 == l3:\n",
        "  print('triângulo Isóceles')\n",
        "else:\n",
        "  print('triângulo Escaleno')\n"
      ],
      "metadata": {
        "id": "0z73sqUO-2Pw",
        "colab": {
          "base_uri": "https://localhost:8080/"
        },
        "outputId": "fb0f6453-0150-459f-c668-7304194dc44a"
      },
      "execution_count": null,
      "outputs": [
        {
          "output_type": "stream",
          "name": "stdout",
          "text": [
            "Digite o tamanho do primeiro lado: 3\n",
            "Digite o tamanho do segundo lado: 4\n",
            "Digite o tamanho do terceiro lado: 5\n",
            "É um triângulo\n",
            "triângulo Escaleno\n"
          ]
        }
      ]
    },
    {
      "cell_type": "markdown",
      "source": [
        "#### Questão 12\n",
        "Um estabelecimento está vendendo combustíveis com descontos variados. Para o etanol, se a quantidade comprada for até 15 litros, o desconto será de 2% por litro. Caso contrário, será de 4% por litro. Para o diesel, se a quantidade comprada for até 15 litros, o desconto será de 3% por litro. Caso contrário, será de 5% por litro. O preço do litro de diesel é R\\$ 2,00 e o preço do litro de etanol é R\\$ 1,70. Escreva um programa que leia a quantidade de litros vendidos e o tipo de combustível (E para etanol e D para diesel) e calcule o valor a ser pago pelo cliente. Tenha em mente algumas dicas:\n",
        "\n",
        "- O do valor do desconto será a multiplicação entre preço do litro, quantidade de litros e o valor do desconto.\n",
        "- O valor a ser pago por um cliente será o resultado da multiplicação do preço do litro pela quantidade de litros menos o valor de desconto resultante do cálculo.\n"
      ],
      "metadata": {
        "id": "_PpEpOugHXwZ"
      }
    },
    {
      "cell_type": "code",
      "source": [
        "# ate 15 E = 2% //// + 15 = 4%  - R$ 1,70\n",
        "# ate 15 D = 3% //// + 15 = 5%  - R$ 2,00\n",
        "\n",
        "preco_E = 1.70\n",
        "preco_D = 2.00\n",
        "\n",
        "litros = int(input('Digite a quantidade de litros'))\n",
        "tipo = input('Digite o tipo de combustível\\n D para Diesel\\n E para Etanol\\n').upper()\n",
        "\n",
        "if litros <= 15 and tipo == 'E':\n",
        "  total = litros * (preco_E - (preco_E * 0.02))\n",
        "  print(total)\n",
        "elif litros >= 15 and tipo == 'E':\n",
        "  total = litros * (preco_E - (preco_E * 0.04))\n",
        "  print(total)\n",
        "elif litros <= 15 and tipo == 'D':\n",
        "  total = litros * (preco_D - (preco_D * 0.03))\n",
        "  print(total)\n",
        "else:\n",
        "  total = litros * (preco_D - (preco_D * 0.05))\n",
        "  print(total)\n"
      ],
      "metadata": {
        "id": "9izoF-0O-1yD",
        "colab": {
          "base_uri": "https://localhost:8080/"
        },
        "outputId": "48da0d6a-ec36-4696-9644-66164a54d533"
      },
      "execution_count": null,
      "outputs": [
        {
          "output_type": "stream",
          "name": "stdout",
          "text": [
            "Digite a quantidade de litros20\n",
            "Digite o tipo de combustível\n",
            " D para Diesel\n",
            " E para Etanol\n",
            "D\n",
            "38.0\n"
          ]
        }
      ]
    },
    {
      "cell_type": "markdown",
      "source": [
        "#### Questão 13\n",
        "Em uma empresa de venda de imóveis você precisa criar um código que analise os dados de vendas anuais para ajudar a diretoria na tomada de decisão. O código precisa coletar os dados de quantidade de venda durante os anos de 2022 e 2023 e fazer um cálculo de variação percentual. A partir do valor da variação, deve ser enviada às seguintes sugestões:\n",
        "- Para variação acima de 20%: bonificação para o time de vendas.\n",
        "- Para variação entre 2% e 20%: pequena bonificação para time de vendas.\n",
        "- Para variação entre 2% e -10%: planejamento de políticas de incentivo às vendas.\n",
        "- Para bonificações abaixo de -10%: corte de gastos.\n"
      ],
      "metadata": {
        "id": "s_XS_D1WHY2R"
      }
    },
    {
      "cell_type": "code",
      "source": [
        "ano2022 = int(input('Valor do Ano de 2022: '))\n",
        "ano2023 = int(input('Valor do Ano de 2023: '))\n",
        "variacao = ((ano2023 - ano2022) / ano2022) * 100\n",
        "\n",
        "if variacao > 20:\n",
        "  print('O time de vendas vai receber uma GRANDE bonificação ')\n",
        "elif 2 < variacao <= 20:\n",
        "  print('O time de vendas vai receber uma PEQUENA bonificação ')\n",
        "elif -10 <= variacao <= 2:\n",
        "  print('Precisamos planejar políticas de incentivo às vendas')\n",
        "else:\n",
        "  print('Corte de cabeças')"
      ],
      "metadata": {
        "id": "avQrYlUg-w8f",
        "colab": {
          "base_uri": "https://localhost:8080/"
        },
        "outputId": "152cda24-b7d3-45b8-fe97-56cde0cf2d09"
      },
      "execution_count": null,
      "outputs": [
        {
          "output_type": "stream",
          "name": "stdout",
          "text": [
            "Valor do Ano de 2022: 100\n",
            "Valor do Ano de 2023: 89\n",
            "Corte de cabeças\n"
          ]
        }
      ]
    },
    {
      "cell_type": "markdown",
      "source": [
        "## Aula 4 - Estruturas de repetição"
      ],
      "metadata": {
        "id": "AuaWh4-d2Itt"
      }
    },
    {
      "cell_type": "markdown",
      "source": [
        "### Aquecendo na programação"
      ],
      "metadata": {
        "id": "6MSqU0sIJRdD"
      }
    },
    {
      "cell_type": "markdown",
      "source": [
        "#### Questão 1\n",
        "Escreva um programa que peça dois números inteiros e imprima todos os números inteiros entre eles."
      ],
      "metadata": {
        "id": "9eGGyCnAJRdQ"
      }
    },
    {
      "cell_type": "code",
      "source": [
        "num1 = int(input('Digite o primeiro número: '))\n",
        "num2 = int(input('Digite o segundo número: '))\n",
        "\n",
        "if num1 < num2:\n",
        "  for i in range(num1, num2):\n",
        "    print(i)\n",
        "elif num1 > num2:\n",
        "  for i in range(num2, num1):\n",
        "    print(i)\n",
        "else:\n",
        "  print('Os números são iguais')\n"
      ],
      "metadata": {
        "id": "ID1oc1hxJRdQ",
        "colab": {
          "base_uri": "https://localhost:8080/"
        },
        "outputId": "204d266f-2c36-4d02-eb5f-141ec0a9e54a"
      },
      "execution_count": null,
      "outputs": [
        {
          "output_type": "stream",
          "name": "stdout",
          "text": [
            "Digite o primeiro número: 4\n",
            "Digite o segundo número: 4\n",
            "Os números são iguais\n"
          ]
        }
      ]
    },
    {
      "cell_type": "markdown",
      "source": [
        "#### Questão 2\n",
        "Escreva um programa para calcular quantos dias levará para a colônia de uma bactéria A ultrapassar ou igualar a colônia de uma bactéria B, com base nas taxas de crescimento de 3% e 1,5% respectivamente. Considere que a colônia A inicia com 4 elementos e a colônia B com 10 elementos."
      ],
      "metadata": {
        "id": "mGonEHYCJRdR"
      }
    },
    {
      "cell_type": "code",
      "source": [
        "col_A = 4\n",
        "tx_A = 0.03\n",
        "col_B = 10\n",
        "tx_B = 0.015\n",
        "contador= 0\n",
        "\n",
        "while col_B > col_A:\n",
        "  col_A = col_A + (col_A * 0.03)\n",
        "  col_B = col_B + (col_B * 0.015)\n",
        "  contador += 1\n",
        "print(contador)\n"
      ],
      "metadata": {
        "id": "wM6FJuoqJRdR",
        "colab": {
          "base_uri": "https://localhost:8080/"
        },
        "outputId": "9470c24e-a4ab-4dff-b326-ac331cd7fad6"
      },
      "execution_count": null,
      "outputs": [
        {
          "output_type": "stream",
          "name": "stdout",
          "text": [
            "63\n"
          ]
        }
      ]
    },
    {
      "cell_type": "markdown",
      "source": [
        "#### Questão 3\n",
        "Para tratar uma quantidade de 15 dados de avaliações de pessoas usuárias de um serviço da empresa, precisamos verificar se as notas são válidas. Então, escreva um programa que vai receber a nota de 0 a 5 de todos os dados e verificar se é um valor válido. Caso seja inserido uma nota acima de 5 ou abaixo de 0, repita até que a pessoa usuária insira um valor válido."
      ],
      "metadata": {
        "id": "UiOZRlqoJRdR"
      }
    },
    {
      "cell_type": "code",
      "source": [
        "for i in range(1,16):\n",
        "  nota = float(input(f'Digite a nota {i}:'))\n",
        "  while (nota < 0) or (nota > 5):\n",
        "    nota = float(input(f'Digite a nota {i}:'))#print(f'Valor inválido.\\nDigite uma nota entre 0 e 5')\n",
        "  print(f'nota {i} é {nota}')\n"
      ],
      "metadata": {
        "id": "3TUAhCxcJRdR",
        "colab": {
          "base_uri": "https://localhost:8080/"
        },
        "outputId": "130a411c-a770-4d9c-fdc7-9a0e42317752"
      },
      "execution_count": null,
      "outputs": [
        {
          "output_type": "stream",
          "name": "stdout",
          "text": [
            "Digite a nota 1:-1\n",
            "Digite a nota 1:-2\n",
            "Digite a nota 1:-3\n",
            "Digite a nota 1:2\n",
            "nota 1 é 2.0\n",
            "Digite a nota 2:5\n",
            "nota 2 é 5.0\n",
            "Digite a nota 3:4\n",
            "nota 3 é 4.0\n"
          ]
        }
      ]
    },
    {
      "cell_type": "markdown",
      "source": [
        "#### Questão 4\n",
        "Desenvolva um programa que leia um conjunto indeterminado de temperaturas em Celsius e faça uma análise. Portanto, escreva um programa que leia temperaturas e informe a média delas. A leitura deve ser encerrada ao ser enviado o valor -273°C."
      ],
      "metadata": {
        "id": "ABv3KObGJRdR"
      }
    },
    {
      "cell_type": "code",
      "source": [
        "\n",
        "contador = 0\n",
        "media = 0\n",
        "soma = 0\n",
        "\n",
        "temp = int(input('Digite uma temperatura: '))\n",
        "\n",
        "while temp != -273:\n",
        "  contador += 1\n",
        "  soma += temp\n",
        "  media = soma / contador\n",
        "  temp = int(input('Digite uma temperatura: '))\n",
        "\n",
        "print(f'A média de {soma} por {contador} é = {media}')\n"
      ],
      "metadata": {
        "id": "85tBBj5KJRdS",
        "colab": {
          "base_uri": "https://localhost:8080/"
        },
        "outputId": "7e4193c7-1df7-44e0-a2a6-dac7b31312ff"
      },
      "execution_count": null,
      "outputs": [
        {
          "output_type": "stream",
          "name": "stdout",
          "text": [
            "Digite uma temperatura: 10\n",
            "Digite uma temperatura: 20\n",
            "Digite uma temperatura: 30\n",
            "Digite uma temperatura: -273\n",
            "A média de 60 por 3 é = 20.0\n"
          ]
        }
      ]
    },
    {
      "cell_type": "markdown",
      "source": [
        "#### Questão 5\n",
        "Escreva um programa que calcule o fatorial de um número inteiro fornecido pela pessoa usuária. O fatorial de um número inteiro é a multiplicação desse número por todos os seus antecessores até o número 1. Por exemplo, o fatorial de 5 é 5 x 4 x 3 x 2 x 1 = 120."
      ],
      "metadata": {
        "id": "IjkbAfGcJRdS"
      }
    },
    {
      "cell_type": "code",
      "source": [
        "num = int(input('Digite um número:'))\n",
        "fat = num - 1\n",
        "while fat > 0:\n",
        "  num = num * fat\n",
        "  fat -= 1\n",
        "print(num)"
      ],
      "metadata": {
        "id": "7RTH8o0HJRdS",
        "colab": {
          "base_uri": "https://localhost:8080/"
        },
        "outputId": "d8e7b9ec-f68a-497c-f34a-222eaca6a848"
      },
      "execution_count": null,
      "outputs": [
        {
          "output_type": "stream",
          "name": "stdout",
          "text": [
            "Digite um número:5\n",
            "120\n"
          ]
        }
      ]
    },
    {
      "cell_type": "markdown",
      "source": [
        "### Momento dos projetos"
      ],
      "metadata": {
        "id": "oGNKuQjsJRdT"
      }
    },
    {
      "cell_type": "markdown",
      "source": [
        "#### Questão 6\n",
        "Escreva um programa que gere a tabuada de um número inteiro de 1 a 10, de acordo com a escolha da pessoa usuária. Como exemplo, para o número 2, a tabuada deve ser mostrada no seguinte formato:\n",
        "```\n",
        "Tabuada do 2:\n",
        "2 x 1 = 2\n",
        "2 x 2 = 4\n",
        "[...]\n",
        "2 x 10 = 20\n",
        "```"
      ],
      "metadata": {
        "id": "ODxaTUYmJRdS"
      }
    },
    {
      "cell_type": "code",
      "source": [
        "for i in range(1, 11):\n",
        "  contador = 1\n",
        "  while contador <= 10:\n",
        "    mult = i * contador\n",
        "    print(f'{i} X {contador} = {mult}')\n",
        "    contador += 1\n",
        "\n",
        "\n",
        "'''\n",
        "tab = int(input('Digite um número:'))\n",
        "\n",
        "for i in range(1, 11):\n",
        "\n",
        "  mult = tab * i\n",
        "  print(mult)\n",
        "'''"
      ],
      "metadata": {
        "id": "lkTlbxPIJRdS",
        "colab": {
          "base_uri": "https://localhost:8080/",
          "height": 1000
        },
        "outputId": "f023b763-7ceb-4223-cc14-b7d90e573d43"
      },
      "execution_count": null,
      "outputs": [
        {
          "output_type": "stream",
          "name": "stdout",
          "text": [
            "1 X 1 = 1\n",
            "1 X 2 = 2\n",
            "1 X 3 = 3\n",
            "1 X 4 = 4\n",
            "1 X 5 = 5\n",
            "1 X 6 = 6\n",
            "1 X 7 = 7\n",
            "1 X 8 = 8\n",
            "1 X 9 = 9\n",
            "1 X 10 = 10\n",
            "2 X 1 = 2\n",
            "2 X 2 = 4\n",
            "2 X 3 = 6\n",
            "2 X 4 = 8\n",
            "2 X 5 = 10\n",
            "2 X 6 = 12\n",
            "2 X 7 = 14\n",
            "2 X 8 = 16\n",
            "2 X 9 = 18\n",
            "2 X 10 = 20\n",
            "3 X 1 = 3\n",
            "3 X 2 = 6\n",
            "3 X 3 = 9\n",
            "3 X 4 = 12\n",
            "3 X 5 = 15\n",
            "3 X 6 = 18\n",
            "3 X 7 = 21\n",
            "3 X 8 = 24\n",
            "3 X 9 = 27\n",
            "3 X 10 = 30\n",
            "4 X 1 = 4\n",
            "4 X 2 = 8\n",
            "4 X 3 = 12\n",
            "4 X 4 = 16\n",
            "4 X 5 = 20\n",
            "4 X 6 = 24\n",
            "4 X 7 = 28\n",
            "4 X 8 = 32\n",
            "4 X 9 = 36\n",
            "4 X 10 = 40\n",
            "5 X 1 = 5\n",
            "5 X 2 = 10\n",
            "5 X 3 = 15\n",
            "5 X 4 = 20\n",
            "5 X 5 = 25\n",
            "5 X 6 = 30\n",
            "5 X 7 = 35\n",
            "5 X 8 = 40\n",
            "5 X 9 = 45\n",
            "5 X 10 = 50\n",
            "6 X 1 = 6\n",
            "6 X 2 = 12\n",
            "6 X 3 = 18\n",
            "6 X 4 = 24\n",
            "6 X 5 = 30\n",
            "6 X 6 = 36\n",
            "6 X 7 = 42\n",
            "6 X 8 = 48\n",
            "6 X 9 = 54\n",
            "6 X 10 = 60\n",
            "7 X 1 = 7\n",
            "7 X 2 = 14\n",
            "7 X 3 = 21\n",
            "7 X 4 = 28\n",
            "7 X 5 = 35\n",
            "7 X 6 = 42\n",
            "7 X 7 = 49\n",
            "7 X 8 = 56\n",
            "7 X 9 = 63\n",
            "7 X 10 = 70\n",
            "8 X 1 = 8\n",
            "8 X 2 = 16\n",
            "8 X 3 = 24\n",
            "8 X 4 = 32\n",
            "8 X 5 = 40\n",
            "8 X 6 = 48\n",
            "8 X 7 = 56\n",
            "8 X 8 = 64\n",
            "8 X 9 = 72\n",
            "8 X 10 = 80\n",
            "9 X 1 = 9\n",
            "9 X 2 = 18\n",
            "9 X 3 = 27\n",
            "9 X 4 = 36\n",
            "9 X 5 = 45\n",
            "9 X 6 = 54\n",
            "9 X 7 = 63\n",
            "9 X 8 = 72\n",
            "9 X 9 = 81\n",
            "9 X 10 = 90\n",
            "10 X 1 = 10\n",
            "10 X 2 = 20\n",
            "10 X 3 = 30\n",
            "10 X 4 = 40\n",
            "10 X 5 = 50\n",
            "10 X 6 = 60\n",
            "10 X 7 = 70\n",
            "10 X 8 = 80\n",
            "10 X 9 = 90\n",
            "10 X 10 = 100\n"
          ]
        },
        {
          "output_type": "execute_result",
          "data": {
            "text/plain": [
              "\"\\ntab = int(input('Digite um número:'))\\n\\nfor i in range(1, 11):\\n  \\n  mult = tab * i\\n  print(mult)\\n\""
            ],
            "application/vnd.google.colaboratory.intrinsic+json": {
              "type": "string"
            }
          },
          "metadata": {},
          "execution_count": 63
        }
      ]
    },
    {
      "cell_type": "markdown",
      "source": [
        "#### Questão 7\n",
        "Os números primos possuem várias aplicações dentro da Ciência de Dados, por exemplo, na criptografia e segurança. Um número primo é aquele que é divisível apenas por um e por ele mesmo. Faça um programa que peça um número inteiro e determine se ele é ou não um número primo."
      ],
      "metadata": {
        "id": "LeIbnt8VJRdS"
      }
    },
    {
      "cell_type": "code",
      "source": [
        "num = int(input('Digite o número: '))\n",
        "\n",
        "eh_primo = True\n",
        "\n",
        "if num <= 1:\n",
        "  eh_primo = False\n",
        "else:\n",
        "  for i in range (2, num):\n",
        "    teste = num % i\n",
        "    if teste == 0:\n",
        "      eh_primo = False\n",
        "\n",
        "if eh_primo:\n",
        "  print(f'O número {num} é primo')\n",
        "else:\n",
        "  print(f'O número {num} NÃO é primo')\n",
        "\n"
      ],
      "metadata": {
        "id": "2rcNU7twJRdS",
        "colab": {
          "base_uri": "https://localhost:8080/"
        },
        "outputId": "294540f1-463d-4335-dbcc-827fd43d3957"
      },
      "execution_count": null,
      "outputs": [
        {
          "output_type": "stream",
          "name": "stdout",
          "text": [
            "Digite o número: 7\n",
            "O número 7 é primo\n"
          ]
        }
      ]
    },
    {
      "cell_type": "markdown",
      "source": [
        "#### Questão 8\n",
        "Vamos entender a distribuição de idades de pensionistas de uma empresa de previdência. Escreva um programa que leia as idades de uma quantidade não informada de clientes e mostre a distribuição em intervalos de [0-25], [26-50], [51-75] e [76-100]. Encerre a entrada de dados com um número negativo."
      ],
      "metadata": {
        "id": "QTwb6QaCJRdT"
      }
    },
    {
      "cell_type": "code",
      "source": [
        "interv_00_25 = 0\n",
        "interv_26_50 = 0\n",
        "interv_51_75 = 0\n",
        "interv_76_100 = 0\n",
        "\n",
        "idade = int(input('Digite uma idade: '))\n",
        "\n",
        "while idade >=0:\n",
        "  if idade >= 0 and idade <= 25:\n",
        "    interv_00_25 += 1\n",
        "  elif idade >= 26 and idade <= 50:\n",
        "    interv_26_50 += 1\n",
        "  elif idade >= 51 and idade <= 75:\n",
        "    interv_51_75 += 1\n",
        "  elif idade >= 76 and idade <= 100:\n",
        "    interv_76_100 += 1\n",
        "  idade = int(input('Digite outra idade: '))\n",
        "\n",
        "print(interv_00_25)\n",
        "print(interv_26_50)\n",
        "print(interv_51_75)\n",
        "print(interv_76_100)\n"
      ],
      "metadata": {
        "id": "4IAhaDmYJRdT",
        "colab": {
          "base_uri": "https://localhost:8080/"
        },
        "outputId": "3cf25928-58c7-446a-8f2d-3a7d14b6bf41"
      },
      "execution_count": null,
      "outputs": [
        {
          "output_type": "stream",
          "name": "stdout",
          "text": [
            "Digite uma idade: 24\n",
            "Digite outra idade: 23\n",
            "Digite outra idade: 22\n",
            "Digite outra idade: 30\n",
            "Digite outra idade: 32\n",
            "Digite outra idade: 36\n",
            "Digite outra idade: 34\n",
            "Digite outra idade: 55\n",
            "Digite outra idade: 57\n",
            "Digite outra idade: 69\n",
            "Digite outra idade: 66\n",
            "Digite outra idade: 65\n",
            "Digite outra idade: 89\n",
            "Digite outra idade: 99\n",
            "Digite outra idade: -5\n",
            "3\n",
            "4\n",
            "5\n",
            "2\n"
          ]
        }
      ]
    },
    {
      "cell_type": "markdown",
      "source": [
        "#### Questão 9\n",
        "Em uma eleição para gerência em uma empresa com 20 funcionários, existem quatro candidatos. Escreva um programa que calcule o vencedor da eleição. A votação ocorreu da seguinte maneira:\n",
        "- Cada funcionário votou em um dos quatro candidatos (representados pelos números 1, 2, 3 e 4).\n",
        "- Também foram contabilizados os votos nulos (representado pelo número 5) e os votos em branco (representado pelo número 6).\n",
        "\n",
        "Ao final da votação, o programa deve exibir o total de votos para cada candidato, o número de votos nulos e o número de votos em branco. Além disso, deve calcular e exibir a porcentagem de votos nulos em relação ao total de votos e a porcentagem de votos em branco em relação ao total de votos."
      ],
      "metadata": {
        "id": "soJCQVwRJRdT"
      }
    },
    {
      "cell_type": "code",
      "source": [
        "cand_1 = 0\n",
        "cand_2 = 0\n",
        "cand_3 = 0\n",
        "cand_4 = 0\n",
        "nulo = 0\n",
        "branco = 0\n",
        "\n",
        "for i in range(1, 4):\n",
        "  num_cand = int(input('Digite o número do candidato: \\n1=José // 2=Maria // 3=Joana // 4=Arnaldo // 5=Nulo // 6=Branco: '))\n",
        "  while num_cand < 1 or num_cand > 6:\n",
        "    num_cand = int(input('Número inválido. Escolha entre as opções: \\n1=José // 2=Maria // 3=Joana // 4=Arnaldo // 5=Nulo // 6=Branco: '))\n",
        "  match num_cand:\n",
        "    case 1:\n",
        "      cand_1 += 1\n",
        "    case 2:\n",
        "      cand_2 += 1\n",
        "    case 3:\n",
        "      cand_3 += 1\n",
        "    case 4:\n",
        "      cand_4 += 1\n",
        "    case 5:\n",
        "      branco += 1\n",
        "    case 6:\n",
        "      nulo += 1\n",
        "print(f'O candidato José teve {cand_1} votos')\n",
        "print(f'O candidato Maria teve {cand_2} votos')\n",
        "print(f'O candidato Joana teve {cand_3} votos')\n",
        "print(f'O candidato Arnaldo teve {cand_4} votos')\n",
        "print(f'Brancos: {branco} votos')\n",
        "print(f'Nulos: {nulo} votos')\n"
      ],
      "metadata": {
        "id": "041EFrgG-4gR",
        "colab": {
          "base_uri": "https://localhost:8080/"
        },
        "outputId": "0d7a7564-665e-4c23-9b16-990f153c001d"
      },
      "execution_count": null,
      "outputs": [
        {
          "output_type": "stream",
          "name": "stdout",
          "text": [
            "Digite o número do candidato: \n",
            "1=José // 2=Maria // 3=Joana // 4=Arnaldo // 5=Nulo // 6=Branco: 7\n",
            "Número inválido. Escolha entre as opções: \n",
            "1=José // 2=Maria // 3=Joana // 4=Arnaldo // 5=Nulo // 6=Branco: 7\n",
            "Número inválido. Escolha entre as opções: \n",
            "1=José // 2=Maria // 3=Joana // 4=Arnaldo // 5=Nulo // 6=Branco: 8\n",
            "Número inválido. Escolha entre as opções: \n",
            "1=José // 2=Maria // 3=Joana // 4=Arnaldo // 5=Nulo // 6=Branco: 9\n",
            "Número inválido. Escolha entre as opções: \n",
            "1=José // 2=Maria // 3=Joana // 4=Arnaldo // 5=Nulo // 6=Branco: 5\n",
            "Digite o número do candidato: \n",
            "1=José // 2=Maria // 3=Joana // 4=Arnaldo // 5=Nulo // 6=Branco: 3\n",
            "Digite o número do candidato: \n",
            "1=José // 2=Maria // 3=Joana // 4=Arnaldo // 5=Nulo // 6=Branco: 4\n",
            "O candidato José teve 0 votos\n",
            "O candidato Maria teve 0 votos\n",
            "O candidato Joana teve 1 votos\n",
            "O candidato Arnaldo teve 1 votos\n",
            "Brancos: 1 votos\n",
            "Nulos: 0 votos\n"
          ]
        }
      ]
    },
    {
      "cell_type": "markdown",
      "source": [
        "## Aula 5 - Estruturas de dados"
      ],
      "metadata": {
        "id": "eijHQiNU2IZ7"
      }
    },
    {
      "cell_type": "markdown",
      "source": [
        "### Aquecendo na programação"
      ],
      "metadata": {
        "id": "92F0bKtBMgd7"
      }
    },
    {
      "cell_type": "markdown",
      "source": [
        "#### Questão 1\n",
        "Faça um programa que tenha a seguinte lista contendo os valores de gastos de uma empresa de papel `[2172.54, 3701.35, 3518.09, 3456.61, 3249.38, 2840.82, 3891.45, 3075.26, 2317.64, 3219.08]`. Com esses valores, faça um programa que calcule a média de gastos. Dica, use as funções built-in [`sum()`](https://docs.python.org/3/library/functions.html#sum) e [`len()`](https://docs.python.org/3/library/functions.html#len)."
      ],
      "metadata": {
        "id": "IypX2ANuMgeC"
      }
    },
    {
      "cell_type": "code",
      "source": [
        "# Dados de gastos\n",
        "gastos = [2172.54, 3701.35, 3518.09, 3456.61, 3249.38, 2840.82, 3891.45, 3075.26, 2317.64, 3219.08]\n",
        "\n",
        "total_gastos = sum(gastos)\n",
        "total_vendas = len(gastos)\n",
        "media = total_gastos / total_vendas\n",
        "print(media)\n"
      ],
      "metadata": {
        "id": "ge3LuFhLMgeD",
        "colab": {
          "base_uri": "https://localhost:8080/"
        },
        "outputId": "483aa092-e82c-4092-d0a2-4c420dee2ec9"
      },
      "execution_count": null,
      "outputs": [
        {
          "output_type": "stream",
          "name": "stdout",
          "text": [
            "3144.222\n"
          ]
        }
      ]
    },
    {
      "cell_type": "markdown",
      "source": [
        "#### Questão 2\n",
        " Com os mesmos dados da questão anterior, defina quantas compras foram acima de 3000 reais e calcule a porcentagem quanto ao total de compras."
      ],
      "metadata": {
        "id": "xrOeLhQkMgeD"
      }
    },
    {
      "cell_type": "code",
      "source": [
        "# Dados de gastos\n",
        "gastos = [2172.54, 3701.35, 3518.09, 3456.61, 3249.38, 2840.82, 3891.45, 3075.26, 2317.64, 3219.08]\n",
        "\n",
        "total_g = sum(gastos)\n",
        "qtd_vendas = len(gastos)\n",
        "\n",
        "contador = 0\n",
        "for i in gastos:\n",
        "  if i > 3000:\n",
        "    contador += 1\n",
        "perc = (contador / qtd_vendas) * 100\n",
        "print(f'A quantidade de vendas acimda de 3.000,00 foi de: {contador} vendas')\n",
        "print(f'Isso equivale a {perc}% das vendas')"
      ],
      "metadata": {
        "id": "Ygu5TMZyMgeD",
        "colab": {
          "base_uri": "https://localhost:8080/",
          "height": 140
        },
        "outputId": "fbd0a830-5232-42f3-ce06-0019c0e9c85a"
      },
      "execution_count": null,
      "outputs": [
        {
          "output_type": "stream",
          "name": "stdout",
          "text": [
            "A quantidade de vendas acimda de 3.000,00 foi de: 7\n",
            "Isso equivale a 70.0 das vendas\n"
          ]
        },
        {
          "output_type": "execute_result",
          "data": {
            "text/plain": [
              "\"\\n# Variável que vai contar quantas compras foram feitas acima de 3000\\ncontador_acima_3000 = 0\\n# Usamos o laço para ler a lista de gastos\\nfor gasto in gastos:\\n  # Verificamos se o elemento está acima de 3000\\n  if gasto > 3000:\\n    # Acrescentamos mais um no contador, caso tenha algum valor acima de 3000\\n    contador_acima_3000 += 1\\n\\n# Quantidade Compras\\n# Variável que vai ser utilizada para o cálculo da porcentagem\\nquantidade_compras = len(gastos)\\n\\n\\n# Com a contagem conseguimos calcular a porcentagem de valores acima de 3000 entre todas as compras\\nporcentagem_acima_3000 = 100 * (contador_acima_3000) / (quantidade_compras)\\n\\n# Resultado\\nprint(f'{contador_acima_3000} compras foram acima de R$3000,00.')\\nprint(f'{porcentagem_acima_3000}% dos gastos foram acima de R$3000,00.')\""
            ],
            "application/vnd.google.colaboratory.intrinsic+json": {
              "type": "string"
            }
          },
          "metadata": {},
          "execution_count": 14
        }
      ]
    },
    {
      "cell_type": "markdown",
      "source": [
        "#### Questão 3\n",
        "Faça um código que colete em uma lista 5 números inteiros quaisquer e imprima a lista. Exemplo: `[1,4,7,2,4]`."
      ],
      "metadata": {
        "id": "JgCOrE_BMgeD"
      }
    },
    {
      "cell_type": "code",
      "source": [
        "\n",
        "lista = []\n",
        "\n",
        "for i in range (1,6):\n",
        "  num = int(input(f'Digite o número {i}:'))\n",
        "  lista.append(num)\n",
        "print(f'Essa foi a lista criada:\\n{lista}')"
      ],
      "metadata": {
        "id": "vtM9O1hLMgeD",
        "colab": {
          "base_uri": "https://localhost:8080/"
        },
        "outputId": "6570e84e-33f4-4210-d6a4-4c82737631ca"
      },
      "execution_count": null,
      "outputs": [
        {
          "output_type": "stream",
          "name": "stdout",
          "text": [
            "Digite o número 1:2\n",
            "Digite o número 2:4\n",
            "Digite o número 3:6\n",
            "Digite o número 4:8\n",
            "Digite o número 5:10\n",
            "Essa foi a lista criada:\n",
            " [2, 4, 6, 8, 10]\n"
          ]
        }
      ]
    },
    {
      "cell_type": "markdown",
      "source": [
        "#### Questão 4\n",
        "Colete novamente 5 inteiros e imprima a lista em ordem inversa à enviada."
      ],
      "metadata": {
        "id": "p3bTp88HMgeD"
      }
    },
    {
      "cell_type": "code",
      "source": [
        "lista = []\n",
        "\n",
        "for i in range (1, 6):\n",
        "  num = int(input(f'Digite o número {i}:'))\n",
        "  lista.append(num)\n",
        "lista_inv = lista[::-1]\n",
        "print(lista_inv)\n",
        "\n"
      ],
      "metadata": {
        "id": "-CGwMIyHMgeD",
        "colab": {
          "base_uri": "https://localhost:8080/"
        },
        "outputId": "68cb0db1-e8d2-4061-c533-c40c19c4c780"
      },
      "execution_count": null,
      "outputs": [
        {
          "output_type": "stream",
          "name": "stdout",
          "text": [
            "Digite o número 1:1\n",
            "Digite o número 2:3\n",
            "Digite o número 3:5\n",
            "Digite o número 4:7\n",
            "Digite o número 5:9\n",
            "[9, 7, 5, 3, 1]\n"
          ]
        }
      ]
    },
    {
      "cell_type": "markdown",
      "source": [
        "#### Questão 5\n",
        "Faça um programa que, ao inserir um número qualquer, criará uma lista contendo todos os números primos entre 1 e o número digitado."
      ],
      "metadata": {
        "id": "eIXd_z1lMgeD"
      }
    },
    {
      "cell_type": "code",
      "source": [
        "\n",
        "lista = []\n",
        "\n",
        "num = int(input('Digite o número desejado para verificar se é primo:'))\n",
        "\n",
        "for i in range(2, num):\n",
        "  primo = True\n",
        "  for teste_div in range(2, i):\n",
        "    if i % teste_div == 0:\n",
        "      primo = False\n",
        "      break\n",
        "  if primo:\n",
        "    lista.append(i)\n",
        "print(lista)\n",
        "'''\n",
        "\n"
      ],
      "metadata": {
        "id": "rj_6GHstMgeE",
        "colab": {
          "base_uri": "https://localhost:8080/",
          "height": 140
        },
        "outputId": "c170669c-6d98-4919-c50a-7f6bef387715"
      },
      "execution_count": null,
      "outputs": [
        {
          "output_type": "stream",
          "name": "stdout",
          "text": [
            "Digite o número desejado para verificar se é primo:7\n",
            "[2, 3, 5]\n"
          ]
        },
        {
          "output_type": "execute_result",
          "data": {
            "text/plain": [
              "\"\\n\\n# Coletamos o números\\nnumero = int(input('Digite um número inteiro: '))\\n# Lista para receber os números primos\\nlista_primos = []\\n# Laço que vai rodar por todos os números abaixo do número digitado\\nfor num in range(2, numero):\\n  # Primo é uma bandeira, ela permite sabermos se o valor analisado é ou não primo\\n  primo = True \\n  # Testamos se todos os números abaixo do especificado no primeiro laço podem\\n  # gerar uma divisão exata\\n  for teste_divisiveis in range(2, num):\\n    if num % teste_divisiveis == 0:\\n      # Caso seja divisivel por algum número entendemos que \\n      # o num não é primo e finalizamos o laço interno com break\\n      primo = False\\n      break\\n  # A condição se torna o resultado booleno de primo: False, ignoramos o condicional\\n  # True, executamos o bloco do if\\n  if primo:\\n    lista_primos.append(num)\\n# Resultado\\nprint(f'Lista de números primos: {lista_primos}')\\n\\n\\n\""
            ],
            "application/vnd.google.colaboratory.intrinsic+json": {
              "type": "string"
            }
          },
          "metadata": {},
          "execution_count": 48
        }
      ]
    },
    {
      "cell_type": "markdown",
      "source": [
        "#### Questão 6\n",
        "Escreva um programa que peça uma data informando o dia, mês e ano e determine se ela é uma data válida para uma análise."
      ],
      "metadata": {
        "id": "zrbz3ENlMgeE"
      }
    },
    {
      "cell_type": "code",
      "source": [
        "dia = int(input('digite o dia:'))\n",
        "mes = int(input('digite o mes:'))\n",
        "ano = int(input('digite o ano:'))\n",
        "\n",
        "\n",
        "if 0 < dia < 31:\n",
        "\n"
      ],
      "metadata": {
        "id": "0eYA8UjTMgeE"
      },
      "execution_count": null,
      "outputs": []
    },
    {
      "cell_type": "markdown",
      "source": [
        "### Momento dos projetos"
      ],
      "metadata": {
        "id": "ut_4VHdGMgeE"
      }
    },
    {
      "cell_type": "markdown",
      "source": [
        "#### Questão 7\n",
        "Para um estudo envolvendo o nível de multiplicação de bactérias em uma colônia, foi coletado o número de bactérias multiplicadas por dia, com base em um processo de duplicação diária e pode ser observado a seguir: `[1.2, 2.1, 3.3, 5.0, 7.8, 11.3, 16.6, 25.1, 37.8, 56.9]`. Tendo esses valores, faça um código que gere uma lista contendo o percentual de crescimento de bactérias por dia, comparando o número de bactérias em cada dia com o número de bactérias do dia anterior. Dica: para calcular o percentual de crescimento usamos a seguinte equação: `100 * (amostra_atual - amostra_passada) / (amostra_passada)`."
      ],
      "metadata": {
        "id": "G86Z0vD_MgeE"
      }
    },
    {
      "cell_type": "code",
      "source": [],
      "metadata": {
        "id": "PXNO_CFkMgeE"
      },
      "execution_count": null,
      "outputs": []
    },
    {
      "cell_type": "markdown",
      "source": [
        "#### Questão 8\n",
        "Para uma seleção de produtos alimentícios, precisamos separar o conjunto de IDs dados por números inteiros, sabendo que os produtos com ID par são doces e os com ID ímpar são amargos. Monte um código que colete 10 IDs. Depois, calcule e mostre a quantidade de produtos doces e amargos."
      ],
      "metadata": {
        "id": "p4nxogpnMgeE"
      }
    },
    {
      "cell_type": "code",
      "source": [],
      "metadata": {
        "id": "WqjO2SZkMgeE"
      },
      "execution_count": null,
      "outputs": []
    },
    {
      "cell_type": "markdown",
      "source": [
        "#### Questão 9\n",
        "Desenvolva um programa que informa a nota de um aluno de acordo com suas respostas. Ele deve pedir a resposta de um aluno para cada questão e é preciso verificar se a resposta foi igual ao gabarito. Cada questão vale um ponto e existem alternativas:  A, B, C ou D.\n",
        "```\n",
        "Gabarito da Prova:\n",
        "01 - D\n",
        "02 - A\n",
        "03 - C\n",
        "04 - B\n",
        "05 - A\n",
        "06 - D\n",
        "07 - C\n",
        "08 - C\n",
        "09 - A\n",
        "10 - B\n",
        "```"
      ],
      "metadata": {
        "id": "t5OrLxV6MgeE"
      }
    },
    {
      "cell_type": "code",
      "source": [],
      "metadata": {
        "id": "ytIQDJrQMgeE"
      },
      "execution_count": null,
      "outputs": []
    },
    {
      "cell_type": "markdown",
      "source": [
        "#### Questão 10\n",
        "Um instituto de meteorologia deseja fazer um estudo de temperatura média de cada mês do ano. Para isso, você precisa fazer um código que colete e armazene essas temperaturas médias em uma lista. Depois, calcule a média anual das temperaturas e mostre todas as temperaturas acima da média anual, e em que mês elas ocorreram, mostrando os meses por extenso: Janeiro, Fevereiro, etc."
      ],
      "metadata": {
        "id": "aSBMzh-AMgeF"
      }
    },
    {
      "cell_type": "code",
      "source": [],
      "metadata": {
        "id": "ftj04s2uMgeF"
      },
      "execution_count": null,
      "outputs": []
    },
    {
      "cell_type": "markdown",
      "source": [
        "#### Questão 11\n",
        "Uma empresa de e-commerce está interessada em analisar as vendas dos seus produtos. Os dados das vendas foram armazenados em um dicionário:\n",
        "```\n",
        "{'Produto A': 300, 'Produto B': 80, 'Produto C': 60,\n",
        " 'Produto D': 200, 'Produto E': 250, 'Produto F': 30}\n",
        "```\n",
        "Escreva um código que calcule o total de vendas e o produto mais vendido."
      ],
      "metadata": {
        "id": "0X8S6s4jMgeF"
      }
    },
    {
      "cell_type": "code",
      "source": [],
      "metadata": {
        "id": "Xa3DJLtFMgeF"
      },
      "execution_count": null,
      "outputs": []
    },
    {
      "cell_type": "markdown",
      "source": [
        "#### Questão 12\n",
        "Uma pesquisa de mercado foi feita para decidir qual design de uma marca infantil mais agrada crianças. A pesquisa foi feita e o votos computados podem ser observados abaixo:\n",
        "```\n",
        "'''\n",
        "Tabela de votos da marca\n",
        "Design 1 - 1334 votos\n",
        "Design 2 - 982 votos\n",
        "Design 3 - 1751 votos\n",
        "Design 4 - 210 votos\n",
        "Design 5 - 1811 votos\n",
        "'''\n",
        "```\n",
        "Adapte os dados fornecidos a você para uma estrutura de dicionário e a partir dele, informe o design vencedor e a porcentagem de votos recebidos.\n"
      ],
      "metadata": {
        "id": "nrEwf_1ZMgeF"
      }
    },
    {
      "cell_type": "code",
      "source": [],
      "metadata": {
        "id": "MRPcGR-_MgeF"
      },
      "execution_count": null,
      "outputs": []
    },
    {
      "cell_type": "markdown",
      "source": [
        "#### Questão 13\n",
        "Os funcionários de um setor da empresa que você trabalha vão receber um abono correspondente a 10% do seu salário devido ao ótimo desempenho do time. O setor financeiro solicitou sua ajuda para a verificação das consequências financeiras que esse abono irá gerar nos recursos. Assim, foi encaminhada para você uma lista com os salários que receberão o abono: `[1172, 1644, 2617, 5130, 5532, 6341, 6650, 7238, 7685, 7782, 7903]`. O abono de cada funcionário não pode ser inferior a 200. Em código, transforme cada um dos salários em chaves de um dicionário e o abono de cada salário no elemento. Depois, informe o total de gastos com o abono, quantos funcionários receberam o abono mínimo e qual o maior valor de abono fornecido.\n"
      ],
      "metadata": {
        "id": "HRTFFzKIMgeF"
      }
    },
    {
      "cell_type": "code",
      "source": [],
      "metadata": {
        "id": "QsDSCua42bLB"
      },
      "execution_count": null,
      "outputs": []
    },
    {
      "cell_type": "markdown",
      "source": [
        "#### Questão 14\n",
        "Uma equipe de cientistas de dados está estudando a diversidade biológica em uma floresta. A equipe fez a coleta de informações sobre o número de espécies de plantas e animais em cada área da floresta e armazenaram essas informações em um dicionário. Nele, a chave descreve a área dos dados e os valores nas listas correspondem às espécies de plantas e animais nas áreas, respectivamente.\n",
        "```\n",
        "{'Área Norte': [2819, 7236],\n",
        " 'Área Leste': [1440, 9492],\n",
        " 'Área Sul': [5969, 7496],\n",
        " 'Área Oeste': [14446, 49688],\n",
        " 'Área Centro': [22558, 45148]}\n",
        "```\n",
        "Escreva um código para calcular a média de espécies por área e identificar a área com a maior diversidade biológica. Dica: use as funções built-in [`sum()`](https://docs.python.org/3/library/functions.html#sum) e [`len()`](https://docs.python.org/3/library/functions.html#len).\n"
      ],
      "metadata": {
        "id": "6dEXZEwjMlWy"
      }
    },
    {
      "cell_type": "code",
      "source": [],
      "metadata": {
        "id": "eQnOUDfYMlWy"
      },
      "execution_count": null,
      "outputs": []
    },
    {
      "cell_type": "markdown",
      "source": [
        "#### Questão 15\n",
        "O setor de RH da sua empresa te pediu uma ajuda para analisar as idades dos funcionários de 4 setores da empresa. Para isso, ele te forneceu os seguintes dados:\n",
        "```\n",
        "{'Setor A': [22, 26, 30, 30, 35, 38, 40, 56, 57, 65],\n",
        " 'Setor B': [22, 24, 26, 33, 41, 49, 50, 54, 60, 64],\n",
        " 'Setor C': [23, 26, 26, 29, 34, 35, 36, 41, 52, 56],\n",
        " 'Setor D': [19, 20, 25, 27, 34, 39, 42, 44, 50, 65]}\n",
        "```\n",
        "Sabendo que cada setor tem 10 funcionários, construa um código que calcule a média de idade de cada setor, a idade média geral entre todos os setores e quantas pessoas estão acima da idade média geral.\n"
      ],
      "metadata": {
        "id": "r0RW2Sy_MlWy"
      }
    },
    {
      "cell_type": "code",
      "source": [],
      "metadata": {
        "id": "wCiwyKP3MmTz"
      },
      "execution_count": null,
      "outputs": []
    }
  ]
}